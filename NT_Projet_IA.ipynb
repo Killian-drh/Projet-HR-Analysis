{
 "cells": [
  {
   "cell_type": "markdown",
   "id": "organized-proposal",
   "metadata": {},
   "source": [
    "# IA for HumanForYou\n",
    "\n",
    "L'entreprise de produits pharmaceutiques HumanForYou basée en Inde emploie environ 4000 personnes. Cependant, chaque année elle subit un turn-over d'environ 15% de ses employés nécessitant de retrouver des profils similaires sur le marché de l'emploi.\n",
    "\n",
    "La direction trouve que ce niveau de turn-over n'est pas bon pour l'entreprise car :\n",
    "\n",
    "* Les projets sur lesquels étaient les employés quittant la société prennent du retard ce qui nuit à la réputation de l'entreprise auprès de ses clients et partenaires.\n",
    "\n",
    "* Un service de ressources humaines de taille conséquente doit être conservé car il faut avoir les moyens de trouver les nouvelles recrues.\n",
    "\n",
    "* Du temps est perdu à l'arrivée des nouveaux employés car ils doivent très souvent être formés et ont besoin de temps pour devenir pleinement opérationnels dans leur nouvel environnement.\n",
    "\n",
    "Le direction fait donc appel à vous, spécialistes de l'analyse de données, pour déterminer les facteurs ayant le plus d'influence sur ce taux de turn-over et lui proposer des modèles afin d'avoir des pistes d'amélioration pour donner à leurs employés l'envie de rester.\n",
    "\n",
    "### Données fournies\n",
    "\n",
    "Un certain nombre de données concernant les employés vous a donc été transmis par le service des ressources humaines.\n",
    "\n",
    "Il s'agit de fichiers textes au format CSV.\n",
    "\n",
    "Les données ont été anonymisées : un employé de l'entreprise sera représenté par le même EmployeeID dans l'ensemble des fichiers qui suivent.\n",
    "\n",
    "### Données du service des ressources humaines\n",
    "\n",
    "Pour chaque employé, le service des ressources humaines vous confie les informations en sa possession :\n",
    "\n",
    " - Age : L'âge de l'employé en 2015.\n",
    "\n",
    " - Attrition : L'objet de notre étude, est-ce que l'employé a quitté l'entreprise durant l'année 2016 ?\n",
    "\n",
    " - BusinessTravel : A quel fréquence l'employé a été amené à se déplacer dans le cadre de son travail en 2015 ? (Non-Travel = jamais, Travel_Rarely= rarement, Travel_Frequently = fréquemment)\n",
    "\n",
    " - DistanceFromHome : Distance en km entre le logement de l'employé et l'entreprise.\n",
    "\n",
    " - Education : Niveau d'étude : 1=Avant College (équivalent niveau Bac), 2=College (équivalent Bac+2), 3=Bachelor (Bac+3), 4=Master (Bac+5) et 5=PhD (Thèse de doctorat).\n",
    "\n",
    " - EducationField : Domaine d'étude, matière principale\n",
    "\n",
    " - EmployeeCount : booléen à 1 si l'employé était compté dans les effectifs en 2015.\n",
    "\n",
    " - EmployeeId : l'identifiant d'un employé\n",
    "\n",
    " - Gender : Sexe de l'employé\n",
    "\n",
    " - JobLevel : Niveau hiérarchique dans l'entreprise de 1 à 5\n",
    "\n",
    " - JobRole : Métier dans l'entreprise\n",
    "\n",
    " - MaritalStatus : Statut marital du salarié (Célibataire, Marié ou Divorcé).\n",
    "\n",
    " - MonthlyIncome : Salaire brut en roupies par mois\n",
    "\n",
    " - NumCompaniesWorked : Nombre d'entreprises pour lequel le salarié a travaillé avant de rejoindre HumanForYou.\n",
    "\n",
    " - Over18 : Est-ce que le salarié a plus de 18 ans ou non ?\n",
    "\n",
    " - PercentSalaryHike : % d'augmentation du salaire en 2015.\n",
    "\n",
    " - StandardHours : Nombre d'heures par jour dans le contrat du salarié.\n",
    "\n",
    " - StockOptionLevel : Niveau d'investissement en actions de l'entreprise par le salarié.\n",
    "\n",
    " - TotalWorkingYears : Nombre d'années d'expérience en entreprise du salarié pour le même type de poste.\n",
    "\n",
    " - TrainingTimesLastYear : Nombre de jours de formation en 2015\n",
    "\n",
    " - YearsAtCompany : Ancienneté dans l'entreprise\n",
    "\n",
    " - YearsSinceLastPromotion : Nombre d'années depuis la dernière augmentation individuelle\n",
    "\n",
    " - YearsWithCurrentManager : Nombre d'années de collaboration sous la responsabilité du manager actuel de l'employé."
   ]
  },
  {
   "cell_type": "markdown",
   "id": "lesser-kazakhstan",
   "metadata": {},
   "source": [
    "### Importation des données utiles "
   ]
  },
  {
   "cell_type": "code",
   "execution_count": 1,
   "id": "cellular-commissioner",
   "metadata": {},
   "outputs": [],
   "source": [
    "import os\n",
    "import tarfile\n",
    "import zipfile\n",
    "import urllib.request\n",
    "from six.moves import urllib\n",
    "\n",
    "import pandas as pd\n",
    "import numpy as np\n",
    "from numpy.random import default_rng\n",
    "# stabilité du notebook d'une exécution à l'autre\n",
    "random=default_rng(42) \n",
    "\n",
    "import matplotlib\n",
    "import matplotlib.pyplot as plt\n",
    "import seaborn as sns\n",
    "\n",
    "from sklearn.model_selection import StratifiedShuffleSplit\n",
    "from sklearn.pipeline import make_pipeline\n",
    "from sklearn.impute import SimpleImputer\n",
    "from sklearn.preprocessing import OneHotEncoder\n",
    "from sklearn.preprocessing import StandardScaler\n",
    "from sklearn.compose import make_column_selector\n",
    "from sklearn.compose import make_column_transformer\n",
    "from sklearn.model_selection import train_test_split\n",
    "from sklearn.model_selection import GridSearchCV, RandomizedSearchCV, validation_curve\n",
    "from sklearn import metrics\n",
    "from sklearn.metrics import confusion_matrix\n",
    "\n",
    "from sklearn.neighbors import KNeighborsClassifier\n",
    "from sklearn.linear_model import SGDClassifier, LogisticRegression\n",
    "from sklearn.ensemble import RandomForestClassifier\n",
    "from sklearn import svm\n",
    "from sklearn.svm import LinearSVC"
   ]
  },
  {
   "cell_type": "code",
   "execution_count": 2,
   "id": "billion-sheriff",
   "metadata": {},
   "outputs": [
    {
     "name": "stdout",
     "output_type": "stream",
     "text": [
      "Process succeed\n"
     ]
    }
   ],
   "source": [
    "DOWNLOAD_ROOT = \"https://github.com/Killian-drh/Projet-IA/raw/main/datasets/inoutime/\"\n",
    "INOUTPATH = os.path.join(\"datasets\", \"inoutime\")\n",
    "DATA_PATH = \"./datasets/\"\n",
    "INOUTIME_URL = DOWNLOAD_ROOT + \"in_out_time.zip\"\n",
    "\n",
    "def check_image_folder():\n",
    "    if not os.path.exists(\"./images/\"):\n",
    "        os.makedirs(\"./images/\")\n",
    "        os.makedirs(\"./images/workflowDS/\")\n",
    "        print (\"Images and workflowDS folder has been created\")\n",
    "    elif os.path.exists(\"./images/\"):\n",
    "        if not os.path.exists(\"./images/workflowDS/\"):\n",
    "            os.makedirs(\"./images/workflowDS/\")\n",
    "            print (\"WorkflowDS folder has been created\")\n",
    "\n",
    "\n",
    "def fetch_inoutime_data(inoutime_url=INOUTIME_URL, data_path=INOUTPATH):\n",
    "    in_out_time_check = data_path + \"/in_out_time.zip\"\n",
    "    \n",
    "    if not os.path.isdir(data_path):\n",
    "        os.makedirs(data_path)\n",
    "    \n",
    "    if not os.path.exists(in_out_time_check):\n",
    "        # Download in_out_time.zip from repo github\n",
    "        zip_path = os.path.join(data_path, \"in_out_time.zip\")\n",
    "        urllib.request.urlretrieve(inoutime_url, zip_path)    \n",
    "        print (\"Download Succeed !\")\n",
    "\n",
    "    # specifying the zip file name \n",
    "    file_name = './datasets/inoutime/in_out_time.zip'\n",
    "    \n",
    "    in_time_check = os.path.exists(\"./datasets/inoutime/in_time.csv\")\n",
    "    out_time_check = os.path.exists(\"./datasets/inoutime/out_time.csv\")\n",
    "    \n",
    "    if in_time_check==False or out_time_check==False: \n",
    "    # opening the zip file in READ mode \n",
    "        with zipfile.ZipFile(file_name, 'r') as zip: \n",
    "          #  printing all the contents of the zip file \n",
    "            zip.printdir() \n",
    "  \n",
    "        # extracting all the files \n",
    "            print('Extracting all the files now...') \n",
    "            zip.extractall(data_path) \n",
    "            print('Done!') \n",
    "            \n",
    "    print(\"Process succeed\")\n",
    "    \n",
    "check_image_folder()\n",
    "fetch_inoutime_data()\n",
    "\n",
    "def load_data(file, data_path=DATA_PATH):\n",
    "    csv_path = os.path.join(data_path, file)\n",
    "    return pd.read_csv(csv_path)\n",
    "\n",
    "general_data = load_data(\"general_data.csv\")\n",
    "manager_survey_data = load_data(\"manager_survey_data.csv\")\n",
    "employee_survey_data = load_data(\"employee_survey_data.csv\")\n",
    "intime_data = pd.read_csv(\"./datasets/inoutime/in_time.csv\")\n",
    "outtime_data = pd.read_csv(\"./datasets/inoutime/out_time.csv\")"
   ]
  },
  {
   "cell_type": "markdown",
   "id": "random-anxiety",
   "metadata": {},
   "source": [
    "### Fusion des DataFrame"
   ]
  },
  {
   "cell_type": "code",
   "execution_count": 3,
   "id": "perfect-penalty",
   "metadata": {},
   "outputs": [
    {
     "name": "stdout",
     "output_type": "stream",
     "text": [
      "(4410, 24) (4410, 3) (4410, 4)\n",
      "['EmployeeID', 'JobInvolvement', 'PerformanceRating']\n",
      "['EmployeeID', 'EnvironmentSatisfaction', 'JobSatisfaction', 'WorkLifeBalance']\n"
     ]
    }
   ],
   "source": [
    "print(general_data.shape ,  manager_survey_data.shape ,  employee_survey_data.shape)\n",
    "print(manager_survey_data.columns.tolist())\n",
    "print(employee_survey_data.columns.tolist())"
   ]
  },
  {
   "cell_type": "markdown",
   "id": "prospective-display",
   "metadata": {},
   "source": [
    "### Calcul du temps moyen d'un employé passé au travail"
   ]
  },
  {
   "cell_type": "code",
   "execution_count": 4,
   "id": "naughty-uncle",
   "metadata": {},
   "outputs": [
    {
     "data": {
      "text/html": [
       "<div>\n",
       "<style scoped>\n",
       "    .dataframe tbody tr th:only-of-type {\n",
       "        vertical-align: middle;\n",
       "    }\n",
       "\n",
       "    .dataframe tbody tr th {\n",
       "        vertical-align: top;\n",
       "    }\n",
       "\n",
       "    .dataframe thead th {\n",
       "        text-align: right;\n",
       "    }\n",
       "</style>\n",
       "<table border=\"1\" class=\"dataframe\">\n",
       "  <thead>\n",
       "    <tr style=\"text-align: right;\">\n",
       "      <th></th>\n",
       "      <th>Unnamed: 0</th>\n",
       "      <th>2015-01-01</th>\n",
       "      <th>2015-01-02</th>\n",
       "      <th>2015-01-05</th>\n",
       "      <th>2015-01-06</th>\n",
       "      <th>2015-01-07</th>\n",
       "      <th>2015-01-08</th>\n",
       "      <th>2015-01-09</th>\n",
       "      <th>2015-01-12</th>\n",
       "      <th>2015-01-13</th>\n",
       "      <th>...</th>\n",
       "      <th>2015-12-18</th>\n",
       "      <th>2015-12-21</th>\n",
       "      <th>2015-12-22</th>\n",
       "      <th>2015-12-23</th>\n",
       "      <th>2015-12-24</th>\n",
       "      <th>2015-12-25</th>\n",
       "      <th>2015-12-28</th>\n",
       "      <th>2015-12-29</th>\n",
       "      <th>2015-12-30</th>\n",
       "      <th>2015-12-31</th>\n",
       "    </tr>\n",
       "  </thead>\n",
       "  <tbody>\n",
       "    <tr>\n",
       "      <th>0</th>\n",
       "      <td>1</td>\n",
       "      <td>NaN</td>\n",
       "      <td>2015-01-02 09:43:45</td>\n",
       "      <td>2015-01-05 10:08:48</td>\n",
       "      <td>2015-01-06 09:54:26</td>\n",
       "      <td>2015-01-07 09:34:31</td>\n",
       "      <td>2015-01-08 09:51:09</td>\n",
       "      <td>2015-01-09 10:09:25</td>\n",
       "      <td>2015-01-12 09:42:53</td>\n",
       "      <td>2015-01-13 10:13:06</td>\n",
       "      <td>...</td>\n",
       "      <td>NaN</td>\n",
       "      <td>2015-12-21 09:55:29</td>\n",
       "      <td>2015-12-22 10:04:06</td>\n",
       "      <td>2015-12-23 10:14:27</td>\n",
       "      <td>2015-12-24 10:11:35</td>\n",
       "      <td>NaN</td>\n",
       "      <td>2015-12-28 10:13:41</td>\n",
       "      <td>2015-12-29 10:03:36</td>\n",
       "      <td>2015-12-30 09:54:12</td>\n",
       "      <td>2015-12-31 10:12:44</td>\n",
       "    </tr>\n",
       "    <tr>\n",
       "      <th>1</th>\n",
       "      <td>2</td>\n",
       "      <td>NaN</td>\n",
       "      <td>2015-01-02 10:15:44</td>\n",
       "      <td>2015-01-05 10:21:05</td>\n",
       "      <td>NaN</td>\n",
       "      <td>2015-01-07 09:45:17</td>\n",
       "      <td>2015-01-08 10:09:04</td>\n",
       "      <td>2015-01-09 09:43:26</td>\n",
       "      <td>2015-01-12 10:00:07</td>\n",
       "      <td>2015-01-13 10:43:29</td>\n",
       "      <td>...</td>\n",
       "      <td>2015-12-18 10:37:17</td>\n",
       "      <td>2015-12-21 09:49:02</td>\n",
       "      <td>2015-12-22 10:33:51</td>\n",
       "      <td>2015-12-23 10:12:10</td>\n",
       "      <td>NaN</td>\n",
       "      <td>NaN</td>\n",
       "      <td>2015-12-28 09:31:45</td>\n",
       "      <td>2015-12-29 09:55:49</td>\n",
       "      <td>2015-12-30 10:32:25</td>\n",
       "      <td>2015-12-31 09:27:20</td>\n",
       "    </tr>\n",
       "    <tr>\n",
       "      <th>2</th>\n",
       "      <td>3</td>\n",
       "      <td>NaN</td>\n",
       "      <td>2015-01-02 10:17:41</td>\n",
       "      <td>2015-01-05 09:50:50</td>\n",
       "      <td>2015-01-06 10:14:13</td>\n",
       "      <td>2015-01-07 09:47:27</td>\n",
       "      <td>2015-01-08 10:03:40</td>\n",
       "      <td>2015-01-09 10:05:49</td>\n",
       "      <td>2015-01-12 10:03:47</td>\n",
       "      <td>2015-01-13 10:21:26</td>\n",
       "      <td>...</td>\n",
       "      <td>2015-12-18 10:15:14</td>\n",
       "      <td>2015-12-21 10:10:28</td>\n",
       "      <td>2015-12-22 09:44:44</td>\n",
       "      <td>2015-12-23 10:15:54</td>\n",
       "      <td>2015-12-24 10:07:26</td>\n",
       "      <td>NaN</td>\n",
       "      <td>2015-12-28 09:42:05</td>\n",
       "      <td>2015-12-29 09:43:36</td>\n",
       "      <td>2015-12-30 09:34:05</td>\n",
       "      <td>2015-12-31 10:28:39</td>\n",
       "    </tr>\n",
       "    <tr>\n",
       "      <th>3</th>\n",
       "      <td>4</td>\n",
       "      <td>NaN</td>\n",
       "      <td>2015-01-02 10:05:06</td>\n",
       "      <td>2015-01-05 09:56:32</td>\n",
       "      <td>2015-01-06 10:11:07</td>\n",
       "      <td>2015-01-07 09:37:30</td>\n",
       "      <td>2015-01-08 10:02:08</td>\n",
       "      <td>2015-01-09 10:08:12</td>\n",
       "      <td>2015-01-12 10:13:42</td>\n",
       "      <td>2015-01-13 09:53:22</td>\n",
       "      <td>...</td>\n",
       "      <td>2015-12-18 10:17:38</td>\n",
       "      <td>2015-12-21 09:58:21</td>\n",
       "      <td>2015-12-22 10:04:25</td>\n",
       "      <td>2015-12-23 10:11:46</td>\n",
       "      <td>2015-12-24 09:43:15</td>\n",
       "      <td>NaN</td>\n",
       "      <td>2015-12-28 09:52:44</td>\n",
       "      <td>2015-12-29 09:33:16</td>\n",
       "      <td>2015-12-30 10:18:12</td>\n",
       "      <td>2015-12-31 10:01:15</td>\n",
       "    </tr>\n",
       "    <tr>\n",
       "      <th>4</th>\n",
       "      <td>5</td>\n",
       "      <td>NaN</td>\n",
       "      <td>2015-01-02 10:28:17</td>\n",
       "      <td>2015-01-05 09:49:58</td>\n",
       "      <td>2015-01-06 09:45:28</td>\n",
       "      <td>2015-01-07 09:49:37</td>\n",
       "      <td>2015-01-08 10:19:44</td>\n",
       "      <td>2015-01-09 10:00:50</td>\n",
       "      <td>2015-01-12 10:29:27</td>\n",
       "      <td>2015-01-13 09:59:32</td>\n",
       "      <td>...</td>\n",
       "      <td>2015-12-18 09:58:35</td>\n",
       "      <td>2015-12-21 10:03:41</td>\n",
       "      <td>2015-12-22 10:10:30</td>\n",
       "      <td>2015-12-23 10:13:36</td>\n",
       "      <td>2015-12-24 09:44:24</td>\n",
       "      <td>NaN</td>\n",
       "      <td>2015-12-28 10:05:15</td>\n",
       "      <td>2015-12-29 10:30:53</td>\n",
       "      <td>2015-12-30 09:18:21</td>\n",
       "      <td>2015-12-31 09:41:09</td>\n",
       "    </tr>\n",
       "  </tbody>\n",
       "</table>\n",
       "<p>5 rows × 262 columns</p>\n",
       "</div>"
      ],
      "text/plain": [
       "   Unnamed: 0  2015-01-01           2015-01-02           2015-01-05  \\\n",
       "0           1         NaN  2015-01-02 09:43:45  2015-01-05 10:08:48   \n",
       "1           2         NaN  2015-01-02 10:15:44  2015-01-05 10:21:05   \n",
       "2           3         NaN  2015-01-02 10:17:41  2015-01-05 09:50:50   \n",
       "3           4         NaN  2015-01-02 10:05:06  2015-01-05 09:56:32   \n",
       "4           5         NaN  2015-01-02 10:28:17  2015-01-05 09:49:58   \n",
       "\n",
       "            2015-01-06           2015-01-07           2015-01-08  \\\n",
       "0  2015-01-06 09:54:26  2015-01-07 09:34:31  2015-01-08 09:51:09   \n",
       "1                  NaN  2015-01-07 09:45:17  2015-01-08 10:09:04   \n",
       "2  2015-01-06 10:14:13  2015-01-07 09:47:27  2015-01-08 10:03:40   \n",
       "3  2015-01-06 10:11:07  2015-01-07 09:37:30  2015-01-08 10:02:08   \n",
       "4  2015-01-06 09:45:28  2015-01-07 09:49:37  2015-01-08 10:19:44   \n",
       "\n",
       "            2015-01-09           2015-01-12           2015-01-13  ...  \\\n",
       "0  2015-01-09 10:09:25  2015-01-12 09:42:53  2015-01-13 10:13:06  ...   \n",
       "1  2015-01-09 09:43:26  2015-01-12 10:00:07  2015-01-13 10:43:29  ...   \n",
       "2  2015-01-09 10:05:49  2015-01-12 10:03:47  2015-01-13 10:21:26  ...   \n",
       "3  2015-01-09 10:08:12  2015-01-12 10:13:42  2015-01-13 09:53:22  ...   \n",
       "4  2015-01-09 10:00:50  2015-01-12 10:29:27  2015-01-13 09:59:32  ...   \n",
       "\n",
       "            2015-12-18           2015-12-21           2015-12-22  \\\n",
       "0                  NaN  2015-12-21 09:55:29  2015-12-22 10:04:06   \n",
       "1  2015-12-18 10:37:17  2015-12-21 09:49:02  2015-12-22 10:33:51   \n",
       "2  2015-12-18 10:15:14  2015-12-21 10:10:28  2015-12-22 09:44:44   \n",
       "3  2015-12-18 10:17:38  2015-12-21 09:58:21  2015-12-22 10:04:25   \n",
       "4  2015-12-18 09:58:35  2015-12-21 10:03:41  2015-12-22 10:10:30   \n",
       "\n",
       "            2015-12-23           2015-12-24 2015-12-25           2015-12-28  \\\n",
       "0  2015-12-23 10:14:27  2015-12-24 10:11:35        NaN  2015-12-28 10:13:41   \n",
       "1  2015-12-23 10:12:10                  NaN        NaN  2015-12-28 09:31:45   \n",
       "2  2015-12-23 10:15:54  2015-12-24 10:07:26        NaN  2015-12-28 09:42:05   \n",
       "3  2015-12-23 10:11:46  2015-12-24 09:43:15        NaN  2015-12-28 09:52:44   \n",
       "4  2015-12-23 10:13:36  2015-12-24 09:44:24        NaN  2015-12-28 10:05:15   \n",
       "\n",
       "            2015-12-29           2015-12-30           2015-12-31  \n",
       "0  2015-12-29 10:03:36  2015-12-30 09:54:12  2015-12-31 10:12:44  \n",
       "1  2015-12-29 09:55:49  2015-12-30 10:32:25  2015-12-31 09:27:20  \n",
       "2  2015-12-29 09:43:36  2015-12-30 09:34:05  2015-12-31 10:28:39  \n",
       "3  2015-12-29 09:33:16  2015-12-30 10:18:12  2015-12-31 10:01:15  \n",
       "4  2015-12-29 10:30:53  2015-12-30 09:18:21  2015-12-31 09:41:09  \n",
       "\n",
       "[5 rows x 262 columns]"
      ]
     },
     "execution_count": 4,
     "metadata": {},
     "output_type": "execute_result"
    }
   ],
   "source": [
    "## CODE achille\n",
    "intime_data.head()"
   ]
  },
  {
   "cell_type": "code",
   "execution_count": 5,
   "id": "hearing-gnome",
   "metadata": {},
   "outputs": [
    {
     "data": {
      "text/plain": [
       "(4410, 262)"
      ]
     },
     "execution_count": 5,
     "metadata": {},
     "output_type": "execute_result"
    }
   ],
   "source": [
    "intime_data.shape\n"
   ]
  },
  {
   "cell_type": "code",
   "execution_count": 6,
   "id": "intimate-radio",
   "metadata": {},
   "outputs": [],
   "source": [
    "intime_data=intime_data.replace(np.nan, 0)"
   ]
  },
  {
   "cell_type": "code",
   "execution_count": 7,
   "id": "postal-toyota",
   "metadata": {
    "scrolled": true
   },
   "outputs": [],
   "source": [
    "intime_data.iloc[:, 1:] = intime_data.iloc[:, 1:].apply(pd.to_datetime, errors='coerce')"
   ]
  },
  {
   "cell_type": "code",
   "execution_count": 8,
   "id": "brutal-greene",
   "metadata": {},
   "outputs": [],
   "source": [
    "outtime_data=outtime_data.replace(np.nan,0)"
   ]
  },
  {
   "cell_type": "code",
   "execution_count": 9,
   "id": "linear-snake",
   "metadata": {},
   "outputs": [],
   "source": [
    "outtime_data.iloc[:, 1:] = outtime_data.iloc[:, 1:].apply(pd.to_datetime, errors='coerce')"
   ]
  },
  {
   "cell_type": "code",
   "execution_count": 10,
   "id": "outer-surprise",
   "metadata": {},
   "outputs": [],
   "source": [
    "intime_data=intime_data.append(outtime_data)"
   ]
  },
  {
   "cell_type": "code",
   "execution_count": 11,
   "id": "cleared-somewhere",
   "metadata": {},
   "outputs": [],
   "source": [
    "intime_data=intime_data.diff(periods=4410)\n",
    "intime_data=intime_data.iloc[4410:]\n",
    "intime_data.reset_index(inplace=True)"
   ]
  },
  {
   "cell_type": "code",
   "execution_count": 12,
   "id": "adaptive-border",
   "metadata": {
    "scrolled": true
   },
   "outputs": [],
   "source": [
    "intime_data.drop(columns=['index','Unnamed: 0'],axis=1,inplace=True)"
   ]
  },
  {
   "cell_type": "code",
   "execution_count": 13,
   "id": "developing-disposal",
   "metadata": {
    "scrolled": true
   },
   "outputs": [],
   "source": [
    "intime_data.drop(['2015-01-01', '2015-01-14','2015-01-26','2015-03-05',\n",
    "             '2015-05-01','2015-07-17','2015-09-17','2015-10-02',\n",
    "              '2015-11-09','2015-11-10','2015-11-11','2015-12-25'\n",
    "             ], axis = 1,inplace=True)"
   ]
  },
  {
   "cell_type": "code",
   "execution_count": 14,
   "id": "statistical-preliminary",
   "metadata": {},
   "outputs": [
    {
     "data": {
      "text/plain": [
       "0   0 days 06:52:12.823293172\n",
       "1   0 days 07:18:57.493975903\n",
       "2   0 days 06:48:57.891566265\n",
       "3   0 days 06:47:21.172690763\n",
       "4   0 days 07:52:39.220883534\n",
       "Name: Actual Time, dtype: timedelta64[ns]"
      ]
     },
     "execution_count": 14,
     "metadata": {},
     "output_type": "execute_result"
    }
   ],
   "source": [
    "intime_data['Actual Time']=intime_data.mean(axis=1)\n",
    "intime_data['Actual Time'].head()"
   ]
  },
  {
   "cell_type": "code",
   "execution_count": 15,
   "id": "instant-register",
   "metadata": {},
   "outputs": [],
   "source": [
    "intime_data['MeanHoursWorked']=intime_data['Actual Time']/np.timedelta64(1, 'h')"
   ]
  },
  {
   "cell_type": "code",
   "execution_count": 16,
   "id": "mathematical-madagascar",
   "metadata": {
    "scrolled": true
   },
   "outputs": [],
   "source": [
    "intime_data.reset_index(inplace=True)"
   ]
  },
  {
   "cell_type": "code",
   "execution_count": 17,
   "id": "serial-approval",
   "metadata": {},
   "outputs": [
    {
     "data": {
      "text/html": [
       "<div>\n",
       "<style scoped>\n",
       "    .dataframe tbody tr th:only-of-type {\n",
       "        vertical-align: middle;\n",
       "    }\n",
       "\n",
       "    .dataframe tbody tr th {\n",
       "        vertical-align: top;\n",
       "    }\n",
       "\n",
       "    .dataframe thead th {\n",
       "        text-align: right;\n",
       "    }\n",
       "</style>\n",
       "<table border=\"1\" class=\"dataframe\">\n",
       "  <thead>\n",
       "    <tr style=\"text-align: right;\">\n",
       "      <th></th>\n",
       "      <th>EmployeeID</th>\n",
       "      <th>MeanHoursWorked</th>\n",
       "    </tr>\n",
       "  </thead>\n",
       "  <tbody>\n",
       "    <tr>\n",
       "      <th>0</th>\n",
       "      <td>0</td>\n",
       "      <td>6.870229</td>\n",
       "    </tr>\n",
       "    <tr>\n",
       "      <th>1</th>\n",
       "      <td>1</td>\n",
       "      <td>7.315971</td>\n",
       "    </tr>\n",
       "    <tr>\n",
       "      <th>2</th>\n",
       "      <td>2</td>\n",
       "      <td>6.816081</td>\n",
       "    </tr>\n",
       "    <tr>\n",
       "      <th>3</th>\n",
       "      <td>3</td>\n",
       "      <td>6.789215</td>\n",
       "    </tr>\n",
       "    <tr>\n",
       "      <th>4</th>\n",
       "      <td>4</td>\n",
       "      <td>7.877561</td>\n",
       "    </tr>\n",
       "  </tbody>\n",
       "</table>\n",
       "</div>"
      ],
      "text/plain": [
       "   EmployeeID  MeanHoursWorked\n",
       "0           0         6.870229\n",
       "1           1         7.315971\n",
       "2           2         6.816081\n",
       "3           3         6.789215\n",
       "4           4         7.877561"
      ]
     },
     "execution_count": 17,
     "metadata": {},
     "output_type": "execute_result"
    }
   ],
   "source": [
    "intime_data.drop(intime_data.columns.difference(['index','MeanHoursWorked']), 1, inplace=True)\n",
    "intime_data.rename(columns={'index': 'EmployeeID'},inplace=True)\n",
    "intime_data.head()"
   ]
  },
  {
   "cell_type": "code",
   "execution_count": 18,
   "id": "flying-croatia",
   "metadata": {},
   "outputs": [
    {
     "name": "stdout",
     "output_type": "stream",
     "text": [
      "OK\n"
     ]
    },
    {
     "data": {
      "text/plain": [
       "(4409, 30)"
      ]
     },
     "execution_count": 18,
     "metadata": {},
     "output_type": "execute_result"
    }
   ],
   "source": [
    "df_merge_1=pd.merge(general_data,manager_survey_data,on='EmployeeID')\n",
    "df_merge_2=pd.merge(df_merge_1,employee_survey_data,on='EmployeeID')\n",
    "df=pd.merge(df_merge_2,intime_data,on='EmployeeID')\n",
    "\n",
    "if(len(df.columns.tolist())   == (len(general_data.columns.tolist()) + len(employee_survey_data.columns.tolist()) + len(manager_survey_data.columns.tolist()) + len(intime_data.columns.tolist())) - 3):\n",
    "    print(\"OK\")\n",
    "    \n",
    "df.shape"
   ]
  },
  {
   "cell_type": "markdown",
   "id": "needed-liberal",
   "metadata": {},
   "source": [
    "### Analyse des données"
   ]
  },
  {
   "cell_type": "code",
   "execution_count": 19,
   "id": "perceived-hampton",
   "metadata": {},
   "outputs": [
    {
     "data": {
      "text/html": [
       "<div>\n",
       "<style scoped>\n",
       "    .dataframe tbody tr th:only-of-type {\n",
       "        vertical-align: middle;\n",
       "    }\n",
       "\n",
       "    .dataframe tbody tr th {\n",
       "        vertical-align: top;\n",
       "    }\n",
       "\n",
       "    .dataframe thead th {\n",
       "        text-align: right;\n",
       "    }\n",
       "</style>\n",
       "<table border=\"1\" class=\"dataframe\">\n",
       "  <thead>\n",
       "    <tr style=\"text-align: right;\">\n",
       "      <th></th>\n",
       "      <th>Age</th>\n",
       "      <th>Attrition</th>\n",
       "      <th>BusinessTravel</th>\n",
       "      <th>Department</th>\n",
       "      <th>DistanceFromHome</th>\n",
       "      <th>Education</th>\n",
       "      <th>EducationField</th>\n",
       "      <th>EmployeeID</th>\n",
       "      <th>Gender</th>\n",
       "      <th>JobLevel</th>\n",
       "      <th>...</th>\n",
       "      <th>TrainingTimesLastYear</th>\n",
       "      <th>YearsAtCompany</th>\n",
       "      <th>YearsSinceLastPromotion</th>\n",
       "      <th>YearsWithCurrManager</th>\n",
       "      <th>JobInvolvement</th>\n",
       "      <th>PerformanceRating</th>\n",
       "      <th>EnvironmentSatisfaction</th>\n",
       "      <th>JobSatisfaction</th>\n",
       "      <th>WorkLifeBalance</th>\n",
       "      <th>MeanHoursWorked</th>\n",
       "    </tr>\n",
       "  </thead>\n",
       "  <tbody>\n",
       "    <tr>\n",
       "      <th>0</th>\n",
       "      <td>51</td>\n",
       "      <td>No</td>\n",
       "      <td>Travel_Rarely</td>\n",
       "      <td>Sales</td>\n",
       "      <td>6</td>\n",
       "      <td>2</td>\n",
       "      <td>Life Sciences</td>\n",
       "      <td>1</td>\n",
       "      <td>Female</td>\n",
       "      <td>1</td>\n",
       "      <td>...</td>\n",
       "      <td>6</td>\n",
       "      <td>1</td>\n",
       "      <td>0</td>\n",
       "      <td>0</td>\n",
       "      <td>3</td>\n",
       "      <td>3</td>\n",
       "      <td>3.0</td>\n",
       "      <td>4.0</td>\n",
       "      <td>2.0</td>\n",
       "      <td>7.315971</td>\n",
       "    </tr>\n",
       "    <tr>\n",
       "      <th>1</th>\n",
       "      <td>31</td>\n",
       "      <td>Yes</td>\n",
       "      <td>Travel_Frequently</td>\n",
       "      <td>Research &amp; Development</td>\n",
       "      <td>10</td>\n",
       "      <td>1</td>\n",
       "      <td>Life Sciences</td>\n",
       "      <td>2</td>\n",
       "      <td>Female</td>\n",
       "      <td>1</td>\n",
       "      <td>...</td>\n",
       "      <td>3</td>\n",
       "      <td>5</td>\n",
       "      <td>1</td>\n",
       "      <td>4</td>\n",
       "      <td>2</td>\n",
       "      <td>4</td>\n",
       "      <td>3.0</td>\n",
       "      <td>2.0</td>\n",
       "      <td>4.0</td>\n",
       "      <td>6.816081</td>\n",
       "    </tr>\n",
       "    <tr>\n",
       "      <th>2</th>\n",
       "      <td>32</td>\n",
       "      <td>No</td>\n",
       "      <td>Travel_Frequently</td>\n",
       "      <td>Research &amp; Development</td>\n",
       "      <td>17</td>\n",
       "      <td>4</td>\n",
       "      <td>Other</td>\n",
       "      <td>3</td>\n",
       "      <td>Male</td>\n",
       "      <td>4</td>\n",
       "      <td>...</td>\n",
       "      <td>2</td>\n",
       "      <td>5</td>\n",
       "      <td>0</td>\n",
       "      <td>3</td>\n",
       "      <td>3</td>\n",
       "      <td>3</td>\n",
       "      <td>2.0</td>\n",
       "      <td>2.0</td>\n",
       "      <td>1.0</td>\n",
       "      <td>6.789215</td>\n",
       "    </tr>\n",
       "    <tr>\n",
       "      <th>3</th>\n",
       "      <td>38</td>\n",
       "      <td>No</td>\n",
       "      <td>Non-Travel</td>\n",
       "      <td>Research &amp; Development</td>\n",
       "      <td>2</td>\n",
       "      <td>5</td>\n",
       "      <td>Life Sciences</td>\n",
       "      <td>4</td>\n",
       "      <td>Male</td>\n",
       "      <td>3</td>\n",
       "      <td>...</td>\n",
       "      <td>5</td>\n",
       "      <td>8</td>\n",
       "      <td>7</td>\n",
       "      <td>5</td>\n",
       "      <td>2</td>\n",
       "      <td>3</td>\n",
       "      <td>4.0</td>\n",
       "      <td>4.0</td>\n",
       "      <td>3.0</td>\n",
       "      <td>7.877561</td>\n",
       "    </tr>\n",
       "    <tr>\n",
       "      <th>4</th>\n",
       "      <td>32</td>\n",
       "      <td>No</td>\n",
       "      <td>Travel_Rarely</td>\n",
       "      <td>Research &amp; Development</td>\n",
       "      <td>10</td>\n",
       "      <td>1</td>\n",
       "      <td>Medical</td>\n",
       "      <td>5</td>\n",
       "      <td>Male</td>\n",
       "      <td>1</td>\n",
       "      <td>...</td>\n",
       "      <td>2</td>\n",
       "      <td>6</td>\n",
       "      <td>0</td>\n",
       "      <td>4</td>\n",
       "      <td>3</td>\n",
       "      <td>3</td>\n",
       "      <td>4.0</td>\n",
       "      <td>1.0</td>\n",
       "      <td>3.0</td>\n",
       "      <td>10.275802</td>\n",
       "    </tr>\n",
       "  </tbody>\n",
       "</table>\n",
       "<p>5 rows × 27 columns</p>\n",
       "</div>"
      ],
      "text/plain": [
       "   Age Attrition     BusinessTravel              Department  DistanceFromHome  \\\n",
       "0   51        No      Travel_Rarely                   Sales                 6   \n",
       "1   31       Yes  Travel_Frequently  Research & Development                10   \n",
       "2   32        No  Travel_Frequently  Research & Development                17   \n",
       "3   38        No         Non-Travel  Research & Development                 2   \n",
       "4   32        No      Travel_Rarely  Research & Development                10   \n",
       "\n",
       "   Education EducationField  EmployeeID  Gender  JobLevel  ...  \\\n",
       "0          2  Life Sciences           1  Female         1  ...   \n",
       "1          1  Life Sciences           2  Female         1  ...   \n",
       "2          4          Other           3    Male         4  ...   \n",
       "3          5  Life Sciences           4    Male         3  ...   \n",
       "4          1        Medical           5    Male         1  ...   \n",
       "\n",
       "  TrainingTimesLastYear YearsAtCompany  YearsSinceLastPromotion  \\\n",
       "0                     6              1                        0   \n",
       "1                     3              5                        1   \n",
       "2                     2              5                        0   \n",
       "3                     5              8                        7   \n",
       "4                     2              6                        0   \n",
       "\n",
       "   YearsWithCurrManager  JobInvolvement  PerformanceRating  \\\n",
       "0                     0               3                  3   \n",
       "1                     4               2                  4   \n",
       "2                     3               3                  3   \n",
       "3                     5               2                  3   \n",
       "4                     4               3                  3   \n",
       "\n",
       "   EnvironmentSatisfaction  JobSatisfaction  WorkLifeBalance  MeanHoursWorked  \n",
       "0                      3.0              4.0              2.0         7.315971  \n",
       "1                      3.0              2.0              4.0         6.816081  \n",
       "2                      2.0              2.0              1.0         6.789215  \n",
       "3                      4.0              4.0              3.0         7.877561  \n",
       "4                      4.0              1.0              3.0        10.275802  \n",
       "\n",
       "[5 rows x 27 columns]"
      ]
     },
     "execution_count": 19,
     "metadata": {},
     "output_type": "execute_result"
    }
   ],
   "source": [
    "df.drop(['Over18','EmployeeCount', 'StandardHours'], axis='columns', inplace=True)\n",
    "df.head()"
   ]
  },
  {
   "cell_type": "code",
   "execution_count": 20,
   "id": "detailed-multimedia",
   "metadata": {},
   "outputs": [
    {
     "data": {
      "text/plain": [
       "Age                          int64\n",
       "Attrition                   object\n",
       "BusinessTravel              object\n",
       "Department                  object\n",
       "DistanceFromHome             int64\n",
       "Education                    int64\n",
       "EducationField              object\n",
       "EmployeeID                   int64\n",
       "Gender                      object\n",
       "JobLevel                     int64\n",
       "JobRole                     object\n",
       "MaritalStatus               object\n",
       "MonthlyIncome                int64\n",
       "NumCompaniesWorked         float64\n",
       "PercentSalaryHike            int64\n",
       "StockOptionLevel             int64\n",
       "TotalWorkingYears          float64\n",
       "TrainingTimesLastYear        int64\n",
       "YearsAtCompany               int64\n",
       "YearsSinceLastPromotion      int64\n",
       "YearsWithCurrManager         int64\n",
       "JobInvolvement               int64\n",
       "PerformanceRating            int64\n",
       "EnvironmentSatisfaction    float64\n",
       "JobSatisfaction            float64\n",
       "WorkLifeBalance            float64\n",
       "MeanHoursWorked            float64\n",
       "dtype: object"
      ]
     },
     "execution_count": 20,
     "metadata": {},
     "output_type": "execute_result"
    }
   ],
   "source": [
    "df.dtypes"
   ]
  },
  {
   "cell_type": "code",
   "execution_count": 21,
   "id": "fewer-tension",
   "metadata": {},
   "outputs": [
    {
     "data": {
      "text/plain": [
       "(4409, 27)"
      ]
     },
     "execution_count": 21,
     "metadata": {},
     "output_type": "execute_result"
    }
   ],
   "source": [
    "df.shape"
   ]
  },
  {
   "cell_type": "code",
   "execution_count": 22,
   "id": "right-reunion",
   "metadata": {
    "scrolled": true
   },
   "outputs": [
    {
     "data": {
      "text/html": [
       "<div>\n",
       "<style scoped>\n",
       "    .dataframe tbody tr th:only-of-type {\n",
       "        vertical-align: middle;\n",
       "    }\n",
       "\n",
       "    .dataframe tbody tr th {\n",
       "        vertical-align: top;\n",
       "    }\n",
       "\n",
       "    .dataframe thead th {\n",
       "        text-align: right;\n",
       "    }\n",
       "</style>\n",
       "<table border=\"1\" class=\"dataframe\">\n",
       "  <thead>\n",
       "    <tr style=\"text-align: right;\">\n",
       "      <th></th>\n",
       "      <th>Age</th>\n",
       "      <th>DistanceFromHome</th>\n",
       "      <th>Education</th>\n",
       "      <th>EmployeeID</th>\n",
       "      <th>JobLevel</th>\n",
       "      <th>MonthlyIncome</th>\n",
       "      <th>NumCompaniesWorked</th>\n",
       "      <th>PercentSalaryHike</th>\n",
       "      <th>StockOptionLevel</th>\n",
       "      <th>TotalWorkingYears</th>\n",
       "      <th>TrainingTimesLastYear</th>\n",
       "      <th>YearsAtCompany</th>\n",
       "      <th>YearsSinceLastPromotion</th>\n",
       "      <th>YearsWithCurrManager</th>\n",
       "      <th>JobInvolvement</th>\n",
       "      <th>PerformanceRating</th>\n",
       "      <th>EnvironmentSatisfaction</th>\n",
       "      <th>JobSatisfaction</th>\n",
       "      <th>WorkLifeBalance</th>\n",
       "      <th>MeanHoursWorked</th>\n",
       "    </tr>\n",
       "  </thead>\n",
       "  <tbody>\n",
       "    <tr>\n",
       "      <th>count</th>\n",
       "      <td>4409.000000</td>\n",
       "      <td>4409.000000</td>\n",
       "      <td>4409.000000</td>\n",
       "      <td>4409.000000</td>\n",
       "      <td>4409.000000</td>\n",
       "      <td>4409.000000</td>\n",
       "      <td>4390.000000</td>\n",
       "      <td>4409.000000</td>\n",
       "      <td>4409.000000</td>\n",
       "      <td>4401.000000</td>\n",
       "      <td>4409.000000</td>\n",
       "      <td>4409.000000</td>\n",
       "      <td>4409.000000</td>\n",
       "      <td>4409.000000</td>\n",
       "      <td>4409.000000</td>\n",
       "      <td>4409.000000</td>\n",
       "      <td>4384.000000</td>\n",
       "      <td>4389.000000</td>\n",
       "      <td>4372.000000</td>\n",
       "      <td>4409.000000</td>\n",
       "    </tr>\n",
       "    <tr>\n",
       "      <th>mean</th>\n",
       "      <td>36.923112</td>\n",
       "      <td>9.188251</td>\n",
       "      <td>2.912905</td>\n",
       "      <td>2205.000000</td>\n",
       "      <td>2.063960</td>\n",
       "      <td>65031.660240</td>\n",
       "      <td>2.695444</td>\n",
       "      <td>15.210252</td>\n",
       "      <td>0.794058</td>\n",
       "      <td>11.279936</td>\n",
       "      <td>2.798594</td>\n",
       "      <td>7.004990</td>\n",
       "      <td>2.187571</td>\n",
       "      <td>4.122023</td>\n",
       "      <td>2.729644</td>\n",
       "      <td>3.153776</td>\n",
       "      <td>2.723996</td>\n",
       "      <td>2.728184</td>\n",
       "      <td>2.761436</td>\n",
       "      <td>7.314463</td>\n",
       "    </tr>\n",
       "    <tr>\n",
       "      <th>std</th>\n",
       "      <td>9.134220</td>\n",
       "      <td>8.100992</td>\n",
       "      <td>1.024048</td>\n",
       "      <td>1272.912998</td>\n",
       "      <td>1.106814</td>\n",
       "      <td>47073.969139</td>\n",
       "      <td>2.498840</td>\n",
       "      <td>3.659203</td>\n",
       "      <td>0.851896</td>\n",
       "      <td>7.782222</td>\n",
       "      <td>1.288222</td>\n",
       "      <td>6.122203</td>\n",
       "      <td>3.222042</td>\n",
       "      <td>3.566975</td>\n",
       "      <td>0.711223</td>\n",
       "      <td>0.360775</td>\n",
       "      <td>1.092571</td>\n",
       "      <td>1.101371</td>\n",
       "      <td>0.706245</td>\n",
       "      <td>1.330903</td>\n",
       "    </tr>\n",
       "    <tr>\n",
       "      <th>min</th>\n",
       "      <td>18.000000</td>\n",
       "      <td>1.000000</td>\n",
       "      <td>1.000000</td>\n",
       "      <td>1.000000</td>\n",
       "      <td>1.000000</td>\n",
       "      <td>10090.000000</td>\n",
       "      <td>0.000000</td>\n",
       "      <td>11.000000</td>\n",
       "      <td>0.000000</td>\n",
       "      <td>0.000000</td>\n",
       "      <td>0.000000</td>\n",
       "      <td>0.000000</td>\n",
       "      <td>0.000000</td>\n",
       "      <td>0.000000</td>\n",
       "      <td>1.000000</td>\n",
       "      <td>3.000000</td>\n",
       "      <td>1.000000</td>\n",
       "      <td>1.000000</td>\n",
       "      <td>1.000000</td>\n",
       "      <td>5.416880</td>\n",
       "    </tr>\n",
       "    <tr>\n",
       "      <th>25%</th>\n",
       "      <td>30.000000</td>\n",
       "      <td>2.000000</td>\n",
       "      <td>2.000000</td>\n",
       "      <td>1103.000000</td>\n",
       "      <td>1.000000</td>\n",
       "      <td>29110.000000</td>\n",
       "      <td>1.000000</td>\n",
       "      <td>12.000000</td>\n",
       "      <td>0.000000</td>\n",
       "      <td>6.000000</td>\n",
       "      <td>2.000000</td>\n",
       "      <td>3.000000</td>\n",
       "      <td>0.000000</td>\n",
       "      <td>2.000000</td>\n",
       "      <td>2.000000</td>\n",
       "      <td>3.000000</td>\n",
       "      <td>2.000000</td>\n",
       "      <td>2.000000</td>\n",
       "      <td>2.000000</td>\n",
       "      <td>6.278995</td>\n",
       "    </tr>\n",
       "    <tr>\n",
       "      <th>50%</th>\n",
       "      <td>36.000000</td>\n",
       "      <td>7.000000</td>\n",
       "      <td>3.000000</td>\n",
       "      <td>2205.000000</td>\n",
       "      <td>2.000000</td>\n",
       "      <td>49080.000000</td>\n",
       "      <td>2.000000</td>\n",
       "      <td>14.000000</td>\n",
       "      <td>1.000000</td>\n",
       "      <td>10.000000</td>\n",
       "      <td>3.000000</td>\n",
       "      <td>5.000000</td>\n",
       "      <td>1.000000</td>\n",
       "      <td>3.000000</td>\n",
       "      <td>3.000000</td>\n",
       "      <td>3.000000</td>\n",
       "      <td>3.000000</td>\n",
       "      <td>3.000000</td>\n",
       "      <td>3.000000</td>\n",
       "      <td>7.011237</td>\n",
       "    </tr>\n",
       "    <tr>\n",
       "      <th>75%</th>\n",
       "      <td>43.000000</td>\n",
       "      <td>14.000000</td>\n",
       "      <td>4.000000</td>\n",
       "      <td>3307.000000</td>\n",
       "      <td>3.000000</td>\n",
       "      <td>83800.000000</td>\n",
       "      <td>4.000000</td>\n",
       "      <td>18.000000</td>\n",
       "      <td>1.000000</td>\n",
       "      <td>15.000000</td>\n",
       "      <td>3.000000</td>\n",
       "      <td>9.000000</td>\n",
       "      <td>3.000000</td>\n",
       "      <td>7.000000</td>\n",
       "      <td>3.000000</td>\n",
       "      <td>3.000000</td>\n",
       "      <td>4.000000</td>\n",
       "      <td>4.000000</td>\n",
       "      <td>3.000000</td>\n",
       "      <td>7.900932</td>\n",
       "    </tr>\n",
       "    <tr>\n",
       "      <th>max</th>\n",
       "      <td>60.000000</td>\n",
       "      <td>29.000000</td>\n",
       "      <td>5.000000</td>\n",
       "      <td>4409.000000</td>\n",
       "      <td>5.000000</td>\n",
       "      <td>199990.000000</td>\n",
       "      <td>9.000000</td>\n",
       "      <td>25.000000</td>\n",
       "      <td>3.000000</td>\n",
       "      <td>40.000000</td>\n",
       "      <td>6.000000</td>\n",
       "      <td>40.000000</td>\n",
       "      <td>15.000000</td>\n",
       "      <td>17.000000</td>\n",
       "      <td>4.000000</td>\n",
       "      <td>4.000000</td>\n",
       "      <td>4.000000</td>\n",
       "      <td>4.000000</td>\n",
       "      <td>4.000000</td>\n",
       "      <td>10.937261</td>\n",
       "    </tr>\n",
       "  </tbody>\n",
       "</table>\n",
       "</div>"
      ],
      "text/plain": [
       "               Age  DistanceFromHome    Education   EmployeeID     JobLevel  \\\n",
       "count  4409.000000       4409.000000  4409.000000  4409.000000  4409.000000   \n",
       "mean     36.923112          9.188251     2.912905  2205.000000     2.063960   \n",
       "std       9.134220          8.100992     1.024048  1272.912998     1.106814   \n",
       "min      18.000000          1.000000     1.000000     1.000000     1.000000   \n",
       "25%      30.000000          2.000000     2.000000  1103.000000     1.000000   \n",
       "50%      36.000000          7.000000     3.000000  2205.000000     2.000000   \n",
       "75%      43.000000         14.000000     4.000000  3307.000000     3.000000   \n",
       "max      60.000000         29.000000     5.000000  4409.000000     5.000000   \n",
       "\n",
       "       MonthlyIncome  NumCompaniesWorked  PercentSalaryHike  StockOptionLevel  \\\n",
       "count    4409.000000         4390.000000        4409.000000       4409.000000   \n",
       "mean    65031.660240            2.695444          15.210252          0.794058   \n",
       "std     47073.969139            2.498840           3.659203          0.851896   \n",
       "min     10090.000000            0.000000          11.000000          0.000000   \n",
       "25%     29110.000000            1.000000          12.000000          0.000000   \n",
       "50%     49080.000000            2.000000          14.000000          1.000000   \n",
       "75%     83800.000000            4.000000          18.000000          1.000000   \n",
       "max    199990.000000            9.000000          25.000000          3.000000   \n",
       "\n",
       "       TotalWorkingYears  TrainingTimesLastYear  YearsAtCompany  \\\n",
       "count        4401.000000            4409.000000     4409.000000   \n",
       "mean           11.279936               2.798594        7.004990   \n",
       "std             7.782222               1.288222        6.122203   \n",
       "min             0.000000               0.000000        0.000000   \n",
       "25%             6.000000               2.000000        3.000000   \n",
       "50%            10.000000               3.000000        5.000000   \n",
       "75%            15.000000               3.000000        9.000000   \n",
       "max            40.000000               6.000000       40.000000   \n",
       "\n",
       "       YearsSinceLastPromotion  YearsWithCurrManager  JobInvolvement  \\\n",
       "count              4409.000000           4409.000000     4409.000000   \n",
       "mean                  2.187571              4.122023        2.729644   \n",
       "std                   3.222042              3.566975        0.711223   \n",
       "min                   0.000000              0.000000        1.000000   \n",
       "25%                   0.000000              2.000000        2.000000   \n",
       "50%                   1.000000              3.000000        3.000000   \n",
       "75%                   3.000000              7.000000        3.000000   \n",
       "max                  15.000000             17.000000        4.000000   \n",
       "\n",
       "       PerformanceRating  EnvironmentSatisfaction  JobSatisfaction  \\\n",
       "count        4409.000000              4384.000000      4389.000000   \n",
       "mean            3.153776                 2.723996         2.728184   \n",
       "std             0.360775                 1.092571         1.101371   \n",
       "min             3.000000                 1.000000         1.000000   \n",
       "25%             3.000000                 2.000000         2.000000   \n",
       "50%             3.000000                 3.000000         3.000000   \n",
       "75%             3.000000                 4.000000         4.000000   \n",
       "max             4.000000                 4.000000         4.000000   \n",
       "\n",
       "       WorkLifeBalance  MeanHoursWorked  \n",
       "count      4372.000000      4409.000000  \n",
       "mean          2.761436         7.314463  \n",
       "std           0.706245         1.330903  \n",
       "min           1.000000         5.416880  \n",
       "25%           2.000000         6.278995  \n",
       "50%           3.000000         7.011237  \n",
       "75%           3.000000         7.900932  \n",
       "max           4.000000        10.937261  "
      ]
     },
     "execution_count": 22,
     "metadata": {},
     "output_type": "execute_result"
    }
   ],
   "source": [
    "df.describe()"
   ]
  },
  {
   "cell_type": "code",
   "execution_count": 23,
   "id": "absent-westminster",
   "metadata": {},
   "outputs": [],
   "source": [
    "#df = df_preprocessing.dropna()"
   ]
  },
  {
   "cell_type": "code",
   "execution_count": 24,
   "id": "bibliographic-spanking",
   "metadata": {
    "scrolled": true
   },
   "outputs": [
    {
     "data": {
      "text/plain": [
       "(4409, 27)"
      ]
     },
     "execution_count": 24,
     "metadata": {},
     "output_type": "execute_result"
    }
   ],
   "source": [
    "df.shape"
   ]
  },
  {
   "cell_type": "code",
   "execution_count": 25,
   "id": "pharmaceutical-provider",
   "metadata": {
    "scrolled": true
   },
   "outputs": [
    {
     "data": {
      "text/html": [
       "<div>\n",
       "<style scoped>\n",
       "    .dataframe tbody tr th:only-of-type {\n",
       "        vertical-align: middle;\n",
       "    }\n",
       "\n",
       "    .dataframe tbody tr th {\n",
       "        vertical-align: top;\n",
       "    }\n",
       "\n",
       "    .dataframe thead th {\n",
       "        text-align: right;\n",
       "    }\n",
       "</style>\n",
       "<table border=\"1\" class=\"dataframe\">\n",
       "  <thead>\n",
       "    <tr style=\"text-align: right;\">\n",
       "      <th></th>\n",
       "      <th>Age</th>\n",
       "      <th>DistanceFromHome</th>\n",
       "      <th>Education</th>\n",
       "      <th>EmployeeID</th>\n",
       "      <th>JobLevel</th>\n",
       "      <th>MonthlyIncome</th>\n",
       "      <th>NumCompaniesWorked</th>\n",
       "      <th>PercentSalaryHike</th>\n",
       "      <th>StockOptionLevel</th>\n",
       "      <th>TotalWorkingYears</th>\n",
       "      <th>TrainingTimesLastYear</th>\n",
       "      <th>YearsAtCompany</th>\n",
       "      <th>YearsSinceLastPromotion</th>\n",
       "      <th>YearsWithCurrManager</th>\n",
       "      <th>JobInvolvement</th>\n",
       "      <th>PerformanceRating</th>\n",
       "      <th>EnvironmentSatisfaction</th>\n",
       "      <th>JobSatisfaction</th>\n",
       "      <th>WorkLifeBalance</th>\n",
       "      <th>MeanHoursWorked</th>\n",
       "    </tr>\n",
       "  </thead>\n",
       "  <tbody>\n",
       "    <tr>\n",
       "      <th>count</th>\n",
       "      <td>4409.000000</td>\n",
       "      <td>4409.000000</td>\n",
       "      <td>4409.000000</td>\n",
       "      <td>4409.000000</td>\n",
       "      <td>4409.000000</td>\n",
       "      <td>4409.000000</td>\n",
       "      <td>4390.000000</td>\n",
       "      <td>4409.000000</td>\n",
       "      <td>4409.000000</td>\n",
       "      <td>4401.000000</td>\n",
       "      <td>4409.000000</td>\n",
       "      <td>4409.000000</td>\n",
       "      <td>4409.000000</td>\n",
       "      <td>4409.000000</td>\n",
       "      <td>4409.000000</td>\n",
       "      <td>4409.000000</td>\n",
       "      <td>4384.000000</td>\n",
       "      <td>4389.000000</td>\n",
       "      <td>4372.000000</td>\n",
       "      <td>4409.000000</td>\n",
       "    </tr>\n",
       "    <tr>\n",
       "      <th>mean</th>\n",
       "      <td>36.923112</td>\n",
       "      <td>9.188251</td>\n",
       "      <td>2.912905</td>\n",
       "      <td>2205.000000</td>\n",
       "      <td>2.063960</td>\n",
       "      <td>65031.660240</td>\n",
       "      <td>2.695444</td>\n",
       "      <td>15.210252</td>\n",
       "      <td>0.794058</td>\n",
       "      <td>11.279936</td>\n",
       "      <td>2.798594</td>\n",
       "      <td>7.004990</td>\n",
       "      <td>2.187571</td>\n",
       "      <td>4.122023</td>\n",
       "      <td>2.729644</td>\n",
       "      <td>3.153776</td>\n",
       "      <td>2.723996</td>\n",
       "      <td>2.728184</td>\n",
       "      <td>2.761436</td>\n",
       "      <td>7.314463</td>\n",
       "    </tr>\n",
       "    <tr>\n",
       "      <th>std</th>\n",
       "      <td>9.134220</td>\n",
       "      <td>8.100992</td>\n",
       "      <td>1.024048</td>\n",
       "      <td>1272.912998</td>\n",
       "      <td>1.106814</td>\n",
       "      <td>47073.969139</td>\n",
       "      <td>2.498840</td>\n",
       "      <td>3.659203</td>\n",
       "      <td>0.851896</td>\n",
       "      <td>7.782222</td>\n",
       "      <td>1.288222</td>\n",
       "      <td>6.122203</td>\n",
       "      <td>3.222042</td>\n",
       "      <td>3.566975</td>\n",
       "      <td>0.711223</td>\n",
       "      <td>0.360775</td>\n",
       "      <td>1.092571</td>\n",
       "      <td>1.101371</td>\n",
       "      <td>0.706245</td>\n",
       "      <td>1.330903</td>\n",
       "    </tr>\n",
       "    <tr>\n",
       "      <th>min</th>\n",
       "      <td>18.000000</td>\n",
       "      <td>1.000000</td>\n",
       "      <td>1.000000</td>\n",
       "      <td>1.000000</td>\n",
       "      <td>1.000000</td>\n",
       "      <td>10090.000000</td>\n",
       "      <td>0.000000</td>\n",
       "      <td>11.000000</td>\n",
       "      <td>0.000000</td>\n",
       "      <td>0.000000</td>\n",
       "      <td>0.000000</td>\n",
       "      <td>0.000000</td>\n",
       "      <td>0.000000</td>\n",
       "      <td>0.000000</td>\n",
       "      <td>1.000000</td>\n",
       "      <td>3.000000</td>\n",
       "      <td>1.000000</td>\n",
       "      <td>1.000000</td>\n",
       "      <td>1.000000</td>\n",
       "      <td>5.416880</td>\n",
       "    </tr>\n",
       "    <tr>\n",
       "      <th>25%</th>\n",
       "      <td>30.000000</td>\n",
       "      <td>2.000000</td>\n",
       "      <td>2.000000</td>\n",
       "      <td>1103.000000</td>\n",
       "      <td>1.000000</td>\n",
       "      <td>29110.000000</td>\n",
       "      <td>1.000000</td>\n",
       "      <td>12.000000</td>\n",
       "      <td>0.000000</td>\n",
       "      <td>6.000000</td>\n",
       "      <td>2.000000</td>\n",
       "      <td>3.000000</td>\n",
       "      <td>0.000000</td>\n",
       "      <td>2.000000</td>\n",
       "      <td>2.000000</td>\n",
       "      <td>3.000000</td>\n",
       "      <td>2.000000</td>\n",
       "      <td>2.000000</td>\n",
       "      <td>2.000000</td>\n",
       "      <td>6.278995</td>\n",
       "    </tr>\n",
       "    <tr>\n",
       "      <th>50%</th>\n",
       "      <td>36.000000</td>\n",
       "      <td>7.000000</td>\n",
       "      <td>3.000000</td>\n",
       "      <td>2205.000000</td>\n",
       "      <td>2.000000</td>\n",
       "      <td>49080.000000</td>\n",
       "      <td>2.000000</td>\n",
       "      <td>14.000000</td>\n",
       "      <td>1.000000</td>\n",
       "      <td>10.000000</td>\n",
       "      <td>3.000000</td>\n",
       "      <td>5.000000</td>\n",
       "      <td>1.000000</td>\n",
       "      <td>3.000000</td>\n",
       "      <td>3.000000</td>\n",
       "      <td>3.000000</td>\n",
       "      <td>3.000000</td>\n",
       "      <td>3.000000</td>\n",
       "      <td>3.000000</td>\n",
       "      <td>7.011237</td>\n",
       "    </tr>\n",
       "    <tr>\n",
       "      <th>75%</th>\n",
       "      <td>43.000000</td>\n",
       "      <td>14.000000</td>\n",
       "      <td>4.000000</td>\n",
       "      <td>3307.000000</td>\n",
       "      <td>3.000000</td>\n",
       "      <td>83800.000000</td>\n",
       "      <td>4.000000</td>\n",
       "      <td>18.000000</td>\n",
       "      <td>1.000000</td>\n",
       "      <td>15.000000</td>\n",
       "      <td>3.000000</td>\n",
       "      <td>9.000000</td>\n",
       "      <td>3.000000</td>\n",
       "      <td>7.000000</td>\n",
       "      <td>3.000000</td>\n",
       "      <td>3.000000</td>\n",
       "      <td>4.000000</td>\n",
       "      <td>4.000000</td>\n",
       "      <td>3.000000</td>\n",
       "      <td>7.900932</td>\n",
       "    </tr>\n",
       "    <tr>\n",
       "      <th>max</th>\n",
       "      <td>60.000000</td>\n",
       "      <td>29.000000</td>\n",
       "      <td>5.000000</td>\n",
       "      <td>4409.000000</td>\n",
       "      <td>5.000000</td>\n",
       "      <td>199990.000000</td>\n",
       "      <td>9.000000</td>\n",
       "      <td>25.000000</td>\n",
       "      <td>3.000000</td>\n",
       "      <td>40.000000</td>\n",
       "      <td>6.000000</td>\n",
       "      <td>40.000000</td>\n",
       "      <td>15.000000</td>\n",
       "      <td>17.000000</td>\n",
       "      <td>4.000000</td>\n",
       "      <td>4.000000</td>\n",
       "      <td>4.000000</td>\n",
       "      <td>4.000000</td>\n",
       "      <td>4.000000</td>\n",
       "      <td>10.937261</td>\n",
       "    </tr>\n",
       "  </tbody>\n",
       "</table>\n",
       "</div>"
      ],
      "text/plain": [
       "               Age  DistanceFromHome    Education   EmployeeID     JobLevel  \\\n",
       "count  4409.000000       4409.000000  4409.000000  4409.000000  4409.000000   \n",
       "mean     36.923112          9.188251     2.912905  2205.000000     2.063960   \n",
       "std       9.134220          8.100992     1.024048  1272.912998     1.106814   \n",
       "min      18.000000          1.000000     1.000000     1.000000     1.000000   \n",
       "25%      30.000000          2.000000     2.000000  1103.000000     1.000000   \n",
       "50%      36.000000          7.000000     3.000000  2205.000000     2.000000   \n",
       "75%      43.000000         14.000000     4.000000  3307.000000     3.000000   \n",
       "max      60.000000         29.000000     5.000000  4409.000000     5.000000   \n",
       "\n",
       "       MonthlyIncome  NumCompaniesWorked  PercentSalaryHike  StockOptionLevel  \\\n",
       "count    4409.000000         4390.000000        4409.000000       4409.000000   \n",
       "mean    65031.660240            2.695444          15.210252          0.794058   \n",
       "std     47073.969139            2.498840           3.659203          0.851896   \n",
       "min     10090.000000            0.000000          11.000000          0.000000   \n",
       "25%     29110.000000            1.000000          12.000000          0.000000   \n",
       "50%     49080.000000            2.000000          14.000000          1.000000   \n",
       "75%     83800.000000            4.000000          18.000000          1.000000   \n",
       "max    199990.000000            9.000000          25.000000          3.000000   \n",
       "\n",
       "       TotalWorkingYears  TrainingTimesLastYear  YearsAtCompany  \\\n",
       "count        4401.000000            4409.000000     4409.000000   \n",
       "mean           11.279936               2.798594        7.004990   \n",
       "std             7.782222               1.288222        6.122203   \n",
       "min             0.000000               0.000000        0.000000   \n",
       "25%             6.000000               2.000000        3.000000   \n",
       "50%            10.000000               3.000000        5.000000   \n",
       "75%            15.000000               3.000000        9.000000   \n",
       "max            40.000000               6.000000       40.000000   \n",
       "\n",
       "       YearsSinceLastPromotion  YearsWithCurrManager  JobInvolvement  \\\n",
       "count              4409.000000           4409.000000     4409.000000   \n",
       "mean                  2.187571              4.122023        2.729644   \n",
       "std                   3.222042              3.566975        0.711223   \n",
       "min                   0.000000              0.000000        1.000000   \n",
       "25%                   0.000000              2.000000        2.000000   \n",
       "50%                   1.000000              3.000000        3.000000   \n",
       "75%                   3.000000              7.000000        3.000000   \n",
       "max                  15.000000             17.000000        4.000000   \n",
       "\n",
       "       PerformanceRating  EnvironmentSatisfaction  JobSatisfaction  \\\n",
       "count        4409.000000              4384.000000      4389.000000   \n",
       "mean            3.153776                 2.723996         2.728184   \n",
       "std             0.360775                 1.092571         1.101371   \n",
       "min             3.000000                 1.000000         1.000000   \n",
       "25%             3.000000                 2.000000         2.000000   \n",
       "50%             3.000000                 3.000000         3.000000   \n",
       "75%             3.000000                 4.000000         4.000000   \n",
       "max             4.000000                 4.000000         4.000000   \n",
       "\n",
       "       WorkLifeBalance  MeanHoursWorked  \n",
       "count      4372.000000      4409.000000  \n",
       "mean          2.761436         7.314463  \n",
       "std           0.706245         1.330903  \n",
       "min           1.000000         5.416880  \n",
       "25%           2.000000         6.278995  \n",
       "50%           3.000000         7.011237  \n",
       "75%           3.000000         7.900932  \n",
       "max           4.000000        10.937261  "
      ]
     },
     "execution_count": 25,
     "metadata": {},
     "output_type": "execute_result"
    }
   ],
   "source": [
    "df.describe()"
   ]
  },
  {
   "cell_type": "code",
   "execution_count": 26,
   "id": "fantastic-integral",
   "metadata": {
    "scrolled": true
   },
   "outputs": [
    {
     "data": {
      "text/plain": [
       "<AxesSubplot:>"
      ]
     },
     "execution_count": 26,
     "metadata": {},
     "output_type": "execute_result"
    },
    {
     "data": {
      "image/png": "[encoded data removed]",
      "text/plain": [
       "<Figure size 432x288 with 1 Axes>"
      ]
     },
     "metadata": {
      "needs_background": "light"
     },
     "output_type": "display_data"
    }
   ],
   "source": [
    "df['Attrition'].value_counts().plot.bar()"
   ]
  },
  {
   "cell_type": "code",
   "execution_count": 27,
   "id": "fatal-smile",
   "metadata": {},
   "outputs": [
    {
     "data": {
      "image/png": "[encoded data removed]",
      "text/plain": [
       "<Figure size 720x432 with 1 Axes>"
      ]
     },
     "metadata": {
      "needs_background": "light"
     },
     "output_type": "display_data"
    }
   ],
   "source": [
    "pd.crosstab(df[\"DistanceFromHome\"], df.Attrition).plot(kind=\"bar\",\n",
    "                                       figsize=(10, 6),\n",
    "                                       color=[\"salmon\", \"lightblue\"])\n",
    "\n",
    "# Plotter les graphes\n",
    "plt.title(f\"TurnOver Frequency Per DistanceFromHome\")\n",
    "plt.xlabel(\"DistanceFromHome\")\n",
    "plt.ylabel(\"F\")\n",
    "plt.legend([\"No\", \"Yes\"])\n",
    "plt.xticks(rotation=0);"
   ]
  },
  {
   "cell_type": "code",
   "execution_count": 28,
   "id": "atomic-shoot",
   "metadata": {},
   "outputs": [
    {
     "data": {
      "text/html": [
       "<div>\n",
       "<style scoped>\n",
       "    .dataframe tbody tr th:only-of-type {\n",
       "        vertical-align: middle;\n",
       "    }\n",
       "\n",
       "    .dataframe tbody tr th {\n",
       "        vertical-align: top;\n",
       "    }\n",
       "\n",
       "    .dataframe thead th {\n",
       "        text-align: right;\n",
       "    }\n",
       "</style>\n",
       "<table border=\"1\" class=\"dataframe\">\n",
       "  <thead>\n",
       "    <tr style=\"text-align: right;\">\n",
       "      <th></th>\n",
       "      <th>Age</th>\n",
       "      <th>DistanceFromHome</th>\n",
       "      <th>Education</th>\n",
       "      <th>EmployeeID</th>\n",
       "      <th>JobLevel</th>\n",
       "      <th>MonthlyIncome</th>\n",
       "      <th>NumCompaniesWorked</th>\n",
       "      <th>PercentSalaryHike</th>\n",
       "      <th>StockOptionLevel</th>\n",
       "      <th>TotalWorkingYears</th>\n",
       "      <th>TrainingTimesLastYear</th>\n",
       "      <th>YearsAtCompany</th>\n",
       "      <th>YearsSinceLastPromotion</th>\n",
       "      <th>YearsWithCurrManager</th>\n",
       "      <th>JobInvolvement</th>\n",
       "      <th>PerformanceRating</th>\n",
       "      <th>EnvironmentSatisfaction</th>\n",
       "      <th>JobSatisfaction</th>\n",
       "      <th>WorkLifeBalance</th>\n",
       "      <th>MeanHoursWorked</th>\n",
       "    </tr>\n",
       "    <tr>\n",
       "      <th>Gender</th>\n",
       "      <th></th>\n",
       "      <th></th>\n",
       "      <th></th>\n",
       "      <th></th>\n",
       "      <th></th>\n",
       "      <th></th>\n",
       "      <th></th>\n",
       "      <th></th>\n",
       "      <th></th>\n",
       "      <th></th>\n",
       "      <th></th>\n",
       "      <th></th>\n",
       "      <th></th>\n",
       "      <th></th>\n",
       "      <th></th>\n",
       "      <th></th>\n",
       "      <th></th>\n",
       "      <th></th>\n",
       "      <th></th>\n",
       "      <th></th>\n",
       "    </tr>\n",
       "  </thead>\n",
       "  <tbody>\n",
       "    <tr>\n",
       "      <th>Female</th>\n",
       "      <td>37.363946</td>\n",
       "      <td>9.630952</td>\n",
       "      <td>2.933673</td>\n",
       "      <td>2226.027211</td>\n",
       "      <td>2.100340</td>\n",
       "      <td>64595.255102</td>\n",
       "      <td>2.899375</td>\n",
       "      <td>15.156463</td>\n",
       "      <td>0.773810</td>\n",
       "      <td>11.542873</td>\n",
       "      <td>2.846939</td>\n",
       "      <td>7.137755</td>\n",
       "      <td>2.273810</td>\n",
       "      <td>4.103741</td>\n",
       "      <td>2.707483</td>\n",
       "      <td>3.130952</td>\n",
       "      <td>2.755404</td>\n",
       "      <td>2.706887</td>\n",
       "      <td>2.789714</td>\n",
       "      <td>7.336694</td>\n",
       "    </tr>\n",
       "    <tr>\n",
       "      <th>Male</th>\n",
       "      <td>36.629112</td>\n",
       "      <td>8.893006</td>\n",
       "      <td>2.899055</td>\n",
       "      <td>2190.976560</td>\n",
       "      <td>2.039698</td>\n",
       "      <td>65322.706994</td>\n",
       "      <td>2.559103</td>\n",
       "      <td>15.246125</td>\n",
       "      <td>0.807561</td>\n",
       "      <td>11.104545</td>\n",
       "      <td>2.766352</td>\n",
       "      <td>6.916446</td>\n",
       "      <td>2.130057</td>\n",
       "      <td>4.134216</td>\n",
       "      <td>2.744423</td>\n",
       "      <td>3.168998</td>\n",
       "      <td>2.702970</td>\n",
       "      <td>2.742401</td>\n",
       "      <td>2.742563</td>\n",
       "      <td>7.299637</td>\n",
       "    </tr>\n",
       "  </tbody>\n",
       "</table>\n",
       "</div>"
      ],
      "text/plain": [
       "              Age  DistanceFromHome  Education   EmployeeID  JobLevel  \\\n",
       "Gender                                                                  \n",
       "Female  37.363946          9.630952   2.933673  2226.027211  2.100340   \n",
       "Male    36.629112          8.893006   2.899055  2190.976560  2.039698   \n",
       "\n",
       "        MonthlyIncome  NumCompaniesWorked  PercentSalaryHike  \\\n",
       "Gender                                                         \n",
       "Female   64595.255102            2.899375          15.156463   \n",
       "Male     65322.706994            2.559103          15.246125   \n",
       "\n",
       "        StockOptionLevel  TotalWorkingYears  TrainingTimesLastYear  \\\n",
       "Gender                                                               \n",
       "Female          0.773810          11.542873               2.846939   \n",
       "Male            0.807561          11.104545               2.766352   \n",
       "\n",
       "        YearsAtCompany  YearsSinceLastPromotion  YearsWithCurrManager  \\\n",
       "Gender                                                                  \n",
       "Female        7.137755                 2.273810              4.103741   \n",
       "Male          6.916446                 2.130057              4.134216   \n",
       "\n",
       "        JobInvolvement  PerformanceRating  EnvironmentSatisfaction  \\\n",
       "Gender                                                               \n",
       "Female        2.707483           3.130952                 2.755404   \n",
       "Male          2.744423           3.168998                 2.702970   \n",
       "\n",
       "        JobSatisfaction  WorkLifeBalance  MeanHoursWorked  \n",
       "Gender                                                     \n",
       "Female         2.706887         2.789714         7.336694  \n",
       "Male           2.742401         2.742563         7.299637  "
      ]
     },
     "execution_count": 28,
     "metadata": {},
     "output_type": "execute_result"
    }
   ],
   "source": [
    "df.groupby(['Gender']).mean()"
   ]
  },
  {
   "cell_type": "code",
   "execution_count": 29,
   "id": "blank-briefing",
   "metadata": {},
   "outputs": [
    {
     "data": {
      "image/png": "[encoded data removed]",
      "text/plain": [
       "<Figure size 720x720 with 9 Axes>"
      ]
     },
     "metadata": {
      "needs_background": "light"
     },
     "output_type": "display_data"
    }
   ],
   "source": [
    "#Divide into NumericalColumns\n",
    "columns=df.columns.tolist()\n",
    "num_col_eda=['Age','DistanceFromHome','PercentSalaryHike','MonthlyIncome','TotalWorkingYears','YearsAtCompany','MeanHoursWorked']\n",
    "df[num_col_eda].hist(figsize=(10,10))\n",
    "plt.show()"
   ]
  },
  {
   "cell_type": "code",
   "execution_count": 30,
   "id": "virgin-metro",
   "metadata": {},
   "outputs": [
    {
     "data": {
      "text/plain": [
       "<seaborn.axisgrid.FacetGrid at 0x7fbe610ad790>"
      ]
     },
     "execution_count": 30,
     "metadata": {},
     "output_type": "execute_result"
    },
    {
     "data": {
      "image/png": "[encoded data removed]",
      "text/plain": [
       "<Figure size 412x360 with 1 Axes>"
      ]
     },
     "metadata": {
      "needs_background": "light"
     },
     "output_type": "display_data"
    }
   ],
   "source": [
    "sns.catplot(x=\"Gender\", y=\"MeanHoursWorked\", hue=\"Attrition\", kind=\"bar\", data=df)"
   ]
  },
  {
   "cell_type": "code",
   "execution_count": 31,
   "id": "disabled-sector",
   "metadata": {},
   "outputs": [
    {
     "data": {
      "text/plain": [
       "<seaborn.axisgrid.FacetGrid at 0x7fbe600d77c0>"
      ]
     },
     "execution_count": 31,
     "metadata": {},
     "output_type": "execute_result"
    },
    {
     "data": {
      "image/png": "[encoded data removed]",
      "text/plain": [
       "<Figure size 360x360 with 1 Axes>"
      ]
     },
     "metadata": {
      "needs_background": "light"
     },
     "output_type": "display_data"
    }
   ],
   "source": [
    "sns.catplot(x=\"Attrition\", kind=\"count\", palette=\"ch:.25\", data=df)"
   ]
  },
  {
   "cell_type": "code",
   "execution_count": 32,
   "id": "tropical-means",
   "metadata": {},
   "outputs": [
    {
     "data": {
      "text/plain": [
       "<AxesSubplot:>"
      ]
     },
     "execution_count": 32,
     "metadata": {},
     "output_type": "execute_result"
    },
    {
     "data": {
      "image/png": "[encoded data removed]",
      "text/plain": [
       "<Figure size 720x504 with 2 Axes>"
      ]
     },
     "metadata": {
      "needs_background": "light"
     },
     "output_type": "display_data"
    }
   ],
   "source": [
    "fig, ax = plt.subplots(figsize=(10,7))        \n",
    "sns.heatmap(df.corr(),cmap='YlOrRd',linewidths=.5,ax=ax)"
   ]
  },
  {
   "cell_type": "code",
   "execution_count": 33,
   "id": "scientific-savage",
   "metadata": {
    "scrolled": true
   },
   "outputs": [
    {
     "data": {
      "text/plain": [
       "<seaborn.axisgrid.FacetGrid at 0x7fbe6916e9a0>"
      ]
     },
     "execution_count": 33,
     "metadata": {},
     "output_type": "execute_result"
    },
    {
     "data": {
      "image/png": "[encoded data removed]",
      "text/plain": [
       "<Figure size 412x360 with 1 Axes>"
      ]
     },
     "metadata": {
      "needs_background": "light"
     },
     "output_type": "display_data"
    }
   ],
   "source": [
    "sns.catplot(x=\"JobLevel\",y=\"Age\",hue=\"Attrition\", kind=\"bar\", palette=\"flare\", data=df)"
   ]
  },
  {
   "cell_type": "code",
   "execution_count": 34,
   "id": "found-anniversary",
   "metadata": {},
   "outputs": [
    {
     "data": {
      "image/png": "[encoded data removed]",
      "text/plain": [
       "<Figure size 720x432 with 1 Axes>"
      ]
     },
     "metadata": {
      "needs_background": "light"
     },
     "output_type": "display_data"
    },
    {
     "data": {
      "image/png": "[encoded data removed]",
      "text/plain": [
       "<Figure size 720x432 with 1 Axes>"
      ]
     },
     "metadata": {
      "needs_background": "light"
     },
     "output_type": "display_data"
    },
    {
     "data": {
      "image/png": "[encoded data removed]",
      "text/plain": [
       "<Figure size 720x432 with 1 Axes>"
      ]
     },
     "metadata": {
      "needs_background": "light"
     },
     "output_type": "display_data"
    },
    {
     "name": "stderr",
     "output_type": "stream",
     "text": [
      "/usr/local/lib/python3.8/dist-packages/IPython/core/pylabtools.py:132: UserWarning: Creating legend with loc=\"best\" can be slow with large amounts of data.\n",
      "  fig.canvas.print_figure(bytes_io, **kw)\n"
     ]
    },
    {
     "data": {
      "image/png": "[encoded data removed]",
      "text/plain": [
       "<Figure size 720x432 with 1 Axes>"
      ]
     },
     "metadata": {
      "needs_background": "light"
     },
     "output_type": "display_data"
    },
    {
     "data": {
      "image/png": "[encoded data removed]",
      "text/plain": [
       "<Figure size 720x432 with 1 Axes>"
      ]
     },
     "metadata": {
      "needs_background": "light"
     },
     "output_type": "display_data"
    },
    {
     "data": {
      "image/png": "[encoded data removed]",
      "text/plain": [
       "<Figure size 720x432 with 1 Axes>"
      ]
     },
     "metadata": {
      "needs_background": "light"
     },
     "output_type": "display_data"
    },
    {
     "data": {
      "image/png": "[encoded data removed]",
      "text/plain": [
       "<Figure size 720x432 with 1 Axes>"
      ]
     },
     "metadata": {
      "needs_background": "light"
     },
     "output_type": "display_data"
    },
    {
     "data": {
      "image/png": "[encoded data removed]",
      "text/plain": [
       "<Figure size 720x432 with 1 Axes>"
      ]
     },
     "metadata": {
      "needs_background": "light"
     },
     "output_type": "display_data"
    },
    {
     "data": {
      "image/png": "[encoded data removed]",
      "text/plain": [
       "<Figure size 720x432 with 1 Axes>"
      ]
     },
     "metadata": {
      "needs_background": "light"
     },
     "output_type": "display_data"
    },
    {
     "data": {
      "image/png": "[encoded data removed]",
      "text/plain": [
       "<Figure size 720x432 with 1 Axes>"
      ]
     },
     "metadata": {
      "needs_background": "light"
     },
     "output_type": "display_data"
    },
    {
     "data": {
      "image/png": "[encoded data removed]",
      "text/plain": [
       "<Figure size 720x432 with 1 Axes>"
      ]
     },
     "metadata": {
      "needs_background": "light"
     },
     "output_type": "display_data"
    },
    {
     "data": {
      "image/png": "[encoded data removed]",
      "text/plain": [
       "<Figure size 720x432 with 1 Axes>"
      ]
     },
     "metadata": {
      "needs_background": "light"
     },
     "output_type": "display_data"
    },
    {
     "data": {
      "image/png": "[encoded data removed]",
      "text/plain": [
       "<Figure size 720x432 with 1 Axes>"
      ]
     },
     "metadata": {
      "needs_background": "light"
     },
     "output_type": "display_data"
    },
    {
     "data": {
      "image/png": "[encoded data removed]",
      "text/plain": [
       "<Figure size 720x432 with 1 Axes>"
      ]
     },
     "metadata": {
      "needs_background": "light"
     },
     "output_type": "display_data"
    },
    {
     "data": {
      "image/png": "[encoded data removed]",
      "text/plain": [
       "<Figure size 720x432 with 1 Axes>"
      ]
     },
     "metadata": {
      "needs_background": "light"
     },
     "output_type": "display_data"
    },
    {
     "data": {
      "image/png": "[encoded data removed]",
      "text/plain": [
       "<Figure size 720x432 with 1 Axes>"
      ]
     },
     "metadata": {
      "needs_background": "light"
     },
     "output_type": "display_data"
    },
    {
     "data": {
      "image/png": "[encoded data removed]",
      "text/plain": [
       "<Figure size 720x432 with 1 Axes>"
      ]
     },
     "metadata": {
      "needs_background": "light"
     },
     "output_type": "display_data"
    },
    {
     "data": {
      "image/png": "[encoded data removed]",
      "text/plain": [
       "<Figure size 720x432 with 1 Axes>"
      ]
     },
     "metadata": {
      "needs_background": "light"
     },
     "output_type": "display_data"
    },
    {
     "data": {
      "image/png": "[encoded data removed]",
      "text/plain": [
       "<Figure size 720x432 with 1 Axes>"
      ]
     },
     "metadata": {
      "needs_background": "light"
     },
     "output_type": "display_data"
    },
    {
     "data": {
      "image/png": "[encoded data removed]",
      "text/plain": [
       "<Figure size 720x432 with 1 Axes>"
      ]
     },
     "metadata": {
      "needs_background": "light"
     },
     "output_type": "display_data"
    }
   ],
   "source": [
    "# Visualisation des relations entre chaque feature et la classe recherchée\n",
    "for col in df.select_dtypes({'int64', 'float64','uint8'}) :\n",
    "    pd.crosstab(df[col], df.Attrition).plot(kind=\"bar\",\n",
    "                                       figsize=(10, 6),\n",
    "                                       color=[\"salmon\", \"lightblue\"])\n",
    "\n",
    "    # Plotter les graphes\n",
    "    plt.title(f\"TurnOver Frequency Per {col}\")\n",
    "    plt.xlabel(col)\n",
    "    plt.ylabel(\"F\")\n",
    "    plt.legend([\"No\", \"Yes\"])\n",
    "    plt.xticks(rotation=0);"
   ]
  },
  {
   "cell_type": "markdown",
   "id": "frozen-finnish",
   "metadata": {},
   "source": [
    "## modèle d'apprentissage\n",
    "\n",
    "### Création du jeu de test et d'entrainement"
   ]
  },
  {
   "cell_type": "code",
   "execution_count": 35,
   "id": "informational-reservoir",
   "metadata": {},
   "outputs": [],
   "source": [
    "y = df['Attrition']\n",
    "\n",
    "split = StratifiedShuffleSplit(n_splits=1, test_size=0.2, random_state=42)\n",
    "df.head()\n",
    "for train_index, test_index in split.split(df, df['Attrition']):\n",
    "    strat_train_set = df.loc[train_index]\n",
    "    strat_test_set = df.loc[test_index]\n",
    "    y_train = strat_train_set['Attrition']\n",
    "    y_test = strat_test_set['Attrition']\n",
    "    \n",
    "for set_ in (strat_train_set, strat_test_set):\n",
    "    set_.drop(\"Attrition\", axis=1, inplace=True)\n",
    "    set_.drop(\"EmployeeID\", axis=1, inplace=True)\n"
   ]
  },
  {
   "cell_type": "markdown",
   "id": "prepared-invalid",
   "metadata": {},
   "source": [
    "### Création des pipelines"
   ]
  },
  {
   "cell_type": "code",
   "execution_count": 36,
   "id": "finite-bumper",
   "metadata": {},
   "outputs": [],
   "source": [
    "numerical_features = make_column_selector(dtype_include=np.number)\n",
    "categorical_features = make_column_selector(dtype_exclude=np.number)\n",
    "\n",
    "#numerical_features_test = ['']\n",
    "\n",
    "numerical_pipeline = make_pipeline(SimpleImputer(strategy='median'), StandardScaler())\n",
    "categorical_pipeline = make_pipeline(SimpleImputer(strategy='most_frequent'), OneHotEncoder())\n",
    "\n",
    "full_pipeline = make_column_transformer((numerical_pipeline,numerical_features),\n",
    "                                       (categorical_pipeline,categorical_features))"
   ]
  },
  {
   "cell_type": "code",
   "execution_count": 37,
   "id": "pretty-artist",
   "metadata": {},
   "outputs": [],
   "source": [
    "pipe = make_pipeline(full_pipeline)\n",
    "X_train = pipe.fit_transform(strat_train_set)\n",
    "X_test = pipe.transform(strat_test_set)"
   ]
  },
  {
   "cell_type": "markdown",
   "id": "invisible-strain",
   "metadata": {},
   "source": [
    "## Définition des modeles"
   ]
  },
  {
   "cell_type": "markdown",
   "id": "latest-brown",
   "metadata": {},
   "source": [
    "### SGDClassifier"
   ]
  },
  {
   "cell_type": "code",
   "execution_count": 38,
   "id": "leading-shooting",
   "metadata": {},
   "outputs": [
    {
     "name": "stdout",
     "output_type": "stream",
     "text": [
      "Test score : 0.8367346938775511\n"
     ]
    }
   ],
   "source": [
    "#Création de mon modèle avec full_pipeline et l'algo\n",
    "clf_sdg = SGDClassifier(max_iter=291, random_state=42)\n",
    "#Entrainement du modèle\n",
    "clf_sdg.fit(X_train, y_train)\n",
    "#Scoring \n",
    "print('Test score :', clf_sdg.score(X_test, y_test))\n",
    "#clf_sdg_predicted = clf_sdg.decision_function(X_train)\n",
    "clf_sdg_predicted = clf_sdg.predict(X_test)"
   ]
  },
  {
   "cell_type": "markdown",
   "id": "flush-floating",
   "metadata": {},
   "source": [
    "### KNeighborsClassifier"
   ]
  },
  {
   "cell_type": "code",
   "execution_count": 39,
   "id": "swedish-swaziland",
   "metadata": {
    "scrolled": true
   },
   "outputs": [
    {
     "name": "stdout",
     "output_type": "stream",
     "text": [
      "Test score : 0.8197278911564626\n"
     ]
    }
   ],
   "source": [
    "#Création de mon modèle avec full_pipeline et l'algo\n",
    "clf_neighbors = KNeighborsClassifier()\n",
    "#Entrainement du modèle\n",
    "clf_neighbors.fit(X_train, y_train)\n",
    "# Scoring\n",
    "print('Test score :', clf_neighbors.score(X_test, y_test))\n",
    "clf_neighbors_predicted = clf_neighbors.predict(X_test)"
   ]
  },
  {
   "cell_type": "markdown",
   "id": "numeric-maryland",
   "metadata": {},
   "source": [
    "### RandomForestClassifier"
   ]
  },
  {
   "cell_type": "code",
   "execution_count": 40,
   "id": "temporal-workshop",
   "metadata": {},
   "outputs": [
    {
     "name": "stdout",
     "output_type": "stream",
     "text": [
      "Test score : 0.9931972789115646\n"
     ]
    }
   ],
   "source": [
    "#Création de mon modèle avec full_pipeline et l'algo\n",
    "clf_RFC = RandomForestClassifier(n_estimators=75,random_state=42)\n",
    "#Entrainement du modèle\n",
    "clf_RFC.fit(X_train, y_train)\n",
    "# Scoring\n",
    "print('Test score :', clf_RFC.score(X_test, y_test))\n",
    "clf_RFC_predicted = clf_RFC.predict(X_test)"
   ]
  },
  {
   "cell_type": "markdown",
   "id": "protective-reserve",
   "metadata": {},
   "source": [
    "### SVM SVC"
   ]
  },
  {
   "cell_type": "code",
   "execution_count": 41,
   "id": "another-virgin",
   "metadata": {},
   "outputs": [
    {
     "name": "stdout",
     "output_type": "stream",
     "text": [
      "Test score : 0.9013605442176871\n"
     ]
    }
   ],
   "source": [
    "#Création de mon modèle avec full_pipeline et l'algo\n",
    "clf_svm = svm.SVC()\n",
    "#Entrainement du modèle\n",
    "clf_svm.fit(X_train, y_train)\n",
    "# Scoring\n",
    "print('Test score :', clf_svm.score(X_test, y_test))\n",
    "clf_svm_predicted = clf_svm.predict(X_test)"
   ]
  },
  {
   "cell_type": "markdown",
   "id": "monthly-nickel",
   "metadata": {},
   "source": [
    "### LinearSVC"
   ]
  },
  {
   "cell_type": "code",
   "execution_count": 42,
   "id": "internal-scholarship",
   "metadata": {},
   "outputs": [
    {
     "name": "stdout",
     "output_type": "stream",
     "text": [
      "Test score :  0.8480725623582767\n"
     ]
    },
    {
     "name": "stderr",
     "output_type": "stream",
     "text": [
      "/usr/local/lib/python3.8/dist-packages/sklearn/svm/_base.py:985: ConvergenceWarning: Liblinear failed to converge, increase the number of iterations.\n",
      "  warnings.warn(\"Liblinear failed to converge, increase \"\n"
     ]
    }
   ],
   "source": [
    "#Création de mon modèle avec full_pipeline et l'algo\n",
    "clf_linear_svc = LinearSVC(random_state=42)\n",
    "#Entrainement du modèle\n",
    "clf_linear_svc.fit(X_train, y_train)\n",
    "# Scoring\n",
    "print('Test score : ', clf_linear_svc.score(X_test, y_test))\n",
    "clf_linear_svc_predicted = clf_linear_svc.predict(X_test)"
   ]
  },
  {
   "cell_type": "markdown",
   "id": "endangered-tobago",
   "metadata": {},
   "source": [
    "### logistic Regression"
   ]
  },
  {
   "cell_type": "code",
   "execution_count": 43,
   "id": "instant-tongue",
   "metadata": {},
   "outputs": [
    {
     "name": "stdout",
     "output_type": "stream",
     "text": [
      "Test score :  0.8435374149659864\n"
     ]
    }
   ],
   "source": [
    "#Création de mon modèle avec full_pipeline et l'algo\n",
    "clf_LR = LogisticRegression(random_state=42)\n",
    "#Entrainement du modèle\n",
    "clf_LR.fit(X_train, y_train)\n",
    "# Scoring\n",
    "print('Test score : ', clf_LR.score(X_test, y_test))\n",
    "clf_LR_predicted = clf_LR.predict(X_test)"
   ]
  },
  {
   "cell_type": "markdown",
   "id": "referenced-drinking",
   "metadata": {},
   "source": [
    "# Precision and Recall"
   ]
  },
  {
   "cell_type": "markdown",
   "id": "cardiac-yahoo",
   "metadata": {},
   "source": [
    "### Préprocessing des données prédites"
   ]
  },
  {
   "cell_type": "code",
   "execution_count": 44,
   "id": "streaming-penetration",
   "metadata": {},
   "outputs": [],
   "source": [
    "from sklearn.metrics import precision_score, recall_score, f1_score, precision_recall_curve"
   ]
  },
  {
   "cell_type": "code",
   "execution_count": 45,
   "id": "brave-enterprise",
   "metadata": {},
   "outputs": [],
   "source": [
    "clf_sdg_predicted = clf_sdg_predicted.reshape(-1,1)\n",
    "clf_neighbors_predicted = clf_neighbors_predicted.reshape(-1,1)\n",
    "clf_RFC_predicted = clf_RFC_predicted.reshape(-1,1)\n",
    "clf_svm_predicted = clf_svm_predicted.reshape(-1,1)\n",
    "clf_linear_svc_predicted = clf_linear_svc_predicted.reshape(-1,1)\n",
    "clf_LR_predicted = clf_LR_predicted.reshape(-1,1)"
   ]
  },
  {
   "cell_type": "code",
   "execution_count": 46,
   "id": "worst-pizza",
   "metadata": {},
   "outputs": [],
   "source": [
    "from sklearn.preprocessing import OrdinalEncoder"
   ]
  },
  {
   "cell_type": "code",
   "execution_count": 47,
   "id": "composite-hobby",
   "metadata": {},
   "outputs": [],
   "source": [
    "ordinal_encoder = OrdinalEncoder()"
   ]
  },
  {
   "cell_type": "code",
   "execution_count": 48,
   "id": "constant-eugene",
   "metadata": {},
   "outputs": [],
   "source": [
    "clf_sdg_predicted_num = ordinal_encoder.fit_transform(clf_sdg_predicted)\n",
    "clf_neighbors_predicted_num = ordinal_encoder.fit_transform(clf_neighbors_predicted)\n",
    "clf_RFC_predicted_num = ordinal_encoder.fit_transform(clf_RFC_predicted)\n",
    "clf_svm_predicted_num = ordinal_encoder.fit_transform(clf_svm_predicted)\n",
    "clf_linear_svc_predicted_num = ordinal_encoder.fit_transform(clf_linear_svc_predicted)\n",
    "clf_LR_predicted_num = ordinal_encoder.fit_transform(clf_LR_predicted)"
   ]
  },
  {
   "cell_type": "code",
   "execution_count": 49,
   "id": "applicable-updating",
   "metadata": {},
   "outputs": [],
   "source": [
    "y_test_num = y_test.map({'Yes':1,'No':0}).astype(int)"
   ]
  },
  {
   "cell_type": "markdown",
   "id": "interior-romania",
   "metadata": {},
   "source": [
    "### Scoring à l'aide de precision and recall"
   ]
  },
  {
   "cell_type": "markdown",
   "id": "raising-biology",
   "metadata": {},
   "source": [
    "#### SGDClassifier"
   ]
  },
  {
   "cell_type": "code",
   "execution_count": 50,
   "id": "headed-sherman",
   "metadata": {},
   "outputs": [],
   "source": [
    "precision_score_sdgc = precision_score(y_test_num,clf_sdg_predicted_num)\n",
    "recall_score_sdgc = recall_score(y_test_num,clf_sdg_predicted_num)\n",
    "f1_score_score_sdgc = f1_score(y_test_num,clf_sdg_predicted_num)"
   ]
  },
  {
   "cell_type": "code",
   "execution_count": 51,
   "id": "fifteen-slovenia",
   "metadata": {},
   "outputs": [],
   "source": [
    "scoring = {}\n",
    "scoring['precision_score_sdgc'] = round(precision_score_sdgc*100,2)\n",
    "scoring['recall_score_sdgc'] = round(recall_score_sdgc*100,2)\n",
    "scoring['f1_score_score_sdgc'] = round(f1_score_score_sdgc*100,2)"
   ]
  },
  {
   "cell_type": "code",
   "execution_count": 52,
   "id": "black-directory",
   "metadata": {
    "scrolled": true
   },
   "outputs": [
    {
     "name": "stdout",
     "output_type": "stream",
     "text": [
      "precision_score_sdgc :46.43 %\n",
      "recall_score_sdgc :9.15 %\n",
      "f1_score_score_sdgc :15.29 %\n"
     ]
    }
   ],
   "source": [
    "print(\"precision_score_sdgc :\" + str(round(precision_score_sdgc*100,2))+\" %\")\n",
    "print(\"recall_score_sdgc :\" + str(round(recall_score_sdgc*100,2))+ \" %\")\n",
    "print(\"f1_score_score_sdgc :\" + str(round(f1_score_score_sdgc*100,2)) + \" %\")"
   ]
  },
  {
   "cell_type": "markdown",
   "id": "pregnant-scratch",
   "metadata": {},
   "source": [
    "#### Kneighbors"
   ]
  },
  {
   "cell_type": "code",
   "execution_count": 53,
   "id": "strong-bumper",
   "metadata": {},
   "outputs": [],
   "source": [
    "precision_score_kn = precision_score(y_test_num,clf_neighbors_predicted_num)\n",
    "recall_score_kn = recall_score(y_test_num,clf_neighbors_predicted_num)\n",
    "f1_score_score_kn = f1_score(y_test_num,clf_neighbors_predicted_num)"
   ]
  },
  {
   "cell_type": "code",
   "execution_count": 54,
   "id": "eastern-fighter",
   "metadata": {},
   "outputs": [],
   "source": [
    "scoring['precision_score_kn'] = round(precision_score_kn*100,2)\n",
    "scoring['recall_score_kn'] = round(recall_score_kn*100,2)\n",
    "scoring['f1_score_score_kn'] = round(f1_score_score_kn*100,2)"
   ]
  },
  {
   "cell_type": "code",
   "execution_count": 55,
   "id": "super-binary",
   "metadata": {
    "scrolled": true
   },
   "outputs": [
    {
     "name": "stdout",
     "output_type": "stream",
     "text": [
      "precision_score_kn :0.42342342342342343\n",
      "recall_score_kn :0.33098591549295775\n",
      "f1_score_score_kn :0.37154150197628455\n",
      "\n",
      "precision_score_kn :42.34 %\n",
      "recall_score_kn :33.1 %\n",
      "f1_score_score_kn :37.15 %\n"
     ]
    }
   ],
   "source": [
    "print(\"precision_score_kn :\" + str(precision_score_kn))\n",
    "print(\"recall_score_kn :\" + str(recall_score_kn))\n",
    "print(\"f1_score_score_kn :\" + str(f1_score_score_kn) +'\\n')\n",
    "\n",
    "print(\"precision_score_kn :\" + str(round(precision_score_kn*100,2))+\" %\")\n",
    "print(\"recall_score_kn :\" + str(round(recall_score_kn*100,2))+ \" %\")\n",
    "print(\"f1_score_score_kn :\" + str(round(f1_score_score_kn*100,2)) + \" %\")"
   ]
  },
  {
   "cell_type": "markdown",
   "id": "bacterial-pizza",
   "metadata": {},
   "source": [
    "#### RandomForestClassifier"
   ]
  },
  {
   "cell_type": "code",
   "execution_count": 56,
   "id": "invisible-doctrine",
   "metadata": {},
   "outputs": [],
   "source": [
    "precision_score_rfc = precision_score(y_test_num,clf_RFC_predicted_num)\n",
    "recall_score_rfc = recall_score(y_test_num,clf_RFC_predicted_num)\n",
    "f1_score_score_rfc = f1_score(y_test_num,clf_RFC_predicted_num)"
   ]
  },
  {
   "cell_type": "code",
   "execution_count": 57,
   "id": "narrative-centre",
   "metadata": {},
   "outputs": [],
   "source": [
    "scoring['precision_score_rfc'] = round(precision_score_rfc*100,2)\n",
    "scoring['recall_score_rfc'] = round(recall_score_rfc*100,2)\n",
    "scoring['f1_score_score_rfc'] = round(f1_score_score_rfc*100,2)"
   ]
  },
  {
   "cell_type": "code",
   "execution_count": 58,
   "id": "weird-setting",
   "metadata": {},
   "outputs": [
    {
     "name": "stdout",
     "output_type": "stream",
     "text": [
      "precision_score_rfc :0.9927536231884058\n",
      "recall_score_rfc :0.9647887323943662\n",
      "f1_score_score_rfc :0.9785714285714285\n",
      "\n",
      "precision_score_rfc :99.28 %\n",
      "recall_score_rfc:96.48 %\n",
      "f1_score_score_rfc :97.86 %\n"
     ]
    }
   ],
   "source": [
    "print(\"precision_score_rfc :\" + str(precision_score_rfc))\n",
    "print(\"recall_score_rfc :\" + str(recall_score_rfc))\n",
    "print(\"f1_score_score_rfc :\" + str(f1_score_score_rfc) +'\\n')\n",
    "\n",
    "print(\"precision_score_rfc :\" + str(round(precision_score_rfc*100,2))+\" %\")\n",
    "print(\"recall_score_rfc:\" + str(round(recall_score_rfc*100,2))+ \" %\")\n",
    "print(\"f1_score_score_rfc :\" + str(round(f1_score_score_rfc*100,2)) + \" %\")"
   ]
  },
  {
   "cell_type": "markdown",
   "id": "polish-alliance",
   "metadata": {},
   "source": [
    "#### SVM SVC"
   ]
  },
  {
   "cell_type": "code",
   "execution_count": 59,
   "id": "modern-lecture",
   "metadata": {},
   "outputs": [],
   "source": [
    "precision_score_svm = precision_score(y_test_num,clf_svm_predicted_num)\n",
    "recall_score_svm = recall_score(y_test_num,clf_svm_predicted_num)\n",
    "f1_score_score_svm = f1_score(y_test_num,clf_svm_predicted_num)"
   ]
  },
  {
   "cell_type": "code",
   "execution_count": 60,
   "id": "authorized-thursday",
   "metadata": {},
   "outputs": [],
   "source": [
    "scoring['precision_score_svm'] = round(precision_score_svm*100,2)\n",
    "scoring['recall_score_svm'] = round(recall_score_svm*100,2)\n",
    "scoring['f1_score_score_svm'] = round(f1_score_score_svm*100,2)"
   ]
  },
  {
   "cell_type": "code",
   "execution_count": 61,
   "id": "cooperative-drama",
   "metadata": {
    "scrolled": false
   },
   "outputs": [
    {
     "name": "stdout",
     "output_type": "stream",
     "text": [
      "precision_score_svm :0.9508196721311475\n",
      "recall_score_svm :0.4084507042253521\n",
      "f1_score_score_svm :0.5714285714285714\n",
      "\n",
      "precision_score SVM SVC :95.1 %\n",
      "recall_score SVM SVC :40.8 %\n",
      "f1_score_ SVM SVC :57.1 %\n"
     ]
    }
   ],
   "source": [
    "print(\"precision_score_svm :\" + str(precision_score_svm))\n",
    "print(\"recall_score_svm :\" + str(recall_score_svm))\n",
    "print(\"f1_score_score_svm :\" + str(f1_score_score_svm) +'\\n')\n",
    "\n",
    "\n",
    "print(\"precision_score SVM SVC :\" + str(round(precision_score_svm*100,1))+\" %\")\n",
    "print(\"recall_score SVM SVC :\" + str(round(recall_score_svm*100,1))+ \" %\")\n",
    "print(\"f1_score_ SVM SVC :\" + str(round(f1_score_score_svm*100,1)) + \" %\")"
   ]
  },
  {
   "cell_type": "markdown",
   "id": "catholic-headquarters",
   "metadata": {},
   "source": [
    "#### LinearSVC"
   ]
  },
  {
   "cell_type": "code",
   "execution_count": 62,
   "id": "aquatic-affect",
   "metadata": {},
   "outputs": [],
   "source": [
    "precision_score_linear = precision_score(y_test_num,clf_linear_svc_predicted_num)\n",
    "recall_score_linear = recall_score(y_test_num,clf_linear_svc_predicted_num)\n",
    "f1_score_score_linear = f1_score(y_test_num,clf_linear_svc_predicted_num)"
   ]
  },
  {
   "cell_type": "code",
   "execution_count": 63,
   "id": "headed-liberty",
   "metadata": {},
   "outputs": [],
   "source": [
    "scoring['precision_score_linear'] = round(precision_score_linear*100,1)\n",
    "scoring['recall_score_linear'] = round(recall_score_linear*100,1)\n",
    "scoring['f1_score_score_svm'] = round(f1_score_score_linear*100,1)"
   ]
  },
  {
   "cell_type": "code",
   "execution_count": 64,
   "id": "modern-refrigerator",
   "metadata": {
    "scrolled": true
   },
   "outputs": [
    {
     "name": "stdout",
     "output_type": "stream",
     "text": [
      "precision_score_linear :72.2 %\n",
      "recall_score_linear :9.2 %\n",
      "f1_score_score_linear :16.2 %\n"
     ]
    }
   ],
   "source": [
    "print(\"precision_score_linear :\" + str(round(precision_score_linear*100,1))+\" %\")\n",
    "print(\"recall_score_linear :\" + str(round(recall_score_linear*100,1))+ \" %\")\n",
    "print(\"f1_score_score_linear :\" + str(round(f1_score_score_linear*100,1)) + \" %\")"
   ]
  },
  {
   "cell_type": "markdown",
   "id": "adjacent-refund",
   "metadata": {},
   "source": [
    "#### Logistic Regression"
   ]
  },
  {
   "cell_type": "code",
   "execution_count": 65,
   "id": "attractive-orange",
   "metadata": {},
   "outputs": [],
   "source": [
    "precision_score_LR = precision_score(y_test_num,clf_LR_predicted_num)\n",
    "recall_score_LR = recall_score(y_test_num,clf_LR_predicted_num)\n",
    "f1_score_score_LR = f1_score(y_test_num,clf_LR_predicted_num)"
   ]
  },
  {
   "cell_type": "code",
   "execution_count": 66,
   "id": "herbal-satellite",
   "metadata": {},
   "outputs": [],
   "source": [
    "scoring['precision_score_LR'] = round(precision_score_LR*100,1)\n",
    "scoring['recall_score_LR'] = round(recall_score_LR*100,1)\n",
    "scoring['f1_score_score_LR'] = round(f1_score_score_LR*100,1)"
   ]
  },
  {
   "cell_type": "code",
   "execution_count": 67,
   "id": "average-cooler",
   "metadata": {},
   "outputs": [
    {
     "name": "stdout",
     "output_type": "stream",
     "text": [
      "precision_score_LR :56.7 %\n",
      "recall_score_LR :12.0 %\n",
      "f1_score_score_LR :19.8 %\n"
     ]
    }
   ],
   "source": [
    "print(\"precision_score_LR :\" + str(round(precision_score_LR*100,1))+\" %\")\n",
    "print(\"recall_score_LR :\" + str(round(recall_score_LR*100,1))+ \" %\")\n",
    "print(\"f1_score_score_LR :\" + str(round(f1_score_score_LR*100,1)) + \" %\")"
   ]
  },
  {
   "cell_type": "markdown",
   "id": "innocent-theorem",
   "metadata": {},
   "source": [
    "# Cross-Validation"
   ]
  },
  {
   "cell_type": "code",
   "execution_count": 68,
   "id": "great-pixel",
   "metadata": {},
   "outputs": [],
   "source": [
    "from sklearn.model_selection import cross_val_score\n",
    "val_score_sdg = []\n",
    "val_score_kneighbors = []\n",
    "val_score_rfc = []"
   ]
  },
  {
   "cell_type": "code",
   "execution_count": 69,
   "id": "damaged-receipt",
   "metadata": {
    "scrolled": true
   },
   "outputs": [
    {
     "name": "stdout",
     "output_type": "stream",
     "text": [
      "cross_val_score SDGC :0.8364072890924799\n",
      "cross_val_score KNeighbors :0.8287517328672172\n",
      "cross_val_score RandomForestClassifier :0.975901392321138\n",
      "cross_val_score SVM SVC :0.9019002270307194\n",
      "cross_val_score Logistic Regression :0.8471801980993711\n"
     ]
    }
   ],
   "source": [
    "print(\"cross_val_score SDGC :\", end='')\n",
    "print(cross_val_score(clf_sdg, X_train, y_train, cv=5, scoring='accuracy').mean())\n",
    "print(\"cross_val_score KNeighbors :\", end='') \n",
    "print(cross_val_score(clf_neighbors, X_train, y_train, cv=5, scoring='accuracy').mean())\n",
    "print(\"cross_val_score RandomForestClassifier :\", end='')\n",
    "print(cross_val_score(clf_RFC, X_train, y_train, cv=5, scoring='accuracy').mean())\n",
    "print(\"cross_val_score SVM SVC :\", end='')\n",
    "print(cross_val_score(clf_svm, X_train, y_train, cv=5, scoring='accuracy').mean())\n",
    "print(\"cross_val_score Logistic Regression :\", end='')\n",
    "print(cross_val_score(clf_LR, X_train, y_train, cv=5, scoring='accuracy').mean())"
   ]
  },
  {
   "cell_type": "code",
   "execution_count": 70,
   "id": "floppy-latter",
   "metadata": {},
   "outputs": [
    {
     "name": "stdout",
     "output_type": "stream",
     "text": [
      "cross_val_score Linear SVC :"
     ]
    },
    {
     "name": "stderr",
     "output_type": "stream",
     "text": [
      "/usr/local/lib/python3.8/dist-packages/sklearn/svm/_base.py:985: ConvergenceWarning: Liblinear failed to converge, increase the number of iterations.\n",
      "  warnings.warn(\"Liblinear failed to converge, increase \"\n",
      "/usr/local/lib/python3.8/dist-packages/sklearn/svm/_base.py:985: ConvergenceWarning: Liblinear failed to converge, increase the number of iterations.\n",
      "  warnings.warn(\"Liblinear failed to converge, increase \"\n",
      "/usr/local/lib/python3.8/dist-packages/sklearn/svm/_base.py:985: ConvergenceWarning: Liblinear failed to converge, increase the number of iterations.\n",
      "  warnings.warn(\"Liblinear failed to converge, increase \"\n",
      "/usr/local/lib/python3.8/dist-packages/sklearn/svm/_base.py:985: ConvergenceWarning: Liblinear failed to converge, increase the number of iterations.\n",
      "  warnings.warn(\"Liblinear failed to converge, increase \"\n"
     ]
    },
    {
     "name": "stdout",
     "output_type": "stream",
     "text": [
      "0.8463303397424307\n"
     ]
    },
    {
     "name": "stderr",
     "output_type": "stream",
     "text": [
      "/usr/local/lib/python3.8/dist-packages/sklearn/svm/_base.py:985: ConvergenceWarning: Liblinear failed to converge, increase the number of iterations.\n",
      "  warnings.warn(\"Liblinear failed to converge, increase \"\n"
     ]
    }
   ],
   "source": [
    "print(\"cross_val_score Linear SVC :\", end='')\n",
    "print(cross_val_score(clf_linear_svc, X_train, y_train, cv=5, scoring='accuracy').mean())"
   ]
  },
  {
   "cell_type": "markdown",
   "id": "great-detector",
   "metadata": {},
   "source": [
    "# Matrice de confusion des modèles sans hyperparams"
   ]
  },
  {
   "cell_type": "code",
   "execution_count": 71,
   "id": "psychological-likelihood",
   "metadata": {},
   "outputs": [
    {
     "data": {
      "text/html": [
       "<div>\n",
       "<style scoped>\n",
       "    .dataframe tbody tr th:only-of-type {\n",
       "        vertical-align: middle;\n",
       "    }\n",
       "\n",
       "    .dataframe tbody tr th {\n",
       "        vertical-align: top;\n",
       "    }\n",
       "\n",
       "    .dataframe thead th {\n",
       "        text-align: right;\n",
       "    }\n",
       "</style>\n",
       "<table border=\"1\" class=\"dataframe\">\n",
       "  <thead>\n",
       "    <tr style=\"text-align: right;\">\n",
       "      <th></th>\n",
       "      <th>0</th>\n",
       "      <th>1</th>\n",
       "    </tr>\n",
       "  </thead>\n",
       "  <tbody>\n",
       "    <tr>\n",
       "      <th>0</th>\n",
       "      <td>725</td>\n",
       "      <td>15</td>\n",
       "    </tr>\n",
       "    <tr>\n",
       "      <th>1</th>\n",
       "      <td>129</td>\n",
       "      <td>13</td>\n",
       "    </tr>\n",
       "  </tbody>\n",
       "</table>\n",
       "</div>"
      ],
      "text/plain": [
       "     0   1\n",
       "0  725  15\n",
       "1  129  13"
      ]
     },
     "execution_count": 71,
     "metadata": {},
     "output_type": "execute_result"
    }
   ],
   "source": [
    "cf_mat_sdgc = pd.DataFrame(confusion_matrix(y_test, clf_sdg.predict(X_test)))\n",
    "cf_mat_sdgc"
   ]
  },
  {
   "cell_type": "code",
   "execution_count": 72,
   "id": "diagnostic-assets",
   "metadata": {},
   "outputs": [
    {
     "data": {
      "text/html": [
       "<div>\n",
       "<style scoped>\n",
       "    .dataframe tbody tr th:only-of-type {\n",
       "        vertical-align: middle;\n",
       "    }\n",
       "\n",
       "    .dataframe tbody tr th {\n",
       "        vertical-align: top;\n",
       "    }\n",
       "\n",
       "    .dataframe thead th {\n",
       "        text-align: right;\n",
       "    }\n",
       "</style>\n",
       "<table border=\"1\" class=\"dataframe\">\n",
       "  <thead>\n",
       "    <tr style=\"text-align: right;\">\n",
       "      <th></th>\n",
       "      <th>0</th>\n",
       "      <th>1</th>\n",
       "    </tr>\n",
       "  </thead>\n",
       "  <tbody>\n",
       "    <tr>\n",
       "      <th>0</th>\n",
       "      <td>676</td>\n",
       "      <td>64</td>\n",
       "    </tr>\n",
       "    <tr>\n",
       "      <th>1</th>\n",
       "      <td>95</td>\n",
       "      <td>47</td>\n",
       "    </tr>\n",
       "  </tbody>\n",
       "</table>\n",
       "</div>"
      ],
      "text/plain": [
       "     0   1\n",
       "0  676  64\n",
       "1   95  47"
      ]
     },
     "execution_count": 72,
     "metadata": {},
     "output_type": "execute_result"
    }
   ],
   "source": [
    "cf_mat_kn = pd.DataFrame(confusion_matrix(y_test, clf_neighbors.predict(X_test)))\n",
    "cf_mat_kn"
   ]
  },
  {
   "cell_type": "code",
   "execution_count": 73,
   "id": "coordinate-christian",
   "metadata": {},
   "outputs": [
    {
     "data": {
      "text/html": [
       "<div>\n",
       "<style scoped>\n",
       "    .dataframe tbody tr th:only-of-type {\n",
       "        vertical-align: middle;\n",
       "    }\n",
       "\n",
       "    .dataframe tbody tr th {\n",
       "        vertical-align: top;\n",
       "    }\n",
       "\n",
       "    .dataframe thead th {\n",
       "        text-align: right;\n",
       "    }\n",
       "</style>\n",
       "<table border=\"1\" class=\"dataframe\">\n",
       "  <thead>\n",
       "    <tr style=\"text-align: right;\">\n",
       "      <th></th>\n",
       "      <th>0</th>\n",
       "      <th>1</th>\n",
       "    </tr>\n",
       "  </thead>\n",
       "  <tbody>\n",
       "    <tr>\n",
       "      <th>0</th>\n",
       "      <td>739</td>\n",
       "      <td>1</td>\n",
       "    </tr>\n",
       "    <tr>\n",
       "      <th>1</th>\n",
       "      <td>5</td>\n",
       "      <td>137</td>\n",
       "    </tr>\n",
       "  </tbody>\n",
       "</table>\n",
       "</div>"
      ],
      "text/plain": [
       "     0    1\n",
       "0  739    1\n",
       "1    5  137"
      ]
     },
     "execution_count": 73,
     "metadata": {},
     "output_type": "execute_result"
    }
   ],
   "source": [
    "cf_mat_rfc = pd.DataFrame(confusion_matrix(y_test, clf_RFC.predict(X_test)))\n",
    "cf_mat_rfc"
   ]
  },
  {
   "cell_type": "code",
   "execution_count": 74,
   "id": "upper-piano",
   "metadata": {},
   "outputs": [
    {
     "data": {
      "text/html": [
       "<div>\n",
       "<style scoped>\n",
       "    .dataframe tbody tr th:only-of-type {\n",
       "        vertical-align: middle;\n",
       "    }\n",
       "\n",
       "    .dataframe tbody tr th {\n",
       "        vertical-align: top;\n",
       "    }\n",
       "\n",
       "    .dataframe thead th {\n",
       "        text-align: right;\n",
       "    }\n",
       "</style>\n",
       "<table border=\"1\" class=\"dataframe\">\n",
       "  <thead>\n",
       "    <tr style=\"text-align: right;\">\n",
       "      <th></th>\n",
       "      <th>0</th>\n",
       "      <th>1</th>\n",
       "    </tr>\n",
       "  </thead>\n",
       "  <tbody>\n",
       "    <tr>\n",
       "      <th>0</th>\n",
       "      <td>737</td>\n",
       "      <td>3</td>\n",
       "    </tr>\n",
       "    <tr>\n",
       "      <th>1</th>\n",
       "      <td>84</td>\n",
       "      <td>58</td>\n",
       "    </tr>\n",
       "  </tbody>\n",
       "</table>\n",
       "</div>"
      ],
      "text/plain": [
       "     0   1\n",
       "0  737   3\n",
       "1   84  58"
      ]
     },
     "execution_count": 74,
     "metadata": {},
     "output_type": "execute_result"
    }
   ],
   "source": [
    "cf_mat_svc = pd.DataFrame(data = confusion_matrix(y_test, clf_svm.predict(X_test)))\n",
    "cf_mat_svc"
   ]
  },
  {
   "cell_type": "code",
   "execution_count": 75,
   "id": "proved-belief",
   "metadata": {},
   "outputs": [
    {
     "data": {
      "text/html": [
       "<div>\n",
       "<style scoped>\n",
       "    .dataframe tbody tr th:only-of-type {\n",
       "        vertical-align: middle;\n",
       "    }\n",
       "\n",
       "    .dataframe tbody tr th {\n",
       "        vertical-align: top;\n",
       "    }\n",
       "\n",
       "    .dataframe thead th {\n",
       "        text-align: right;\n",
       "    }\n",
       "</style>\n",
       "<table border=\"1\" class=\"dataframe\">\n",
       "  <thead>\n",
       "    <tr style=\"text-align: right;\">\n",
       "      <th></th>\n",
       "      <th>0</th>\n",
       "      <th>1</th>\n",
       "    </tr>\n",
       "  </thead>\n",
       "  <tbody>\n",
       "    <tr>\n",
       "      <th>0</th>\n",
       "      <td>735</td>\n",
       "      <td>5</td>\n",
       "    </tr>\n",
       "    <tr>\n",
       "      <th>1</th>\n",
       "      <td>129</td>\n",
       "      <td>13</td>\n",
       "    </tr>\n",
       "  </tbody>\n",
       "</table>\n",
       "</div>"
      ],
      "text/plain": [
       "     0   1\n",
       "0  735   5\n",
       "1  129  13"
      ]
     },
     "execution_count": 75,
     "metadata": {},
     "output_type": "execute_result"
    }
   ],
   "source": [
    "cf_mat_linear_svc = pd.DataFrame(data = confusion_matrix(y_test, clf_linear_svc.predict(X_test)))\n",
    "cf_mat_linear_svc"
   ]
  },
  {
   "cell_type": "code",
   "execution_count": 76,
   "id": "fallen-owner",
   "metadata": {},
   "outputs": [
    {
     "data": {
      "text/html": [
       "<div>\n",
       "<style scoped>\n",
       "    .dataframe tbody tr th:only-of-type {\n",
       "        vertical-align: middle;\n",
       "    }\n",
       "\n",
       "    .dataframe tbody tr th {\n",
       "        vertical-align: top;\n",
       "    }\n",
       "\n",
       "    .dataframe thead th {\n",
       "        text-align: right;\n",
       "    }\n",
       "</style>\n",
       "<table border=\"1\" class=\"dataframe\">\n",
       "  <thead>\n",
       "    <tr style=\"text-align: right;\">\n",
       "      <th></th>\n",
       "      <th>0</th>\n",
       "      <th>1</th>\n",
       "    </tr>\n",
       "  </thead>\n",
       "  <tbody>\n",
       "    <tr>\n",
       "      <th>0</th>\n",
       "      <td>727</td>\n",
       "      <td>13</td>\n",
       "    </tr>\n",
       "    <tr>\n",
       "      <th>1</th>\n",
       "      <td>125</td>\n",
       "      <td>17</td>\n",
       "    </tr>\n",
       "  </tbody>\n",
       "</table>\n",
       "</div>"
      ],
      "text/plain": [
       "     0   1\n",
       "0  727  13\n",
       "1  125  17"
      ]
     },
     "execution_count": 76,
     "metadata": {},
     "output_type": "execute_result"
    }
   ],
   "source": [
    "cf_mat_LR = pd.DataFrame(data=confusion_matrix(y_test, clf_LR.predict(X_test)))\n",
    "cf_mat_LR"
   ]
  },
  {
   "cell_type": "markdown",
   "id": "canadian-crowd",
   "metadata": {},
   "source": [
    "#### Cross-validation plot : SGDClassifier"
   ]
  },
  {
   "cell_type": "code",
   "execution_count": 77,
   "id": "collect-kernel",
   "metadata": {},
   "outputs": [],
   "source": [
    "#model = SGDClassifier()\n",
    "#k = np.arange(start=1, stop=1000, step=100)\n",
    "\n",
    "#train_score, val_score = validation_curve(model, X_train, y_train,\"max_iter\", k, cv=5)\n",
    "\n",
    "#plt.plot(k,val_score.mean(axis=1), label='validation')\n",
    "#plt.plot(k, train_score.mean(axis=1), label='train')\n",
    "\n",
    "#plt.ylabel('score')\n",
    "#plt.xlabel('max_iter')\n",
    "#plt.legend()"
   ]
  },
  {
   "cell_type": "markdown",
   "id": "careful-company",
   "metadata": {},
   "source": [
    "#### Cross-validation plot : K Voisins"
   ]
  },
  {
   "cell_type": "code",
   "execution_count": 78,
   "id": "resistant-giant",
   "metadata": {
    "scrolled": true
   },
   "outputs": [],
   "source": [
    "# Calcul du score de cross validationn en splitant notre train set en 5 jeux de données\n",
    "# et en testant k_neighbors=1 < 50, k++\n",
    "\n",
    "#model = KNeighborsClassifier()\n",
    "#k = np.arange(1, 50)\n",
    "\n",
    "#train_score, val_score = validation_curve(model, X_train, y_train,\"n_neighbors\", k, cv=5)\n",
    "\n",
    "#plt.plot(k,val_score.mean(axis=1), label='validation')\n",
    "#plt.plot(k, train_score.mean(axis=1), label='train')\n",
    "\n",
    "#plt.ylabel('score')\n",
    "#plt.xlabel('n_neighbors')\n",
    "#plt.legend()"
   ]
  },
  {
   "cell_type": "markdown",
   "id": "thick-seafood",
   "metadata": {},
   "source": [
    "#### RandomForestClassifier"
   ]
  },
  {
   "cell_type": "code",
   "execution_count": 79,
   "id": "solar-alabama",
   "metadata": {
    "scrolled": true
   },
   "outputs": [],
   "source": [
    "#model = RandomForestClassifier()\n",
    "#k = np.arange(start=1, stop=100, step=2)\n",
    "\n",
    "#train_score, val_score = validation_curve(model, X_train, y_train,\"n_estimators\", k, cv=5)\n",
    "\n",
    "#plt.plot(k,val_score.mean(axis=1), label='validation')\n",
    "#plt.plot(k, train_score.mean(axis=1), label='train')\n",
    "\n",
    "#plt.ylabel('score')\n",
    "#plt.xlabel('n_estimators')\n",
    "#plt.legend()"
   ]
  },
  {
   "cell_type": "markdown",
   "id": "intended-broadcast",
   "metadata": {},
   "source": [
    "# GridSearch CV"
   ]
  },
  {
   "cell_type": "code",
   "execution_count": 80,
   "id": "racial-mystery",
   "metadata": {
    "scrolled": true
   },
   "outputs": [
    {
     "data": {
      "text/plain": [
       "GridSearchCV(cv=5, estimator=KNeighborsClassifier(),\n",
       "             param_grid={'metric': ['euclidean', 'manhattan'],\n",
       "                         'n_neighbors': array([ 1,  2,  3,  4,  5,  6,  7,  8,  9, 10, 11, 12, 13, 14, 15, 16, 17,\n",
       "       18, 19])})"
      ]
     },
     "execution_count": 80,
     "metadata": {},
     "output_type": "execute_result"
    }
   ],
   "source": [
    "params = {\n",
    "    'n_neighbors' : np.arange(1,20),\n",
    "    'metric':['euclidean','manhattan']\n",
    "}\n",
    "\n",
    "grid_kn = GridSearchCV(KNeighborsClassifier(), param_grid=params, cv=5)\n",
    "grid_kn.fit(X_train, y_train)"
   ]
  },
  {
   "cell_type": "code",
   "execution_count": 81,
   "id": "thick-switch",
   "metadata": {},
   "outputs": [
    {
     "data": {
      "text/plain": [
       "{'metric': 'manhattan', 'n_neighbors': 1}"
      ]
     },
     "execution_count": 81,
     "metadata": {},
     "output_type": "execute_result"
    }
   ],
   "source": [
    "grid_kn.best_params_"
   ]
  },
  {
   "cell_type": "code",
   "execution_count": 82,
   "id": "reflected-preliminary",
   "metadata": {
    "scrolled": true
   },
   "outputs": [
    {
     "data": {
      "text/plain": [
       "0.9696594539208003"
      ]
     },
     "execution_count": 82,
     "metadata": {},
     "output_type": "execute_result"
    }
   ],
   "source": [
    "grid_kn.best_score_"
   ]
  },
  {
   "cell_type": "code",
   "execution_count": 83,
   "id": "average-republic",
   "metadata": {},
   "outputs": [],
   "source": [
    "best_model_kn = grid_kn.best_estimator_\n",
    "best_model_kn.fit(X_train, y_train)\n",
    "best_model_kn_pr = best_model_kn.predict(X_test)"
   ]
  },
  {
   "cell_type": "markdown",
   "id": "applicable-birmingham",
   "metadata": {},
   "source": [
    "#### Precision and recall after best hyperparameters"
   ]
  },
  {
   "cell_type": "code",
   "execution_count": 84,
   "id": "careful-fashion",
   "metadata": {},
   "outputs": [],
   "source": [
    "best_model_kn_pr = best_model_kn_pr.reshape(-1,1)\n",
    "best_model_kn_pr_num = ordinal_encoder.fit_transform(best_model_kn_pr)"
   ]
  },
  {
   "cell_type": "code",
   "execution_count": 85,
   "id": "royal-hampton",
   "metadata": {},
   "outputs": [
    {
     "name": "stdout",
     "output_type": "stream",
     "text": [
      "precision_score_kn_bm :0.9586206896551724\n",
      "recall_score_kn_bm :0.9788732394366197\n",
      "f1_score_score_kn_bm :0.9686411149825783\n",
      "\n",
      "precision_score_kn_bm :95.9 %\n",
      "recall_score_kn_bm :97.9 %\n",
      "f1_score_score_kn_bm :96.9 %\n"
     ]
    }
   ],
   "source": [
    "precision_score_kn_bm = precision_score(y_test_num,best_model_kn_pr_num)\n",
    "recall_score_kn_bm = recall_score(y_test_num,best_model_kn_pr_num)\n",
    "f1_score_score_kn_bm = f1_score(y_test_num,best_model_kn_pr_num)\n",
    "\n",
    "print(\"precision_score_kn_bm :\" + str(precision_score_kn_bm))\n",
    "print(\"recall_score_kn_bm :\" + str(recall_score_kn_bm))\n",
    "print(\"f1_score_score_kn_bm :\" + str(f1_score_score_kn_bm) +'\\n')\n",
    "\n",
    "print(\"precision_score_kn_bm :\" + str(round(precision_score_kn_bm*100,1))+\" %\")\n",
    "print(\"recall_score_kn_bm :\" + str(round(recall_score_kn_bm*100,1))+ \" %\")\n",
    "print(\"f1_score_score_kn_bm :\" + str(round(f1_score_score_kn_bm*100,1)) + \" %\")"
   ]
  },
  {
   "cell_type": "code",
   "execution_count": 86,
   "id": "double-check",
   "metadata": {},
   "outputs": [
    {
     "name": "stdout",
     "output_type": "stream",
     "text": [
      "cross_val_score Best Model KNeighbors :0.9696594539208003\n"
     ]
    }
   ],
   "source": [
    "print(\"cross_val_score Best Model KNeighbors :\", end='')\n",
    "print(cross_val_score(best_model_kn, X_train, y_train, cv=5, scoring='accuracy').mean())"
   ]
  },
  {
   "cell_type": "markdown",
   "id": "manual-pilot",
   "metadata": {},
   "source": [
    "### Confusion Matrix for K Voisin"
   ]
  },
  {
   "cell_type": "code",
   "execution_count": 87,
   "id": "breeding-ireland",
   "metadata": {
    "scrolled": true
   },
   "outputs": [
    {
     "name": "stdout",
     "output_type": "stream",
     "text": [
      "[[734   6]\n",
      " [  3 139]]\n"
     ]
    }
   ],
   "source": [
    "# Matrice de confusion\n",
    "cf_mat_kn = confusion_matrix(y_test, best_model_kn.predict(X_test))\n",
    "print(cf_mat_kn)"
   ]
  },
  {
   "cell_type": "code",
   "execution_count": 88,
   "id": "italic-slovak",
   "metadata": {
    "scrolled": false
   },
   "outputs": [
    {
     "data": {
      "text/plain": [
       "<AxesSubplot:>"
      ]
     },
     "execution_count": 88,
     "metadata": {},
     "output_type": "execute_result"
    },
    {
     "data": {
      "image/png": "[encoded data removed]",
      "text/plain": [
       "<Figure size 432x288 with 2 Axes>"
      ]
     },
     "metadata": {
      "needs_background": "light"
     },
     "output_type": "display_data"
    }
   ],
   "source": [
    "group_names = ['True Neg','False Pos','False Neg','True Pos']\n",
    "group_counts = [\"{0:0.0f}\".format(value) for value in\n",
    "                cf_mat_kn.flatten()]\n",
    "group_percentages = [\"{0:.2%}\".format(value) for value in\n",
    "                     cf_mat_kn.flatten()/np.sum(cf_mat_kn)]\n",
    "labels = [f\"{v1}\\n{v2}\\n{v3}\" for v1, v2, v3 in\n",
    "          zip(group_names,group_counts,group_percentages)]\n",
    "labels = np.asarray(labels).reshape(2,2)\n",
    "sns.heatmap(cf_mat_kn, annot=labels,fmt='', cmap='Blues')"
   ]
  },
  {
   "cell_type": "markdown",
   "id": "senior-winning",
   "metadata": {},
   "source": [
    "#### GridSearch for SVM SVC"
   ]
  },
  {
   "cell_type": "code",
   "execution_count": 89,
   "id": "fleet-basement",
   "metadata": {},
   "outputs": [
    {
     "data": {
      "text/plain": [
       "{'C': 0.1, 'gamma': 1, 'kernel': 'poly'}"
      ]
     },
     "execution_count": 89,
     "metadata": {},
     "output_type": "execute_result"
    }
   ],
   "source": [
    "params = {\n",
    "    'C': [0.1,1, 10, 100], \n",
    "    'gamma': [1,0.1,0.01,0.001],\n",
    "    'kernel': ['rbf', 'poly', 'sigmoid']\n",
    "}\n",
    "\n",
    "grid_svc = GridSearchCV(svm.SVC(), param_grid=params, cv=5)\n",
    "grid_svc.fit(X_train,y_train)\n",
    "grid_svc.best_params_"
   ]
  },
  {
   "cell_type": "code",
   "execution_count": 90,
   "id": "physical-shade",
   "metadata": {},
   "outputs": [
    {
     "data": {
      "text/plain": [
       "0.9764683663833805"
      ]
     },
     "execution_count": 90,
     "metadata": {},
     "output_type": "execute_result"
    }
   ],
   "source": [
    "grid_svc.best_score_"
   ]
  },
  {
   "cell_type": "code",
   "execution_count": 91,
   "id": "german-playback",
   "metadata": {},
   "outputs": [
    {
     "data": {
      "text/plain": [
       "SVC(C=0.1, gamma=1, kernel='poly')"
      ]
     },
     "execution_count": 91,
     "metadata": {},
     "output_type": "execute_result"
    }
   ],
   "source": [
    "grid_svc.best_estimator_"
   ]
  },
  {
   "cell_type": "code",
   "execution_count": 92,
   "id": "alpine-champion",
   "metadata": {},
   "outputs": [],
   "source": [
    "best_model_svc = grid_svc.best_estimator_\n",
    "best_model_svc.fit(X_train, y_train)\n",
    "best_model_svc_pr = best_model_svc.predict(X_test)"
   ]
  },
  {
   "cell_type": "markdown",
   "id": "associate-quebec",
   "metadata": {},
   "source": [
    "#### Precision and recall for SVM SVC after hyper params"
   ]
  },
  {
   "cell_type": "code",
   "execution_count": 93,
   "id": "noted-ceramic",
   "metadata": {},
   "outputs": [],
   "source": [
    "best_model_svc_pr = best_model_svc_pr.reshape(-1,1)\n",
    "best_model_svc_pr_num = ordinal_encoder.fit_transform(best_model_svc_pr)"
   ]
  },
  {
   "cell_type": "code",
   "execution_count": 94,
   "id": "linear-instrumentation",
   "metadata": {},
   "outputs": [
    {
     "name": "stdout",
     "output_type": "stream",
     "text": [
      "precision_score_svc_bm :1.0\n",
      "recall_score_svc_bm :0.9788732394366197\n",
      "f1_score_score_svc_bm :0.9893238434163701\n",
      "\n",
      "precision_score_svc_bm :100.0 %\n",
      "recall_score_svc_bm :97.9 %\n",
      "f1_score_score_svc_bm :98.9 %\n"
     ]
    }
   ],
   "source": [
    "precision_score_svc_bm = precision_score(y_test_num,best_model_svc_pr_num)\n",
    "recall_score_svc_bm = recall_score(y_test_num,best_model_svc_pr_num)\n",
    "f1_score_score_svc_bm = f1_score(y_test_num,best_model_svc_pr_num)\n",
    "\n",
    "print(\"precision_score_svc_bm :\" + str(precision_score_svc_bm))\n",
    "print(\"recall_score_svc_bm :\" + str(recall_score_svc_bm))\n",
    "print(\"f1_score_score_svc_bm :\" + str(f1_score_score_svc_bm) +'\\n')\n",
    "\n",
    "print(\"precision_score_svc_bm :\" + str(round(precision_score_svc_bm*100,1))+\" %\")\n",
    "print(\"recall_score_svc_bm :\" + str(round(recall_score_svc_bm*100,1))+ \" %\")\n",
    "print(\"f1_score_score_svc_bm :\" + str(round(f1_score_score_svc_bm*100,1)) + \" %\")"
   ]
  },
  {
   "cell_type": "code",
   "execution_count": 95,
   "id": "popular-necklace",
   "metadata": {},
   "outputs": [
    {
     "name": "stdout",
     "output_type": "stream",
     "text": [
      "cross_val_score Best SVM SVC :0.9764683663833805\n"
     ]
    }
   ],
   "source": [
    "print(\"cross_val_score Best SVM SVC :\", end='')\n",
    "print(cross_val_score(best_model_svc, X_train, y_train, cv=5, scoring='accuracy').mean())"
   ]
  },
  {
   "cell_type": "markdown",
   "id": "coastal-harvard",
   "metadata": {},
   "source": [
    "#### Confusion Matrix for SVM SVC"
   ]
  },
  {
   "cell_type": "code",
   "execution_count": 96,
   "id": "understood-specification",
   "metadata": {},
   "outputs": [
    {
     "name": "stdout",
     "output_type": "stream",
     "text": [
      "[[740   0]\n",
      " [  3 139]]\n"
     ]
    }
   ],
   "source": [
    "cf_mat_svc = confusion_matrix(y_test, best_model_svc.predict(X_test))\n",
    "print(cf_mat_svc)"
   ]
  },
  {
   "cell_type": "code",
   "execution_count": 97,
   "id": "actual-cabin",
   "metadata": {},
   "outputs": [
    {
     "data": {
      "text/plain": [
       "<AxesSubplot:>"
      ]
     },
     "execution_count": 97,
     "metadata": {},
     "output_type": "execute_result"
    },
    {
     "data": {
      "image/png": "[encoded data removed]",
      "text/plain": [
       "<Figure size 432x288 with 2 Axes>"
      ]
     },
     "metadata": {
      "needs_background": "light"
     },
     "output_type": "display_data"
    }
   ],
   "source": [
    "group_names = ['True Neg','False Pos','False Neg','True Pos']\n",
    "group_counts = [\"{0:0.0f}\".format(value) for value in\n",
    "                cf_mat_svc.flatten()]\n",
    "group_percentages = [\"{0:.2%}\".format(value) for value in\n",
    "                     cf_mat_svc.flatten()/np.sum(cf_mat_svc)]\n",
    "labels = [f\"{v1}\\n{v2}\\n{v3}\" for v1, v2, v3 in\n",
    "          zip(group_names,group_counts,group_percentages)]\n",
    "labels = np.asarray(labels).reshape(2,2)\n",
    "sns.heatmap(cf_mat_svc , annot=labels,fmt='', cmap='Blues')"
   ]
  },
  {
   "cell_type": "markdown",
   "id": "synthetic-gothic",
   "metadata": {},
   "source": [
    "## GridSearch for RandomForestClassifier"
   ]
  },
  {
   "cell_type": "code",
   "execution_count": 98,
   "id": "residential-leone",
   "metadata": {},
   "outputs": [
    {
     "data": {
      "text/plain": [
       "{'max_depth': 30,\n",
       " 'min_samples_leaf': 1,\n",
       " 'min_samples_split': 2,\n",
       " 'n_estimators': 1200}"
      ]
     },
     "execution_count": 98,
     "metadata": {},
     "output_type": "execute_result"
    }
   ],
   "source": [
    "n_estimators = [100, 300, 500, 800, 1200]\n",
    "max_depth = [5, 8, 15, 25, 30]\n",
    "min_samples_split = [2, 5, 10, 15, 100]\n",
    "min_samples_leaf = [1, 2, 5, 10]\n",
    "\n",
    "params = {\n",
    "    'n_estimators' : n_estimators,\n",
    "    'max_depth' : max_depth,\n",
    "    'min_samples_split' : min_samples_split,\n",
    "    'min_samples_leaf' : min_samples_leaf\n",
    "\n",
    "}\n",
    "\n",
    "grid_rfc = GridSearchCV(RandomForestClassifier(), param_grid=params, cv=5)\n",
    "grid_rfc.fit(X_train, y_train)\n",
    "grid_rfc.best_params_"
   ]
  },
  {
   "cell_type": "code",
   "execution_count": 99,
   "id": "expressed-provision",
   "metadata": {},
   "outputs": [
    {
     "data": {
      "text/plain": [
       "0.9773182247403209"
      ]
     },
     "execution_count": 99,
     "metadata": {},
     "output_type": "execute_result"
    }
   ],
   "source": [
    "grid_rfc.best_score_"
   ]
  },
  {
   "cell_type": "code",
   "execution_count": 100,
   "id": "fallen-runner",
   "metadata": {},
   "outputs": [
    {
     "data": {
      "text/plain": [
       "RandomForestClassifier(max_depth=30, n_estimators=1200)"
      ]
     },
     "execution_count": 100,
     "metadata": {},
     "output_type": "execute_result"
    }
   ],
   "source": [
    "grid_rfc.best_estimator_"
   ]
  },
  {
   "cell_type": "code",
   "execution_count": 101,
   "id": "informed-caribbean",
   "metadata": {
    "scrolled": true
   },
   "outputs": [
    {
     "name": "stdout",
     "output_type": "stream",
     "text": [
      "0.9943310657596371\n"
     ]
    }
   ],
   "source": [
    "best_model_rfc = grid_rfc.best_estimator_\n",
    "best_model_rfc.fit(X_train, y_train)\n",
    "print(best_model_rfc.score(X_test,y_test))\n",
    "best_model_rfc_pr = best_model_rfc.predict(X_test)"
   ]
  },
  {
   "cell_type": "code",
   "execution_count": 102,
   "id": "elder-database",
   "metadata": {},
   "outputs": [
    {
     "name": "stdout",
     "output_type": "stream",
     "text": [
      "cross_val_score best model for RFC :0.9764683663833805\n"
     ]
    }
   ],
   "source": [
    "print(\"cross_val_score best model for RFC :\", end='')\n",
    "print(cross_val_score(best_model_rfc, X_train, y_train, cv=5, scoring='accuracy').mean())"
   ]
  },
  {
   "cell_type": "markdown",
   "id": "headed-cardiff",
   "metadata": {},
   "source": [
    "#### Precision and recall for RandomForestClassifier after hyper params"
   ]
  },
  {
   "cell_type": "code",
   "execution_count": 103,
   "id": "cooked-front",
   "metadata": {},
   "outputs": [],
   "source": [
    "best_model_rfc_pr = best_model_rfc_pr.reshape(-1,1)\n",
    "best_model_rfc_pr_num = ordinal_encoder.fit_transform(best_model_rfc_pr)"
   ]
  },
  {
   "cell_type": "code",
   "execution_count": 104,
   "id": "fitted-disorder",
   "metadata": {},
   "outputs": [
    {
     "name": "stdout",
     "output_type": "stream",
     "text": [
      "precision_score_rfc_bm :1.0\n",
      "recall_score_rfc_bm :0.9647887323943662\n",
      "f1_score_score_rfc_bm :0.982078853046595\n",
      "\n",
      "precision_score_rfc_bm :100.0 %\n",
      "recall_score_rfc_bm :96.5 %\n",
      "f1_score_score_rfc_bm :98.2 %\n"
     ]
    }
   ],
   "source": [
    "precision_score_rfc_bm = precision_score(y_test_num,best_model_rfc_pr_num)\n",
    "recall_score_rfc_bm = recall_score(y_test_num,best_model_rfc_pr_num)\n",
    "f1_score_score_rfc_bm = f1_score(y_test_num,best_model_rfc_pr_num)\n",
    "\n",
    "print(\"precision_score_rfc_bm :\" + str(precision_score_rfc_bm))\n",
    "print(\"recall_score_rfc_bm :\" + str(recall_score_rfc_bm))\n",
    "print(\"f1_score_score_rfc_bm :\" + str(f1_score_score_rfc_bm) +'\\n')\n",
    "\n",
    "print(\"precision_score_rfc_bm :\" + str(round(precision_score_rfc_bm*100,1))+\" %\")\n",
    "print(\"recall_score_rfc_bm :\" + str(round(recall_score_rfc_bm*100,1))+ \" %\")\n",
    "print(\"f1_score_score_rfc_bm :\" + str(round(f1_score_score_rfc_bm*100,1)) + \" %\")"
   ]
  },
  {
   "cell_type": "code",
   "execution_count": 105,
   "id": "velvet-egyptian",
   "metadata": {},
   "outputs": [
    {
     "name": "stdout",
     "output_type": "stream",
     "text": [
      "cross_val_score Best RFC :0.9761838747915537\n"
     ]
    }
   ],
   "source": [
    "print(\"cross_val_score Best RFC :\", end='')\n",
    "print(cross_val_score(best_model_rfc, X_train, y_train, cv=5, scoring='accuracy').mean())"
   ]
  },
  {
   "cell_type": "markdown",
   "id": "rocky-synthetic",
   "metadata": {},
   "source": [
    "### Confusion Matrix for RandomForestClassifier"
   ]
  },
  {
   "cell_type": "code",
   "execution_count": 106,
   "id": "varied-romania",
   "metadata": {
    "scrolled": true
   },
   "outputs": [
    {
     "name": "stdout",
     "output_type": "stream",
     "text": [
      "[[740   0]\n",
      " [  5 137]]\n"
     ]
    }
   ],
   "source": [
    "cf_mat_rfc = confusion_matrix(y_test, best_model_rfc.predict(X_test))\n",
    "print(cf_mat_rfc)"
   ]
  },
  {
   "cell_type": "code",
   "execution_count": 107,
   "id": "abandoned-louisville",
   "metadata": {},
   "outputs": [
    {
     "data": {
      "text/plain": [
       "<AxesSubplot:>"
      ]
     },
     "execution_count": 107,
     "metadata": {},
     "output_type": "execute_result"
    },
    {
     "data": {
      "image/png": "[encoded data removed]",
      "text/plain": [
       "<Figure size 432x288 with 2 Axes>"
      ]
     },
     "metadata": {
      "needs_background": "light"
     },
     "output_type": "display_data"
    }
   ],
   "source": [
    "group_names = ['True Neg','False Pos','False Neg','True Pos']\n",
    "group_counts = [\"{0:0.0f}\".format(value) for value in\n",
    "                cf_mat_rfc.flatten()]\n",
    "group_percentages = [\"{0:.2%}\".format(value) for value in\n",
    "                     cf_mat_rfc.flatten()/np.sum(cf_mat_rfc)]\n",
    "labels = [f\"{v1}\\n{v2}\\n{v3}\" for v1, v2, v3 in\n",
    "          zip(group_names,group_counts,group_percentages)]\n",
    "labels = np.asarray(labels).reshape(2,2)\n",
    "sns.heatmap(cf_mat_rfc , annot=labels,fmt='', cmap='Blues')"
   ]
  },
  {
   "cell_type": "code",
   "execution_count": 108,
   "id": "dedicated-snake",
   "metadata": {},
   "outputs": [],
   "source": [
    "## Comparaison"
   ]
  },
  {
   "cell_type": "code",
   "execution_count": 115,
   "id": "absent-tobago",
   "metadata": {},
   "outputs": [
    {
     "data": {
      "image/png": "[encoded data removed]",
      "text/plain": [
       "<Figure size 504x360 with 1 Axes>"
      ]
     },
     "metadata": {
      "needs_background": "light"
     },
     "output_type": "display_data"
    }
   ],
   "source": [
    "f1_data=pd.DataFrame([ ['KNeighbors', f1_score_score_kn , f1_score_score_kn_bm],\n",
    "                 ['SVM_SVC',  f1_score_score_svm  , f1_score_score_svc_bm ] ,\n",
    "                 ['RFC', f1_score_score_rfc  ,f1_score_score_rfc_bm ]] ,\n",
    "               columns=[\"MODELS\",'TestF1Score_BeforeHyperParams','TestF1Score_AfterHyperParams'],\n",
    "              )\n",
    "plt.rcParams[\"figure.figsize\"] = [7,5]\n",
    "f1_data.set_index('MODELS', inplace=True)\n",
    "f1_data.plot(kind='barh')\n",
    "plt.xlabel(\"F1SCore\",fontsize=20)\n",
    "plt.ylabel(\"Models\",fontsize=20)\n",
    "plt.xticks(fontsize=14) #rotation=90)\n",
    "plt.yticks(fontsize=14)\n",
    "plt.show()"
   ]
  },
  {
   "cell_type": "code",
   "execution_count": 116,
   "id": "existing-philip",
   "metadata": {
    "scrolled": true
   },
   "outputs": [
    {
     "data": {
      "image/png": "[encoded data removed]",
      "text/plain": [
       "<Figure size 504x360 with 1 Axes>"
      ]
     },
     "metadata": {
      "needs_background": "light"
     },
     "output_type": "display_data"
    }
   ],
   "source": [
    "Pr_data=pd.DataFrame([ ['KNeighbors', precision_score_kn , precision_score_kn_bm],\n",
    "                 ['SVM_SVC',  precision_score_svm  , precision_score_svc_bm ] ,\n",
    "                 ['RFC', precision_score_rfc  , precision_score_rfc_bm ]] ,\n",
    "               columns=[\"MODELS\",'PrecisionScore_BeforeHyperParams','PrecisionScore_AfterHyperParams'],\n",
    "              )\n",
    "plt.rcParams[\"figure.figsize\"] = [7,5]\n",
    "Pr_data.set_index('MODELS', inplace=True)\n",
    "Pr_data.plot(kind='barh')\n",
    "plt.xlabel(\"Precision\",fontsize=20)\n",
    "plt.ylabel(\"Models\",fontsize=20)\n",
    "plt.xticks(fontsize=14) #rotation=90)\n",
    "plt.yticks(fontsize=14)\n",
    "plt.show()"
   ]
  },
  {
   "cell_type": "code",
   "execution_count": 119,
   "id": "single-heater",
   "metadata": {},
   "outputs": [
    {
     "data": {
      "image/png": "[encoded data removed]",
      "text/plain": [
       "<Figure size 504x360 with 1 Axes>"
      ]
     },
     "metadata": {
      "needs_background": "light"
     },
     "output_type": "display_data"
    },
    {
     "data": {
      "image/png": "[encoded data removed]",
      "text/plain": [
       "<Figure size 504x360 with 1 Axes>"
      ]
     },
     "metadata": {
      "needs_background": "light"
     },
     "output_type": "display_data"
    }
   ],
   "source": [
    "from sklearn.metrics import plot_roc_curve\n",
    "\n",
    "ax = plt.gca()\n",
    "svc_disp = plot_roc_curve(best_model_svc, X_test, y_test)\n",
    "rfc_disp = plot_roc_curve(best_model_rfc, X_test, y_test, ax=ax, alpha=0.8)\n",
    "svc_disp.plot(ax=ax, alpha=0.8)\n",
    "plt.show()"
   ]
  },
  {
   "cell_type": "code",
   "execution_count": 117,
   "id": "dress-hello",
   "metadata": {
    "scrolled": false
   },
   "outputs": [
    {
     "name": "stdout",
     "output_type": "stream",
     "text": [
      "        Age  BusinessTravel  Department  DistanceFromHome  Education  \\\n",
      "0  7.914529        5.005411    2.719772          2.583018   6.952016   \n",
      "\n",
      "   EducationField  EnvironmentSatisfaction   Gender  JobInvolvement  JobLevel  \\\n",
      "0        4.140805                 0.976855  4.38737        0.568303  2.169008   \n",
      "\n",
      "   ...  NumCompaniesWorked  PercentSalaryHike  PerformanceRating  \\\n",
      "0  ...            3.068241           4.167564           1.768142   \n",
      "\n",
      "   StockOptionLevel  TotalWorkingYears  TrainingTimesLastYear  \\\n",
      "0          2.406554           0.799237               3.473666   \n",
      "\n",
      "   WorkLifeBalance  YearsAtCompany  YearsSinceLastPromotion  \\\n",
      "0         0.946197        3.373079                  2.89122   \n",
      "\n",
      "   YearsWithCurrManager  \n",
      "0              5.355055  \n",
      "\n",
      "[1 rows x 25 columns]\n"
     ]
    },
    {
     "data": {
      "image/png": "[encoded data removed]",
      "text/plain": [
       "<Figure size 1080x1080 with 1 Axes>"
      ]
     },
     "metadata": {
      "needs_background": "light"
     },
     "output_type": "display_data"
    }
   ],
   "source": [
    "best_model_rfc.predict(X_test)\n",
    "\n",
    "feature_dict = dict(sorted(zip(strat_test_set.columns, list(best_model_rfc.feature_importances_ * 100))))\n",
    "\n",
    "feature_df = pd.DataFrame(feature_dict, index=[0])\n",
    "print(feature_df)\n",
    "feature_df.sort_values(by=[0],axis=1, ascending=True).T.plot.barh(figsize=(15,15), title=\"Identification des features les plus importantes\", legend=False);"
   ]
  },
  {
   "cell_type": "code",
   "execution_count": 118,
   "id": "planned-bruce",
   "metadata": {
    "scrolled": false
   },
   "outputs": [
    {
     "name": "stdout",
     "output_type": "stream",
     "text": [
      "Age : 34 ans\n",
      "MonthlyIncome : 61683 ₹\n",
      "YearsWithCurrManager : 3 ans\n"
     ]
    }
   ],
   "source": [
    "print(\"Age : \" + str(round(df[\"Age\"].where(df[\"Attrition\"] == \"Yes\").mean())) + \" ans\")\n",
    "print(\"MonthlyIncome : \" + str(round(df[\"MonthlyIncome\"].where(df[\"Attrition\"] == \"Yes\").mean())) + \" ₹\")\n",
    "print(\"YearsWithCurrManager : \" + str(round(df[\"YearsWithCurrManager\"].where(df[\"Attrition\"] == \"Yes\").mean()))+ \" ans\")"
   ]
  },
  {
   "cell_type": "code",
   "execution_count": null,
   "id": "banned-egypt",
   "metadata": {},
   "outputs": [],
   "source": []
  }
 ],
 "metadata": {
  "kernelspec": {
   "display_name": "Python 3",
   "language": "python",
   "name": "python3"
  },
  "language_info": {
   "codemirror_mode": {
    "name": "ipython",
    "version": 3
   },
   "file_extension": ".py",
   "mimetype": "text/x-python",
   "name": "python",
   "nbconvert_exporter": "python",
   "pygments_lexer": "ipython3",
   "version": "3.8.6"
  }
 },
 "nbformat": 4,
 "nbformat_minor": 5
}
