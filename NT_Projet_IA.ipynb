{
 "cells": [
  {
   "cell_type": "markdown",
   "id": "organized-proposal",
   "metadata": {},
   "source": [
    "# IA for HumanForYou\n",
    "\n",
    "L'entreprise de produits pharmaceutiques HumanForYou basée en Inde emploie environ 4000 personnes. Cependant, chaque année elle subit un turn-over d'environ 15% de ses employés nécessitant de retrouver des profils similaires sur le marché de l'emploi.\n",
    "\n",
    "La direction trouve que ce niveau de turn-over n'est pas bon pour l'entreprise car :\n",
    "\n",
    "* Les projets sur lesquels étaient les employés quittant la société prennent du retard ce qui nuit à la réputation de l'entreprise auprès de ses clients et partenaires.\n",
    "\n",
    "* Un service de ressources humaines de taille conséquente doit être conservé car il faut avoir les moyens de trouver les nouvelles recrues.\n",
    "\n",
    "* Du temps est perdu à l'arrivée des nouveaux employés car ils doivent très souvent être formés et ont besoin de temps pour devenir pleinement opérationnels dans leur nouvel environnement.\n",
    "\n",
    "Le direction fait donc appel à vous, spécialistes de l'analyse de données, pour déterminer les facteurs ayant le plus d'influence sur ce taux de turn-over et lui proposer des modèles afin d'avoir des pistes d'amélioration pour donner à leurs employés l'envie de rester.\n",
    "\n",
    "### Données fournies\n",
    "\n",
    "Un certain nombre de données concernant les employés vous a donc été transmis par le service des ressources humaines.\n",
    "\n",
    "Il s'agit de fichiers textes au format CSV.\n",
    "\n",
    "Les données ont été anonymisées : un employé de l'entreprise sera représenté par le même EmployeeID dans l'ensemble des fichiers qui suivent.\n",
    "\n",
    "### Données du service des ressources humaines\n",
    "\n",
    "Pour chaque employé, le service des ressources humaines vous confie les informations en sa possession :\n",
    "\n",
    " - Age : L'âge de l'employé en 2015.\n",
    "\n",
    " - Attrition : L'objet de notre étude, est-ce que l'employé a quitté l'entreprise durant l'année 2016 ?\n",
    "\n",
    " - BusinessTravel : A quel fréquence l'employé a été amené à se déplacer dans le cadre de son travail en 2015 ? (Non-Travel = jamais, Travel_Rarely= rarement, Travel_Frequently = fréquemment)\n",
    "\n",
    " - DistanceFromHome : Distance en km entre le logement de l'employé et l'entreprise.\n",
    "\n",
    " - Education : Niveau d'étude : 1=Avant College (équivalent niveau Bac), 2=College (équivalent Bac+2), 3=Bachelor (Bac+3), 4=Master (Bac+5) et 5=PhD (Thèse de doctorat).\n",
    "\n",
    " - EducationField : Domaine d'étude, matière principale\n",
    "\n",
    " - EmployeeCount : booléen à 1 si l'employé était compté dans les effectifs en 2015.\n",
    "\n",
    " - EmployeeId : l'identifiant d'un employé\n",
    "\n",
    " - Gender : Sexe de l'employé\n",
    "\n",
    " - JobLevel : Niveau hiérarchique dans l'entreprise de 1 à 5\n",
    "\n",
    " - JobRole : Métier dans l'entreprise\n",
    "\n",
    " - MaritalStatus : Statut marital du salarié (Célibataire, Marié ou Divorcé).\n",
    "\n",
    " - MonthlyIncome : Salaire brut en roupies par mois\n",
    "\n",
    " - NumCompaniesWorked : Nombre d'entreprises pour lequel le salarié a travaillé avant de rejoindre HumanForYou.\n",
    "\n",
    " - Over18 : Est-ce que le salarié a plus de 18 ans ou non ?\n",
    "\n",
    " - PercentSalaryHike : % d'augmentation du salaire en 2015.\n",
    "\n",
    " - StandardHours : Nombre d'heures par jour dans le contrat du salarié.\n",
    "\n",
    " - StockOptionLevel : Niveau d'investissement en actions de l'entreprise par le salarié.\n",
    "\n",
    " - TotalWorkingYears : Nombre d'années d'expérience en entreprise du salarié pour le même type de poste.\n",
    "\n",
    " - TrainingTimesLastYear : Nombre de jours de formation en 2015\n",
    "\n",
    " - YearsAtCompany : Ancienneté dans l'entreprise\n",
    "\n",
    " - YearsSinceLastPromotion : Nombre d'années depuis la dernière augmentation individuelle\n",
    "\n",
    " - YearsWithCurrentManager : Nombre d'années de collaboration sous la responsabilité du manager actuel de l'employé."
   ]
  },
  {
   "cell_type": "markdown",
   "id": "lesser-kazakhstan",
   "metadata": {},
   "source": [
    "### Importation des données utiles "
   ]
  },
  {
   "cell_type": "code",
   "execution_count": 158,
   "id": "cellular-commissioner",
   "metadata": {},
   "outputs": [],
   "source": [
    "import os\n",
    "import tarfile\n",
    "import zipfile\n",
    "import urllib.request\n",
    "from six.moves import urllib\n",
    "\n",
    "import pandas as pd\n",
    "import numpy as np\n",
    "from numpy.random import default_rng\n",
    "# stabilité du notebook d'une exécution à l'autre\n",
    "random=default_rng(42) \n",
    "\n",
    "import matplotlib\n",
    "import matplotlib.pyplot as plt\n",
    "import seaborn as sns\n",
    "\n",
    "from sklearn.model_selection import StratifiedShuffleSplit\n",
    "from sklearn.pipeline import make_pipeline\n",
    "from sklearn.impute import SimpleImputer\n",
    "from sklearn.preprocessing import OneHotEncoder\n",
    "from sklearn.preprocessing import StandardScaler\n",
    "from sklearn.compose import make_column_selector\n",
    "from sklearn.compose import make_column_transformer\n",
    "from sklearn.model_selection import train_test_split\n",
    "from sklearn.model_selection import GridSearchCV\n",
    "from sklearn import metrics\n",
    "\n",
    "from sklearn.neighbors import KNeighborsClassifier\n",
    "from sklearn.linear_model import SGDClassifier\n",
    "from sklearn.ensemble import RandomForestClassifier"
   ]
  },
  {
   "cell_type": "code",
   "execution_count": 2,
   "id": "billion-sheriff",
   "metadata": {},
   "outputs": [
    {
     "name": "stdout",
     "output_type": "stream",
     "text": [
      "Process succeed\n"
     ]
    }
   ],
   "source": [
    "DOWNLOAD_ROOT = \"https://github.com/Killian-drh/Projet-IA/raw/main/datasets/inoutime/\"\n",
    "INOUTPATH = os.path.join(\"datasets\", \"inoutime\")\n",
    "DATA_PATH = \"./datasets/\"\n",
    "INOUTIME_URL = DOWNLOAD_ROOT + \"in_out_time.zip\"\n",
    "\n",
    "def check_image_folder():\n",
    "    if not os.path.exists(\"./images/\"):\n",
    "        os.makedirs(\"./images/\")\n",
    "        os.makedirs(\"./images/workflowDS/\")\n",
    "        print (\"Images and workflowDS folder has been created\")\n",
    "    elif os.path.exists(\"./images/\"):\n",
    "        if not os.path.exists(\"./images/workflowDS/\"):\n",
    "            os.makedirs(\"./images/workflowDS/\")\n",
    "            print (\"WorkflowDS folder has been created\")\n",
    "\n",
    "\n",
    "def fetch_inoutime_data(inoutime_url=INOUTIME_URL, data_path=INOUTPATH):\n",
    "    in_out_time_check = data_path + \"/in_out_time.zip\"\n",
    "    \n",
    "    if not os.path.isdir(data_path):\n",
    "        os.makedirs(data_path)\n",
    "    \n",
    "    if not os.path.exists(in_out_time_check):\n",
    "        # Download in_out_time.zip from repo github\n",
    "        zip_path = os.path.join(data_path, \"in_out_time.zip\")\n",
    "        urllib.request.urlretrieve(inoutime_url, zip_path)    \n",
    "        print (\"Download Succeed !\")\n",
    "\n",
    "    # specifying the zip file name \n",
    "    file_name = './datasets/inoutime/in_out_time.zip'\n",
    "    \n",
    "    in_time_check = os.path.exists(\"./datasets/inoutime/in_time.csv\")\n",
    "    out_time_check = os.path.exists(\"./datasets/inoutime/out_time.csv\")\n",
    "    \n",
    "    if in_time_check==False or out_time_check==False: \n",
    "    # opening the zip file in READ mode \n",
    "        with zipfile.ZipFile(file_name, 'r') as zip: \n",
    "          #  printing all the contents of the zip file \n",
    "            zip.printdir() \n",
    "  \n",
    "        # extracting all the files \n",
    "            print('Extracting all the files now...') \n",
    "            zip.extractall(data_path) \n",
    "            print('Done!') \n",
    "            \n",
    "    print(\"Process succeed\")\n",
    "    \n",
    "check_image_folder()\n",
    "fetch_inoutime_data()\n",
    "\n",
    "def load_data(file, data_path=DATA_PATH):\n",
    "    csv_path = os.path.join(data_path, file)\n",
    "    return pd.read_csv(csv_path)\n",
    "\n",
    "general_data = load_data(\"general_data.csv\")\n",
    "manager_survey_data = load_data(\"manager_survey_data.csv\")\n",
    "employee_survey_data = load_data(\"employee_survey_data.csv\")\n",
    "intime_data = pd.read_csv(\"./datasets/inoutime/in_time.csv\")\n",
    "outtime_data = pd.read_csv(\"./datasets/inoutime/out_time.csv\")"
   ]
  },
  {
   "cell_type": "markdown",
   "id": "random-anxiety",
   "metadata": {},
   "source": [
    "### Fusion des DataFrame"
   ]
  },
  {
   "cell_type": "code",
   "execution_count": 3,
   "id": "perfect-penalty",
   "metadata": {},
   "outputs": [
    {
     "name": "stdout",
     "output_type": "stream",
     "text": [
      "(4410, 24) (4410, 3) (4410, 4)\n",
      "['EmployeeID', 'JobInvolvement', 'PerformanceRating']\n",
      "['EmployeeID', 'EnvironmentSatisfaction', 'JobSatisfaction', 'WorkLifeBalance']\n"
     ]
    }
   ],
   "source": [
    "print(general_data.shape ,  manager_survey_data.shape ,  employee_survey_data.shape)\n",
    "print(manager_survey_data.columns.tolist())\n",
    "print(employee_survey_data.columns.tolist())"
   ]
  },
  {
   "cell_type": "markdown",
   "id": "prospective-display",
   "metadata": {},
   "source": [
    "### Calcul du temps moyen d'un employé passé au travail"
   ]
  },
  {
   "cell_type": "code",
   "execution_count": 4,
   "id": "naughty-uncle",
   "metadata": {},
   "outputs": [
    {
     "data": {
      "text/html": [
       "<div>\n",
       "<style scoped>\n",
       "    .dataframe tbody tr th:only-of-type {\n",
       "        vertical-align: middle;\n",
       "    }\n",
       "\n",
       "    .dataframe tbody tr th {\n",
       "        vertical-align: top;\n",
       "    }\n",
       "\n",
       "    .dataframe thead th {\n",
       "        text-align: right;\n",
       "    }\n",
       "</style>\n",
       "<table border=\"1\" class=\"dataframe\">\n",
       "  <thead>\n",
       "    <tr style=\"text-align: right;\">\n",
       "      <th></th>\n",
       "      <th>Unnamed: 0</th>\n",
       "      <th>2015-01-01</th>\n",
       "      <th>2015-01-02</th>\n",
       "      <th>2015-01-05</th>\n",
       "      <th>2015-01-06</th>\n",
       "      <th>2015-01-07</th>\n",
       "      <th>2015-01-08</th>\n",
       "      <th>2015-01-09</th>\n",
       "      <th>2015-01-12</th>\n",
       "      <th>2015-01-13</th>\n",
       "      <th>...</th>\n",
       "      <th>2015-12-18</th>\n",
       "      <th>2015-12-21</th>\n",
       "      <th>2015-12-22</th>\n",
       "      <th>2015-12-23</th>\n",
       "      <th>2015-12-24</th>\n",
       "      <th>2015-12-25</th>\n",
       "      <th>2015-12-28</th>\n",
       "      <th>2015-12-29</th>\n",
       "      <th>2015-12-30</th>\n",
       "      <th>2015-12-31</th>\n",
       "    </tr>\n",
       "  </thead>\n",
       "  <tbody>\n",
       "    <tr>\n",
       "      <th>0</th>\n",
       "      <td>1</td>\n",
       "      <td>NaN</td>\n",
       "      <td>2015-01-02 09:43:45</td>\n",
       "      <td>2015-01-05 10:08:48</td>\n",
       "      <td>2015-01-06 09:54:26</td>\n",
       "      <td>2015-01-07 09:34:31</td>\n",
       "      <td>2015-01-08 09:51:09</td>\n",
       "      <td>2015-01-09 10:09:25</td>\n",
       "      <td>2015-01-12 09:42:53</td>\n",
       "      <td>2015-01-13 10:13:06</td>\n",
       "      <td>...</td>\n",
       "      <td>NaN</td>\n",
       "      <td>2015-12-21 09:55:29</td>\n",
       "      <td>2015-12-22 10:04:06</td>\n",
       "      <td>2015-12-23 10:14:27</td>\n",
       "      <td>2015-12-24 10:11:35</td>\n",
       "      <td>NaN</td>\n",
       "      <td>2015-12-28 10:13:41</td>\n",
       "      <td>2015-12-29 10:03:36</td>\n",
       "      <td>2015-12-30 09:54:12</td>\n",
       "      <td>2015-12-31 10:12:44</td>\n",
       "    </tr>\n",
       "    <tr>\n",
       "      <th>1</th>\n",
       "      <td>2</td>\n",
       "      <td>NaN</td>\n",
       "      <td>2015-01-02 10:15:44</td>\n",
       "      <td>2015-01-05 10:21:05</td>\n",
       "      <td>NaN</td>\n",
       "      <td>2015-01-07 09:45:17</td>\n",
       "      <td>2015-01-08 10:09:04</td>\n",
       "      <td>2015-01-09 09:43:26</td>\n",
       "      <td>2015-01-12 10:00:07</td>\n",
       "      <td>2015-01-13 10:43:29</td>\n",
       "      <td>...</td>\n",
       "      <td>2015-12-18 10:37:17</td>\n",
       "      <td>2015-12-21 09:49:02</td>\n",
       "      <td>2015-12-22 10:33:51</td>\n",
       "      <td>2015-12-23 10:12:10</td>\n",
       "      <td>NaN</td>\n",
       "      <td>NaN</td>\n",
       "      <td>2015-12-28 09:31:45</td>\n",
       "      <td>2015-12-29 09:55:49</td>\n",
       "      <td>2015-12-30 10:32:25</td>\n",
       "      <td>2015-12-31 09:27:20</td>\n",
       "    </tr>\n",
       "    <tr>\n",
       "      <th>2</th>\n",
       "      <td>3</td>\n",
       "      <td>NaN</td>\n",
       "      <td>2015-01-02 10:17:41</td>\n",
       "      <td>2015-01-05 09:50:50</td>\n",
       "      <td>2015-01-06 10:14:13</td>\n",
       "      <td>2015-01-07 09:47:27</td>\n",
       "      <td>2015-01-08 10:03:40</td>\n",
       "      <td>2015-01-09 10:05:49</td>\n",
       "      <td>2015-01-12 10:03:47</td>\n",
       "      <td>2015-01-13 10:21:26</td>\n",
       "      <td>...</td>\n",
       "      <td>2015-12-18 10:15:14</td>\n",
       "      <td>2015-12-21 10:10:28</td>\n",
       "      <td>2015-12-22 09:44:44</td>\n",
       "      <td>2015-12-23 10:15:54</td>\n",
       "      <td>2015-12-24 10:07:26</td>\n",
       "      <td>NaN</td>\n",
       "      <td>2015-12-28 09:42:05</td>\n",
       "      <td>2015-12-29 09:43:36</td>\n",
       "      <td>2015-12-30 09:34:05</td>\n",
       "      <td>2015-12-31 10:28:39</td>\n",
       "    </tr>\n",
       "    <tr>\n",
       "      <th>3</th>\n",
       "      <td>4</td>\n",
       "      <td>NaN</td>\n",
       "      <td>2015-01-02 10:05:06</td>\n",
       "      <td>2015-01-05 09:56:32</td>\n",
       "      <td>2015-01-06 10:11:07</td>\n",
       "      <td>2015-01-07 09:37:30</td>\n",
       "      <td>2015-01-08 10:02:08</td>\n",
       "      <td>2015-01-09 10:08:12</td>\n",
       "      <td>2015-01-12 10:13:42</td>\n",
       "      <td>2015-01-13 09:53:22</td>\n",
       "      <td>...</td>\n",
       "      <td>2015-12-18 10:17:38</td>\n",
       "      <td>2015-12-21 09:58:21</td>\n",
       "      <td>2015-12-22 10:04:25</td>\n",
       "      <td>2015-12-23 10:11:46</td>\n",
       "      <td>2015-12-24 09:43:15</td>\n",
       "      <td>NaN</td>\n",
       "      <td>2015-12-28 09:52:44</td>\n",
       "      <td>2015-12-29 09:33:16</td>\n",
       "      <td>2015-12-30 10:18:12</td>\n",
       "      <td>2015-12-31 10:01:15</td>\n",
       "    </tr>\n",
       "    <tr>\n",
       "      <th>4</th>\n",
       "      <td>5</td>\n",
       "      <td>NaN</td>\n",
       "      <td>2015-01-02 10:28:17</td>\n",
       "      <td>2015-01-05 09:49:58</td>\n",
       "      <td>2015-01-06 09:45:28</td>\n",
       "      <td>2015-01-07 09:49:37</td>\n",
       "      <td>2015-01-08 10:19:44</td>\n",
       "      <td>2015-01-09 10:00:50</td>\n",
       "      <td>2015-01-12 10:29:27</td>\n",
       "      <td>2015-01-13 09:59:32</td>\n",
       "      <td>...</td>\n",
       "      <td>2015-12-18 09:58:35</td>\n",
       "      <td>2015-12-21 10:03:41</td>\n",
       "      <td>2015-12-22 10:10:30</td>\n",
       "      <td>2015-12-23 10:13:36</td>\n",
       "      <td>2015-12-24 09:44:24</td>\n",
       "      <td>NaN</td>\n",
       "      <td>2015-12-28 10:05:15</td>\n",
       "      <td>2015-12-29 10:30:53</td>\n",
       "      <td>2015-12-30 09:18:21</td>\n",
       "      <td>2015-12-31 09:41:09</td>\n",
       "    </tr>\n",
       "  </tbody>\n",
       "</table>\n",
       "<p>5 rows × 262 columns</p>\n",
       "</div>"
      ],
      "text/plain": [
       "   Unnamed: 0  2015-01-01           2015-01-02           2015-01-05  \\\n",
       "0           1         NaN  2015-01-02 09:43:45  2015-01-05 10:08:48   \n",
       "1           2         NaN  2015-01-02 10:15:44  2015-01-05 10:21:05   \n",
       "2           3         NaN  2015-01-02 10:17:41  2015-01-05 09:50:50   \n",
       "3           4         NaN  2015-01-02 10:05:06  2015-01-05 09:56:32   \n",
       "4           5         NaN  2015-01-02 10:28:17  2015-01-05 09:49:58   \n",
       "\n",
       "            2015-01-06           2015-01-07           2015-01-08  \\\n",
       "0  2015-01-06 09:54:26  2015-01-07 09:34:31  2015-01-08 09:51:09   \n",
       "1                  NaN  2015-01-07 09:45:17  2015-01-08 10:09:04   \n",
       "2  2015-01-06 10:14:13  2015-01-07 09:47:27  2015-01-08 10:03:40   \n",
       "3  2015-01-06 10:11:07  2015-01-07 09:37:30  2015-01-08 10:02:08   \n",
       "4  2015-01-06 09:45:28  2015-01-07 09:49:37  2015-01-08 10:19:44   \n",
       "\n",
       "            2015-01-09           2015-01-12           2015-01-13  ...  \\\n",
       "0  2015-01-09 10:09:25  2015-01-12 09:42:53  2015-01-13 10:13:06  ...   \n",
       "1  2015-01-09 09:43:26  2015-01-12 10:00:07  2015-01-13 10:43:29  ...   \n",
       "2  2015-01-09 10:05:49  2015-01-12 10:03:47  2015-01-13 10:21:26  ...   \n",
       "3  2015-01-09 10:08:12  2015-01-12 10:13:42  2015-01-13 09:53:22  ...   \n",
       "4  2015-01-09 10:00:50  2015-01-12 10:29:27  2015-01-13 09:59:32  ...   \n",
       "\n",
       "            2015-12-18           2015-12-21           2015-12-22  \\\n",
       "0                  NaN  2015-12-21 09:55:29  2015-12-22 10:04:06   \n",
       "1  2015-12-18 10:37:17  2015-12-21 09:49:02  2015-12-22 10:33:51   \n",
       "2  2015-12-18 10:15:14  2015-12-21 10:10:28  2015-12-22 09:44:44   \n",
       "3  2015-12-18 10:17:38  2015-12-21 09:58:21  2015-12-22 10:04:25   \n",
       "4  2015-12-18 09:58:35  2015-12-21 10:03:41  2015-12-22 10:10:30   \n",
       "\n",
       "            2015-12-23           2015-12-24 2015-12-25           2015-12-28  \\\n",
       "0  2015-12-23 10:14:27  2015-12-24 10:11:35        NaN  2015-12-28 10:13:41   \n",
       "1  2015-12-23 10:12:10                  NaN        NaN  2015-12-28 09:31:45   \n",
       "2  2015-12-23 10:15:54  2015-12-24 10:07:26        NaN  2015-12-28 09:42:05   \n",
       "3  2015-12-23 10:11:46  2015-12-24 09:43:15        NaN  2015-12-28 09:52:44   \n",
       "4  2015-12-23 10:13:36  2015-12-24 09:44:24        NaN  2015-12-28 10:05:15   \n",
       "\n",
       "            2015-12-29           2015-12-30           2015-12-31  \n",
       "0  2015-12-29 10:03:36  2015-12-30 09:54:12  2015-12-31 10:12:44  \n",
       "1  2015-12-29 09:55:49  2015-12-30 10:32:25  2015-12-31 09:27:20  \n",
       "2  2015-12-29 09:43:36  2015-12-30 09:34:05  2015-12-31 10:28:39  \n",
       "3  2015-12-29 09:33:16  2015-12-30 10:18:12  2015-12-31 10:01:15  \n",
       "4  2015-12-29 10:30:53  2015-12-30 09:18:21  2015-12-31 09:41:09  \n",
       "\n",
       "[5 rows x 262 columns]"
      ]
     },
     "execution_count": 4,
     "metadata": {},
     "output_type": "execute_result"
    }
   ],
   "source": [
    "## CODE achille\n",
    "intime_data.head()"
   ]
  },
  {
   "cell_type": "code",
   "execution_count": 5,
   "id": "hearing-gnome",
   "metadata": {},
   "outputs": [
    {
     "data": {
      "text/plain": [
       "(4410, 262)"
      ]
     },
     "execution_count": 5,
     "metadata": {},
     "output_type": "execute_result"
    }
   ],
   "source": [
    "intime_data.shape\n"
   ]
  },
  {
   "cell_type": "code",
   "execution_count": 6,
   "id": "intimate-radio",
   "metadata": {},
   "outputs": [],
   "source": [
    "intime_data=intime_data.replace(np.nan, 0)"
   ]
  },
  {
   "cell_type": "code",
   "execution_count": 7,
   "id": "postal-toyota",
   "metadata": {
    "scrolled": true
   },
   "outputs": [],
   "source": [
    "intime_data.iloc[:, 1:] = intime_data.iloc[:, 1:].apply(pd.to_datetime, errors='coerce')"
   ]
  },
  {
   "cell_type": "code",
   "execution_count": 8,
   "id": "brutal-greene",
   "metadata": {},
   "outputs": [],
   "source": [
    "outtime_data=outtime_data.replace(np.nan,0)"
   ]
  },
  {
   "cell_type": "code",
   "execution_count": 9,
   "id": "linear-snake",
   "metadata": {},
   "outputs": [],
   "source": [
    "outtime_data.iloc[:, 1:] = outtime_data.iloc[:, 1:].apply(pd.to_datetime, errors='coerce')"
   ]
  },
  {
   "cell_type": "code",
   "execution_count": 10,
   "id": "outer-surprise",
   "metadata": {},
   "outputs": [],
   "source": [
    "intime_data=intime_data.append(outtime_data)"
   ]
  },
  {
   "cell_type": "code",
   "execution_count": 11,
   "id": "cleared-somewhere",
   "metadata": {},
   "outputs": [],
   "source": [
    "intime_data=intime_data.diff(periods=4410)\n",
    "intime_data=intime_data.iloc[4410:]\n",
    "intime_data.reset_index(inplace=True)"
   ]
  },
  {
   "cell_type": "code",
   "execution_count": 12,
   "id": "adaptive-border",
   "metadata": {
    "scrolled": true
   },
   "outputs": [],
   "source": [
    "intime_data.drop(columns=['index','Unnamed: 0'],axis=1,inplace=True)"
   ]
  },
  {
   "cell_type": "code",
   "execution_count": 13,
   "id": "developing-disposal",
   "metadata": {
    "scrolled": true
   },
   "outputs": [],
   "source": [
    "intime_data.drop(['2015-01-01', '2015-01-14','2015-01-26','2015-03-05',\n",
    "             '2015-05-01','2015-07-17','2015-09-17','2015-10-02',\n",
    "              '2015-11-09','2015-11-10','2015-11-11','2015-12-25'\n",
    "             ], axis = 1,inplace=True)"
   ]
  },
  {
   "cell_type": "code",
   "execution_count": 14,
   "id": "statistical-preliminary",
   "metadata": {},
   "outputs": [
    {
     "data": {
      "text/plain": [
       "0   0 days 06:52:12.823293172\n",
       "1   0 days 07:18:57.493975903\n",
       "2   0 days 06:48:57.891566265\n",
       "3   0 days 06:47:21.172690763\n",
       "4   0 days 07:52:39.220883534\n",
       "Name: Actual Time, dtype: timedelta64[ns]"
      ]
     },
     "execution_count": 14,
     "metadata": {},
     "output_type": "execute_result"
    }
   ],
   "source": [
    "intime_data['Actual Time']=intime_data.mean(axis=1)\n",
    "intime_data['Actual Time'].head()"
   ]
  },
  {
   "cell_type": "code",
   "execution_count": 15,
   "id": "instant-register",
   "metadata": {},
   "outputs": [],
   "source": [
    "intime_data['MeanHoursWorked']=intime_data['Actual Time']/np.timedelta64(1, 'h')"
   ]
  },
  {
   "cell_type": "code",
   "execution_count": 16,
   "id": "mathematical-madagascar",
   "metadata": {
    "scrolled": true
   },
   "outputs": [],
   "source": [
    "intime_data.reset_index(inplace=True)"
   ]
  },
  {
   "cell_type": "code",
   "execution_count": 17,
   "id": "serial-approval",
   "metadata": {},
   "outputs": [
    {
     "data": {
      "text/html": [
       "<div>\n",
       "<style scoped>\n",
       "    .dataframe tbody tr th:only-of-type {\n",
       "        vertical-align: middle;\n",
       "    }\n",
       "\n",
       "    .dataframe tbody tr th {\n",
       "        vertical-align: top;\n",
       "    }\n",
       "\n",
       "    .dataframe thead th {\n",
       "        text-align: right;\n",
       "    }\n",
       "</style>\n",
       "<table border=\"1\" class=\"dataframe\">\n",
       "  <thead>\n",
       "    <tr style=\"text-align: right;\">\n",
       "      <th></th>\n",
       "      <th>EmployeeID</th>\n",
       "      <th>MeanHoursWorked</th>\n",
       "    </tr>\n",
       "  </thead>\n",
       "  <tbody>\n",
       "    <tr>\n",
       "      <th>0</th>\n",
       "      <td>0</td>\n",
       "      <td>6.870229</td>\n",
       "    </tr>\n",
       "    <tr>\n",
       "      <th>1</th>\n",
       "      <td>1</td>\n",
       "      <td>7.315971</td>\n",
       "    </tr>\n",
       "    <tr>\n",
       "      <th>2</th>\n",
       "      <td>2</td>\n",
       "      <td>6.816081</td>\n",
       "    </tr>\n",
       "    <tr>\n",
       "      <th>3</th>\n",
       "      <td>3</td>\n",
       "      <td>6.789215</td>\n",
       "    </tr>\n",
       "    <tr>\n",
       "      <th>4</th>\n",
       "      <td>4</td>\n",
       "      <td>7.877561</td>\n",
       "    </tr>\n",
       "  </tbody>\n",
       "</table>\n",
       "</div>"
      ],
      "text/plain": [
       "   EmployeeID  MeanHoursWorked\n",
       "0           0         6.870229\n",
       "1           1         7.315971\n",
       "2           2         6.816081\n",
       "3           3         6.789215\n",
       "4           4         7.877561"
      ]
     },
     "execution_count": 17,
     "metadata": {},
     "output_type": "execute_result"
    }
   ],
   "source": [
    "intime_data.drop(intime_data.columns.difference(['index','MeanHoursWorked']), 1, inplace=True)\n",
    "intime_data.rename(columns={'index': 'EmployeeID'},inplace=True)\n",
    "intime_data.head()"
   ]
  },
  {
   "cell_type": "code",
   "execution_count": 18,
   "id": "flying-croatia",
   "metadata": {},
   "outputs": [
    {
     "name": "stdout",
     "output_type": "stream",
     "text": [
      "OK\n"
     ]
    },
    {
     "data": {
      "text/plain": [
       "(4409, 30)"
      ]
     },
     "execution_count": 18,
     "metadata": {},
     "output_type": "execute_result"
    }
   ],
   "source": [
    "df_merge_1=pd.merge(general_data,manager_survey_data,on='EmployeeID')\n",
    "df_merge_2=pd.merge(df_merge_1,employee_survey_data,on='EmployeeID')\n",
    "df=pd.merge(df_merge_2,intime_data,on='EmployeeID')\n",
    "\n",
    "if(len(df.columns.tolist())   == (len(general_data.columns.tolist()) + len(employee_survey_data.columns.tolist()) + len(manager_survey_data.columns.tolist()) + len(intime_data.columns.tolist())) - 3):\n",
    "    print(\"OK\")\n",
    "    \n",
    "df.shape"
   ]
  },
  {
   "cell_type": "markdown",
   "id": "needed-liberal",
   "metadata": {},
   "source": [
    "### Analyse des données"
   ]
  },
  {
   "cell_type": "code",
   "execution_count": 19,
   "id": "perceived-hampton",
   "metadata": {},
   "outputs": [
    {
     "data": {
      "text/html": [
       "<div>\n",
       "<style scoped>\n",
       "    .dataframe tbody tr th:only-of-type {\n",
       "        vertical-align: middle;\n",
       "    }\n",
       "\n",
       "    .dataframe tbody tr th {\n",
       "        vertical-align: top;\n",
       "    }\n",
       "\n",
       "    .dataframe thead th {\n",
       "        text-align: right;\n",
       "    }\n",
       "</style>\n",
       "<table border=\"1\" class=\"dataframe\">\n",
       "  <thead>\n",
       "    <tr style=\"text-align: right;\">\n",
       "      <th></th>\n",
       "      <th>Age</th>\n",
       "      <th>Attrition</th>\n",
       "      <th>BusinessTravel</th>\n",
       "      <th>Department</th>\n",
       "      <th>DistanceFromHome</th>\n",
       "      <th>Education</th>\n",
       "      <th>EducationField</th>\n",
       "      <th>EmployeeID</th>\n",
       "      <th>Gender</th>\n",
       "      <th>JobLevel</th>\n",
       "      <th>...</th>\n",
       "      <th>TrainingTimesLastYear</th>\n",
       "      <th>YearsAtCompany</th>\n",
       "      <th>YearsSinceLastPromotion</th>\n",
       "      <th>YearsWithCurrManager</th>\n",
       "      <th>JobInvolvement</th>\n",
       "      <th>PerformanceRating</th>\n",
       "      <th>EnvironmentSatisfaction</th>\n",
       "      <th>JobSatisfaction</th>\n",
       "      <th>WorkLifeBalance</th>\n",
       "      <th>MeanHoursWorked</th>\n",
       "    </tr>\n",
       "  </thead>\n",
       "  <tbody>\n",
       "    <tr>\n",
       "      <th>0</th>\n",
       "      <td>51</td>\n",
       "      <td>No</td>\n",
       "      <td>Travel_Rarely</td>\n",
       "      <td>Sales</td>\n",
       "      <td>6</td>\n",
       "      <td>2</td>\n",
       "      <td>Life Sciences</td>\n",
       "      <td>1</td>\n",
       "      <td>Female</td>\n",
       "      <td>1</td>\n",
       "      <td>...</td>\n",
       "      <td>6</td>\n",
       "      <td>1</td>\n",
       "      <td>0</td>\n",
       "      <td>0</td>\n",
       "      <td>3</td>\n",
       "      <td>3</td>\n",
       "      <td>3.0</td>\n",
       "      <td>4.0</td>\n",
       "      <td>2.0</td>\n",
       "      <td>7.315971</td>\n",
       "    </tr>\n",
       "    <tr>\n",
       "      <th>1</th>\n",
       "      <td>31</td>\n",
       "      <td>Yes</td>\n",
       "      <td>Travel_Frequently</td>\n",
       "      <td>Research &amp; Development</td>\n",
       "      <td>10</td>\n",
       "      <td>1</td>\n",
       "      <td>Life Sciences</td>\n",
       "      <td>2</td>\n",
       "      <td>Female</td>\n",
       "      <td>1</td>\n",
       "      <td>...</td>\n",
       "      <td>3</td>\n",
       "      <td>5</td>\n",
       "      <td>1</td>\n",
       "      <td>4</td>\n",
       "      <td>2</td>\n",
       "      <td>4</td>\n",
       "      <td>3.0</td>\n",
       "      <td>2.0</td>\n",
       "      <td>4.0</td>\n",
       "      <td>6.816081</td>\n",
       "    </tr>\n",
       "    <tr>\n",
       "      <th>2</th>\n",
       "      <td>32</td>\n",
       "      <td>No</td>\n",
       "      <td>Travel_Frequently</td>\n",
       "      <td>Research &amp; Development</td>\n",
       "      <td>17</td>\n",
       "      <td>4</td>\n",
       "      <td>Other</td>\n",
       "      <td>3</td>\n",
       "      <td>Male</td>\n",
       "      <td>4</td>\n",
       "      <td>...</td>\n",
       "      <td>2</td>\n",
       "      <td>5</td>\n",
       "      <td>0</td>\n",
       "      <td>3</td>\n",
       "      <td>3</td>\n",
       "      <td>3</td>\n",
       "      <td>2.0</td>\n",
       "      <td>2.0</td>\n",
       "      <td>1.0</td>\n",
       "      <td>6.789215</td>\n",
       "    </tr>\n",
       "    <tr>\n",
       "      <th>3</th>\n",
       "      <td>38</td>\n",
       "      <td>No</td>\n",
       "      <td>Non-Travel</td>\n",
       "      <td>Research &amp; Development</td>\n",
       "      <td>2</td>\n",
       "      <td>5</td>\n",
       "      <td>Life Sciences</td>\n",
       "      <td>4</td>\n",
       "      <td>Male</td>\n",
       "      <td>3</td>\n",
       "      <td>...</td>\n",
       "      <td>5</td>\n",
       "      <td>8</td>\n",
       "      <td>7</td>\n",
       "      <td>5</td>\n",
       "      <td>2</td>\n",
       "      <td>3</td>\n",
       "      <td>4.0</td>\n",
       "      <td>4.0</td>\n",
       "      <td>3.0</td>\n",
       "      <td>7.877561</td>\n",
       "    </tr>\n",
       "    <tr>\n",
       "      <th>4</th>\n",
       "      <td>32</td>\n",
       "      <td>No</td>\n",
       "      <td>Travel_Rarely</td>\n",
       "      <td>Research &amp; Development</td>\n",
       "      <td>10</td>\n",
       "      <td>1</td>\n",
       "      <td>Medical</td>\n",
       "      <td>5</td>\n",
       "      <td>Male</td>\n",
       "      <td>1</td>\n",
       "      <td>...</td>\n",
       "      <td>2</td>\n",
       "      <td>6</td>\n",
       "      <td>0</td>\n",
       "      <td>4</td>\n",
       "      <td>3</td>\n",
       "      <td>3</td>\n",
       "      <td>4.0</td>\n",
       "      <td>1.0</td>\n",
       "      <td>3.0</td>\n",
       "      <td>10.275802</td>\n",
       "    </tr>\n",
       "  </tbody>\n",
       "</table>\n",
       "<p>5 rows × 27 columns</p>\n",
       "</div>"
      ],
      "text/plain": [
       "   Age Attrition     BusinessTravel              Department  DistanceFromHome  \\\n",
       "0   51        No      Travel_Rarely                   Sales                 6   \n",
       "1   31       Yes  Travel_Frequently  Research & Development                10   \n",
       "2   32        No  Travel_Frequently  Research & Development                17   \n",
       "3   38        No         Non-Travel  Research & Development                 2   \n",
       "4   32        No      Travel_Rarely  Research & Development                10   \n",
       "\n",
       "   Education EducationField  EmployeeID  Gender  JobLevel  ...  \\\n",
       "0          2  Life Sciences           1  Female         1  ...   \n",
       "1          1  Life Sciences           2  Female         1  ...   \n",
       "2          4          Other           3    Male         4  ...   \n",
       "3          5  Life Sciences           4    Male         3  ...   \n",
       "4          1        Medical           5    Male         1  ...   \n",
       "\n",
       "  TrainingTimesLastYear YearsAtCompany  YearsSinceLastPromotion  \\\n",
       "0                     6              1                        0   \n",
       "1                     3              5                        1   \n",
       "2                     2              5                        0   \n",
       "3                     5              8                        7   \n",
       "4                     2              6                        0   \n",
       "\n",
       "   YearsWithCurrManager  JobInvolvement  PerformanceRating  \\\n",
       "0                     0               3                  3   \n",
       "1                     4               2                  4   \n",
       "2                     3               3                  3   \n",
       "3                     5               2                  3   \n",
       "4                     4               3                  3   \n",
       "\n",
       "   EnvironmentSatisfaction  JobSatisfaction  WorkLifeBalance  MeanHoursWorked  \n",
       "0                      3.0              4.0              2.0         7.315971  \n",
       "1                      3.0              2.0              4.0         6.816081  \n",
       "2                      2.0              2.0              1.0         6.789215  \n",
       "3                      4.0              4.0              3.0         7.877561  \n",
       "4                      4.0              1.0              3.0        10.275802  \n",
       "\n",
       "[5 rows x 27 columns]"
      ]
     },
     "execution_count": 19,
     "metadata": {},
     "output_type": "execute_result"
    }
   ],
   "source": [
    "df.drop(['Over18','EmployeeCount', 'StandardHours'], axis='columns', inplace=True)\n",
    "df.head()"
   ]
  },
  {
   "cell_type": "code",
   "execution_count": 20,
   "id": "detailed-multimedia",
   "metadata": {},
   "outputs": [
    {
     "data": {
      "text/plain": [
       "Age                          int64\n",
       "Attrition                   object\n",
       "BusinessTravel              object\n",
       "Department                  object\n",
       "DistanceFromHome             int64\n",
       "Education                    int64\n",
       "EducationField              object\n",
       "EmployeeID                   int64\n",
       "Gender                      object\n",
       "JobLevel                     int64\n",
       "JobRole                     object\n",
       "MaritalStatus               object\n",
       "MonthlyIncome                int64\n",
       "NumCompaniesWorked         float64\n",
       "PercentSalaryHike            int64\n",
       "StockOptionLevel             int64\n",
       "TotalWorkingYears          float64\n",
       "TrainingTimesLastYear        int64\n",
       "YearsAtCompany               int64\n",
       "YearsSinceLastPromotion      int64\n",
       "YearsWithCurrManager         int64\n",
       "JobInvolvement               int64\n",
       "PerformanceRating            int64\n",
       "EnvironmentSatisfaction    float64\n",
       "JobSatisfaction            float64\n",
       "WorkLifeBalance            float64\n",
       "MeanHoursWorked            float64\n",
       "dtype: object"
      ]
     },
     "execution_count": 20,
     "metadata": {},
     "output_type": "execute_result"
    }
   ],
   "source": [
    "df.dtypes"
   ]
  },
  {
   "cell_type": "code",
   "execution_count": 21,
   "id": "fewer-tension",
   "metadata": {},
   "outputs": [
    {
     "data": {
      "text/plain": [
       "(4409, 27)"
      ]
     },
     "execution_count": 21,
     "metadata": {},
     "output_type": "execute_result"
    }
   ],
   "source": [
    "df.shape"
   ]
  },
  {
   "cell_type": "code",
   "execution_count": 22,
   "id": "right-reunion",
   "metadata": {
    "scrolled": true
   },
   "outputs": [
    {
     "data": {
      "text/html": [
       "<div>\n",
       "<style scoped>\n",
       "    .dataframe tbody tr th:only-of-type {\n",
       "        vertical-align: middle;\n",
       "    }\n",
       "\n",
       "    .dataframe tbody tr th {\n",
       "        vertical-align: top;\n",
       "    }\n",
       "\n",
       "    .dataframe thead th {\n",
       "        text-align: right;\n",
       "    }\n",
       "</style>\n",
       "<table border=\"1\" class=\"dataframe\">\n",
       "  <thead>\n",
       "    <tr style=\"text-align: right;\">\n",
       "      <th></th>\n",
       "      <th>Age</th>\n",
       "      <th>DistanceFromHome</th>\n",
       "      <th>Education</th>\n",
       "      <th>EmployeeID</th>\n",
       "      <th>JobLevel</th>\n",
       "      <th>MonthlyIncome</th>\n",
       "      <th>NumCompaniesWorked</th>\n",
       "      <th>PercentSalaryHike</th>\n",
       "      <th>StockOptionLevel</th>\n",
       "      <th>TotalWorkingYears</th>\n",
       "      <th>TrainingTimesLastYear</th>\n",
       "      <th>YearsAtCompany</th>\n",
       "      <th>YearsSinceLastPromotion</th>\n",
       "      <th>YearsWithCurrManager</th>\n",
       "      <th>JobInvolvement</th>\n",
       "      <th>PerformanceRating</th>\n",
       "      <th>EnvironmentSatisfaction</th>\n",
       "      <th>JobSatisfaction</th>\n",
       "      <th>WorkLifeBalance</th>\n",
       "      <th>MeanHoursWorked</th>\n",
       "    </tr>\n",
       "  </thead>\n",
       "  <tbody>\n",
       "    <tr>\n",
       "      <th>count</th>\n",
       "      <td>4409.000000</td>\n",
       "      <td>4409.000000</td>\n",
       "      <td>4409.000000</td>\n",
       "      <td>4409.000000</td>\n",
       "      <td>4409.000000</td>\n",
       "      <td>4409.000000</td>\n",
       "      <td>4390.000000</td>\n",
       "      <td>4409.000000</td>\n",
       "      <td>4409.000000</td>\n",
       "      <td>4401.000000</td>\n",
       "      <td>4409.000000</td>\n",
       "      <td>4409.000000</td>\n",
       "      <td>4409.000000</td>\n",
       "      <td>4409.000000</td>\n",
       "      <td>4409.000000</td>\n",
       "      <td>4409.000000</td>\n",
       "      <td>4384.000000</td>\n",
       "      <td>4389.000000</td>\n",
       "      <td>4372.000000</td>\n",
       "      <td>4409.000000</td>\n",
       "    </tr>\n",
       "    <tr>\n",
       "      <th>mean</th>\n",
       "      <td>36.923112</td>\n",
       "      <td>9.188251</td>\n",
       "      <td>2.912905</td>\n",
       "      <td>2205.000000</td>\n",
       "      <td>2.063960</td>\n",
       "      <td>65031.660240</td>\n",
       "      <td>2.695444</td>\n",
       "      <td>15.210252</td>\n",
       "      <td>0.794058</td>\n",
       "      <td>11.279936</td>\n",
       "      <td>2.798594</td>\n",
       "      <td>7.004990</td>\n",
       "      <td>2.187571</td>\n",
       "      <td>4.122023</td>\n",
       "      <td>2.729644</td>\n",
       "      <td>3.153776</td>\n",
       "      <td>2.723996</td>\n",
       "      <td>2.728184</td>\n",
       "      <td>2.761436</td>\n",
       "      <td>7.314463</td>\n",
       "    </tr>\n",
       "    <tr>\n",
       "      <th>std</th>\n",
       "      <td>9.134220</td>\n",
       "      <td>8.100992</td>\n",
       "      <td>1.024048</td>\n",
       "      <td>1272.912998</td>\n",
       "      <td>1.106814</td>\n",
       "      <td>47073.969139</td>\n",
       "      <td>2.498840</td>\n",
       "      <td>3.659203</td>\n",
       "      <td>0.851896</td>\n",
       "      <td>7.782222</td>\n",
       "      <td>1.288222</td>\n",
       "      <td>6.122203</td>\n",
       "      <td>3.222042</td>\n",
       "      <td>3.566975</td>\n",
       "      <td>0.711223</td>\n",
       "      <td>0.360775</td>\n",
       "      <td>1.092571</td>\n",
       "      <td>1.101371</td>\n",
       "      <td>0.706245</td>\n",
       "      <td>1.330903</td>\n",
       "    </tr>\n",
       "    <tr>\n",
       "      <th>min</th>\n",
       "      <td>18.000000</td>\n",
       "      <td>1.000000</td>\n",
       "      <td>1.000000</td>\n",
       "      <td>1.000000</td>\n",
       "      <td>1.000000</td>\n",
       "      <td>10090.000000</td>\n",
       "      <td>0.000000</td>\n",
       "      <td>11.000000</td>\n",
       "      <td>0.000000</td>\n",
       "      <td>0.000000</td>\n",
       "      <td>0.000000</td>\n",
       "      <td>0.000000</td>\n",
       "      <td>0.000000</td>\n",
       "      <td>0.000000</td>\n",
       "      <td>1.000000</td>\n",
       "      <td>3.000000</td>\n",
       "      <td>1.000000</td>\n",
       "      <td>1.000000</td>\n",
       "      <td>1.000000</td>\n",
       "      <td>5.416880</td>\n",
       "    </tr>\n",
       "    <tr>\n",
       "      <th>25%</th>\n",
       "      <td>30.000000</td>\n",
       "      <td>2.000000</td>\n",
       "      <td>2.000000</td>\n",
       "      <td>1103.000000</td>\n",
       "      <td>1.000000</td>\n",
       "      <td>29110.000000</td>\n",
       "      <td>1.000000</td>\n",
       "      <td>12.000000</td>\n",
       "      <td>0.000000</td>\n",
       "      <td>6.000000</td>\n",
       "      <td>2.000000</td>\n",
       "      <td>3.000000</td>\n",
       "      <td>0.000000</td>\n",
       "      <td>2.000000</td>\n",
       "      <td>2.000000</td>\n",
       "      <td>3.000000</td>\n",
       "      <td>2.000000</td>\n",
       "      <td>2.000000</td>\n",
       "      <td>2.000000</td>\n",
       "      <td>6.278995</td>\n",
       "    </tr>\n",
       "    <tr>\n",
       "      <th>50%</th>\n",
       "      <td>36.000000</td>\n",
       "      <td>7.000000</td>\n",
       "      <td>3.000000</td>\n",
       "      <td>2205.000000</td>\n",
       "      <td>2.000000</td>\n",
       "      <td>49080.000000</td>\n",
       "      <td>2.000000</td>\n",
       "      <td>14.000000</td>\n",
       "      <td>1.000000</td>\n",
       "      <td>10.000000</td>\n",
       "      <td>3.000000</td>\n",
       "      <td>5.000000</td>\n",
       "      <td>1.000000</td>\n",
       "      <td>3.000000</td>\n",
       "      <td>3.000000</td>\n",
       "      <td>3.000000</td>\n",
       "      <td>3.000000</td>\n",
       "      <td>3.000000</td>\n",
       "      <td>3.000000</td>\n",
       "      <td>7.011237</td>\n",
       "    </tr>\n",
       "    <tr>\n",
       "      <th>75%</th>\n",
       "      <td>43.000000</td>\n",
       "      <td>14.000000</td>\n",
       "      <td>4.000000</td>\n",
       "      <td>3307.000000</td>\n",
       "      <td>3.000000</td>\n",
       "      <td>83800.000000</td>\n",
       "      <td>4.000000</td>\n",
       "      <td>18.000000</td>\n",
       "      <td>1.000000</td>\n",
       "      <td>15.000000</td>\n",
       "      <td>3.000000</td>\n",
       "      <td>9.000000</td>\n",
       "      <td>3.000000</td>\n",
       "      <td>7.000000</td>\n",
       "      <td>3.000000</td>\n",
       "      <td>3.000000</td>\n",
       "      <td>4.000000</td>\n",
       "      <td>4.000000</td>\n",
       "      <td>3.000000</td>\n",
       "      <td>7.900932</td>\n",
       "    </tr>\n",
       "    <tr>\n",
       "      <th>max</th>\n",
       "      <td>60.000000</td>\n",
       "      <td>29.000000</td>\n",
       "      <td>5.000000</td>\n",
       "      <td>4409.000000</td>\n",
       "      <td>5.000000</td>\n",
       "      <td>199990.000000</td>\n",
       "      <td>9.000000</td>\n",
       "      <td>25.000000</td>\n",
       "      <td>3.000000</td>\n",
       "      <td>40.000000</td>\n",
       "      <td>6.000000</td>\n",
       "      <td>40.000000</td>\n",
       "      <td>15.000000</td>\n",
       "      <td>17.000000</td>\n",
       "      <td>4.000000</td>\n",
       "      <td>4.000000</td>\n",
       "      <td>4.000000</td>\n",
       "      <td>4.000000</td>\n",
       "      <td>4.000000</td>\n",
       "      <td>10.937261</td>\n",
       "    </tr>\n",
       "  </tbody>\n",
       "</table>\n",
       "</div>"
      ],
      "text/plain": [
       "               Age  DistanceFromHome    Education   EmployeeID     JobLevel  \\\n",
       "count  4409.000000       4409.000000  4409.000000  4409.000000  4409.000000   \n",
       "mean     36.923112          9.188251     2.912905  2205.000000     2.063960   \n",
       "std       9.134220          8.100992     1.024048  1272.912998     1.106814   \n",
       "min      18.000000          1.000000     1.000000     1.000000     1.000000   \n",
       "25%      30.000000          2.000000     2.000000  1103.000000     1.000000   \n",
       "50%      36.000000          7.000000     3.000000  2205.000000     2.000000   \n",
       "75%      43.000000         14.000000     4.000000  3307.000000     3.000000   \n",
       "max      60.000000         29.000000     5.000000  4409.000000     5.000000   \n",
       "\n",
       "       MonthlyIncome  NumCompaniesWorked  PercentSalaryHike  StockOptionLevel  \\\n",
       "count    4409.000000         4390.000000        4409.000000       4409.000000   \n",
       "mean    65031.660240            2.695444          15.210252          0.794058   \n",
       "std     47073.969139            2.498840           3.659203          0.851896   \n",
       "min     10090.000000            0.000000          11.000000          0.000000   \n",
       "25%     29110.000000            1.000000          12.000000          0.000000   \n",
       "50%     49080.000000            2.000000          14.000000          1.000000   \n",
       "75%     83800.000000            4.000000          18.000000          1.000000   \n",
       "max    199990.000000            9.000000          25.000000          3.000000   \n",
       "\n",
       "       TotalWorkingYears  TrainingTimesLastYear  YearsAtCompany  \\\n",
       "count        4401.000000            4409.000000     4409.000000   \n",
       "mean           11.279936               2.798594        7.004990   \n",
       "std             7.782222               1.288222        6.122203   \n",
       "min             0.000000               0.000000        0.000000   \n",
       "25%             6.000000               2.000000        3.000000   \n",
       "50%            10.000000               3.000000        5.000000   \n",
       "75%            15.000000               3.000000        9.000000   \n",
       "max            40.000000               6.000000       40.000000   \n",
       "\n",
       "       YearsSinceLastPromotion  YearsWithCurrManager  JobInvolvement  \\\n",
       "count              4409.000000           4409.000000     4409.000000   \n",
       "mean                  2.187571              4.122023        2.729644   \n",
       "std                   3.222042              3.566975        0.711223   \n",
       "min                   0.000000              0.000000        1.000000   \n",
       "25%                   0.000000              2.000000        2.000000   \n",
       "50%                   1.000000              3.000000        3.000000   \n",
       "75%                   3.000000              7.000000        3.000000   \n",
       "max                  15.000000             17.000000        4.000000   \n",
       "\n",
       "       PerformanceRating  EnvironmentSatisfaction  JobSatisfaction  \\\n",
       "count        4409.000000              4384.000000      4389.000000   \n",
       "mean            3.153776                 2.723996         2.728184   \n",
       "std             0.360775                 1.092571         1.101371   \n",
       "min             3.000000                 1.000000         1.000000   \n",
       "25%             3.000000                 2.000000         2.000000   \n",
       "50%             3.000000                 3.000000         3.000000   \n",
       "75%             3.000000                 4.000000         4.000000   \n",
       "max             4.000000                 4.000000         4.000000   \n",
       "\n",
       "       WorkLifeBalance  MeanHoursWorked  \n",
       "count      4372.000000      4409.000000  \n",
       "mean          2.761436         7.314463  \n",
       "std           0.706245         1.330903  \n",
       "min           1.000000         5.416880  \n",
       "25%           2.000000         6.278995  \n",
       "50%           3.000000         7.011237  \n",
       "75%           3.000000         7.900932  \n",
       "max           4.000000        10.937261  "
      ]
     },
     "execution_count": 22,
     "metadata": {},
     "output_type": "execute_result"
    }
   ],
   "source": [
    "df.describe()"
   ]
  },
  {
   "cell_type": "code",
   "execution_count": 23,
   "id": "absent-westminster",
   "metadata": {},
   "outputs": [],
   "source": [
    "#df = df_preprocessing.dropna()"
   ]
  },
  {
   "cell_type": "code",
   "execution_count": 24,
   "id": "bibliographic-spanking",
   "metadata": {
    "scrolled": true
   },
   "outputs": [
    {
     "data": {
      "text/plain": [
       "(4409, 27)"
      ]
     },
     "execution_count": 24,
     "metadata": {},
     "output_type": "execute_result"
    }
   ],
   "source": [
    "df.shape"
   ]
  },
  {
   "cell_type": "code",
   "execution_count": 25,
   "id": "pharmaceutical-provider",
   "metadata": {
    "scrolled": true
   },
   "outputs": [
    {
     "data": {
      "text/html": [
       "<div>\n",
       "<style scoped>\n",
       "    .dataframe tbody tr th:only-of-type {\n",
       "        vertical-align: middle;\n",
       "    }\n",
       "\n",
       "    .dataframe tbody tr th {\n",
       "        vertical-align: top;\n",
       "    }\n",
       "\n",
       "    .dataframe thead th {\n",
       "        text-align: right;\n",
       "    }\n",
       "</style>\n",
       "<table border=\"1\" class=\"dataframe\">\n",
       "  <thead>\n",
       "    <tr style=\"text-align: right;\">\n",
       "      <th></th>\n",
       "      <th>Age</th>\n",
       "      <th>DistanceFromHome</th>\n",
       "      <th>Education</th>\n",
       "      <th>EmployeeID</th>\n",
       "      <th>JobLevel</th>\n",
       "      <th>MonthlyIncome</th>\n",
       "      <th>NumCompaniesWorked</th>\n",
       "      <th>PercentSalaryHike</th>\n",
       "      <th>StockOptionLevel</th>\n",
       "      <th>TotalWorkingYears</th>\n",
       "      <th>TrainingTimesLastYear</th>\n",
       "      <th>YearsAtCompany</th>\n",
       "      <th>YearsSinceLastPromotion</th>\n",
       "      <th>YearsWithCurrManager</th>\n",
       "      <th>JobInvolvement</th>\n",
       "      <th>PerformanceRating</th>\n",
       "      <th>EnvironmentSatisfaction</th>\n",
       "      <th>JobSatisfaction</th>\n",
       "      <th>WorkLifeBalance</th>\n",
       "      <th>MeanHoursWorked</th>\n",
       "    </tr>\n",
       "  </thead>\n",
       "  <tbody>\n",
       "    <tr>\n",
       "      <th>count</th>\n",
       "      <td>4409.000000</td>\n",
       "      <td>4409.000000</td>\n",
       "      <td>4409.000000</td>\n",
       "      <td>4409.000000</td>\n",
       "      <td>4409.000000</td>\n",
       "      <td>4409.000000</td>\n",
       "      <td>4390.000000</td>\n",
       "      <td>4409.000000</td>\n",
       "      <td>4409.000000</td>\n",
       "      <td>4401.000000</td>\n",
       "      <td>4409.000000</td>\n",
       "      <td>4409.000000</td>\n",
       "      <td>4409.000000</td>\n",
       "      <td>4409.000000</td>\n",
       "      <td>4409.000000</td>\n",
       "      <td>4409.000000</td>\n",
       "      <td>4384.000000</td>\n",
       "      <td>4389.000000</td>\n",
       "      <td>4372.000000</td>\n",
       "      <td>4409.000000</td>\n",
       "    </tr>\n",
       "    <tr>\n",
       "      <th>mean</th>\n",
       "      <td>36.923112</td>\n",
       "      <td>9.188251</td>\n",
       "      <td>2.912905</td>\n",
       "      <td>2205.000000</td>\n",
       "      <td>2.063960</td>\n",
       "      <td>65031.660240</td>\n",
       "      <td>2.695444</td>\n",
       "      <td>15.210252</td>\n",
       "      <td>0.794058</td>\n",
       "      <td>11.279936</td>\n",
       "      <td>2.798594</td>\n",
       "      <td>7.004990</td>\n",
       "      <td>2.187571</td>\n",
       "      <td>4.122023</td>\n",
       "      <td>2.729644</td>\n",
       "      <td>3.153776</td>\n",
       "      <td>2.723996</td>\n",
       "      <td>2.728184</td>\n",
       "      <td>2.761436</td>\n",
       "      <td>7.314463</td>\n",
       "    </tr>\n",
       "    <tr>\n",
       "      <th>std</th>\n",
       "      <td>9.134220</td>\n",
       "      <td>8.100992</td>\n",
       "      <td>1.024048</td>\n",
       "      <td>1272.912998</td>\n",
       "      <td>1.106814</td>\n",
       "      <td>47073.969139</td>\n",
       "      <td>2.498840</td>\n",
       "      <td>3.659203</td>\n",
       "      <td>0.851896</td>\n",
       "      <td>7.782222</td>\n",
       "      <td>1.288222</td>\n",
       "      <td>6.122203</td>\n",
       "      <td>3.222042</td>\n",
       "      <td>3.566975</td>\n",
       "      <td>0.711223</td>\n",
       "      <td>0.360775</td>\n",
       "      <td>1.092571</td>\n",
       "      <td>1.101371</td>\n",
       "      <td>0.706245</td>\n",
       "      <td>1.330903</td>\n",
       "    </tr>\n",
       "    <tr>\n",
       "      <th>min</th>\n",
       "      <td>18.000000</td>\n",
       "      <td>1.000000</td>\n",
       "      <td>1.000000</td>\n",
       "      <td>1.000000</td>\n",
       "      <td>1.000000</td>\n",
       "      <td>10090.000000</td>\n",
       "      <td>0.000000</td>\n",
       "      <td>11.000000</td>\n",
       "      <td>0.000000</td>\n",
       "      <td>0.000000</td>\n",
       "      <td>0.000000</td>\n",
       "      <td>0.000000</td>\n",
       "      <td>0.000000</td>\n",
       "      <td>0.000000</td>\n",
       "      <td>1.000000</td>\n",
       "      <td>3.000000</td>\n",
       "      <td>1.000000</td>\n",
       "      <td>1.000000</td>\n",
       "      <td>1.000000</td>\n",
       "      <td>5.416880</td>\n",
       "    </tr>\n",
       "    <tr>\n",
       "      <th>25%</th>\n",
       "      <td>30.000000</td>\n",
       "      <td>2.000000</td>\n",
       "      <td>2.000000</td>\n",
       "      <td>1103.000000</td>\n",
       "      <td>1.000000</td>\n",
       "      <td>29110.000000</td>\n",
       "      <td>1.000000</td>\n",
       "      <td>12.000000</td>\n",
       "      <td>0.000000</td>\n",
       "      <td>6.000000</td>\n",
       "      <td>2.000000</td>\n",
       "      <td>3.000000</td>\n",
       "      <td>0.000000</td>\n",
       "      <td>2.000000</td>\n",
       "      <td>2.000000</td>\n",
       "      <td>3.000000</td>\n",
       "      <td>2.000000</td>\n",
       "      <td>2.000000</td>\n",
       "      <td>2.000000</td>\n",
       "      <td>6.278995</td>\n",
       "    </tr>\n",
       "    <tr>\n",
       "      <th>50%</th>\n",
       "      <td>36.000000</td>\n",
       "      <td>7.000000</td>\n",
       "      <td>3.000000</td>\n",
       "      <td>2205.000000</td>\n",
       "      <td>2.000000</td>\n",
       "      <td>49080.000000</td>\n",
       "      <td>2.000000</td>\n",
       "      <td>14.000000</td>\n",
       "      <td>1.000000</td>\n",
       "      <td>10.000000</td>\n",
       "      <td>3.000000</td>\n",
       "      <td>5.000000</td>\n",
       "      <td>1.000000</td>\n",
       "      <td>3.000000</td>\n",
       "      <td>3.000000</td>\n",
       "      <td>3.000000</td>\n",
       "      <td>3.000000</td>\n",
       "      <td>3.000000</td>\n",
       "      <td>3.000000</td>\n",
       "      <td>7.011237</td>\n",
       "    </tr>\n",
       "    <tr>\n",
       "      <th>75%</th>\n",
       "      <td>43.000000</td>\n",
       "      <td>14.000000</td>\n",
       "      <td>4.000000</td>\n",
       "      <td>3307.000000</td>\n",
       "      <td>3.000000</td>\n",
       "      <td>83800.000000</td>\n",
       "      <td>4.000000</td>\n",
       "      <td>18.000000</td>\n",
       "      <td>1.000000</td>\n",
       "      <td>15.000000</td>\n",
       "      <td>3.000000</td>\n",
       "      <td>9.000000</td>\n",
       "      <td>3.000000</td>\n",
       "      <td>7.000000</td>\n",
       "      <td>3.000000</td>\n",
       "      <td>3.000000</td>\n",
       "      <td>4.000000</td>\n",
       "      <td>4.000000</td>\n",
       "      <td>3.000000</td>\n",
       "      <td>7.900932</td>\n",
       "    </tr>\n",
       "    <tr>\n",
       "      <th>max</th>\n",
       "      <td>60.000000</td>\n",
       "      <td>29.000000</td>\n",
       "      <td>5.000000</td>\n",
       "      <td>4409.000000</td>\n",
       "      <td>5.000000</td>\n",
       "      <td>199990.000000</td>\n",
       "      <td>9.000000</td>\n",
       "      <td>25.000000</td>\n",
       "      <td>3.000000</td>\n",
       "      <td>40.000000</td>\n",
       "      <td>6.000000</td>\n",
       "      <td>40.000000</td>\n",
       "      <td>15.000000</td>\n",
       "      <td>17.000000</td>\n",
       "      <td>4.000000</td>\n",
       "      <td>4.000000</td>\n",
       "      <td>4.000000</td>\n",
       "      <td>4.000000</td>\n",
       "      <td>4.000000</td>\n",
       "      <td>10.937261</td>\n",
       "    </tr>\n",
       "  </tbody>\n",
       "</table>\n",
       "</div>"
      ],
      "text/plain": [
       "               Age  DistanceFromHome    Education   EmployeeID     JobLevel  \\\n",
       "count  4409.000000       4409.000000  4409.000000  4409.000000  4409.000000   \n",
       "mean     36.923112          9.188251     2.912905  2205.000000     2.063960   \n",
       "std       9.134220          8.100992     1.024048  1272.912998     1.106814   \n",
       "min      18.000000          1.000000     1.000000     1.000000     1.000000   \n",
       "25%      30.000000          2.000000     2.000000  1103.000000     1.000000   \n",
       "50%      36.000000          7.000000     3.000000  2205.000000     2.000000   \n",
       "75%      43.000000         14.000000     4.000000  3307.000000     3.000000   \n",
       "max      60.000000         29.000000     5.000000  4409.000000     5.000000   \n",
       "\n",
       "       MonthlyIncome  NumCompaniesWorked  PercentSalaryHike  StockOptionLevel  \\\n",
       "count    4409.000000         4390.000000        4409.000000       4409.000000   \n",
       "mean    65031.660240            2.695444          15.210252          0.794058   \n",
       "std     47073.969139            2.498840           3.659203          0.851896   \n",
       "min     10090.000000            0.000000          11.000000          0.000000   \n",
       "25%     29110.000000            1.000000          12.000000          0.000000   \n",
       "50%     49080.000000            2.000000          14.000000          1.000000   \n",
       "75%     83800.000000            4.000000          18.000000          1.000000   \n",
       "max    199990.000000            9.000000          25.000000          3.000000   \n",
       "\n",
       "       TotalWorkingYears  TrainingTimesLastYear  YearsAtCompany  \\\n",
       "count        4401.000000            4409.000000     4409.000000   \n",
       "mean           11.279936               2.798594        7.004990   \n",
       "std             7.782222               1.288222        6.122203   \n",
       "min             0.000000               0.000000        0.000000   \n",
       "25%             6.000000               2.000000        3.000000   \n",
       "50%            10.000000               3.000000        5.000000   \n",
       "75%            15.000000               3.000000        9.000000   \n",
       "max            40.000000               6.000000       40.000000   \n",
       "\n",
       "       YearsSinceLastPromotion  YearsWithCurrManager  JobInvolvement  \\\n",
       "count              4409.000000           4409.000000     4409.000000   \n",
       "mean                  2.187571              4.122023        2.729644   \n",
       "std                   3.222042              3.566975        0.711223   \n",
       "min                   0.000000              0.000000        1.000000   \n",
       "25%                   0.000000              2.000000        2.000000   \n",
       "50%                   1.000000              3.000000        3.000000   \n",
       "75%                   3.000000              7.000000        3.000000   \n",
       "max                  15.000000             17.000000        4.000000   \n",
       "\n",
       "       PerformanceRating  EnvironmentSatisfaction  JobSatisfaction  \\\n",
       "count        4409.000000              4384.000000      4389.000000   \n",
       "mean            3.153776                 2.723996         2.728184   \n",
       "std             0.360775                 1.092571         1.101371   \n",
       "min             3.000000                 1.000000         1.000000   \n",
       "25%             3.000000                 2.000000         2.000000   \n",
       "50%             3.000000                 3.000000         3.000000   \n",
       "75%             3.000000                 4.000000         4.000000   \n",
       "max             4.000000                 4.000000         4.000000   \n",
       "\n",
       "       WorkLifeBalance  MeanHoursWorked  \n",
       "count      4372.000000      4409.000000  \n",
       "mean          2.761436         7.314463  \n",
       "std           0.706245         1.330903  \n",
       "min           1.000000         5.416880  \n",
       "25%           2.000000         6.278995  \n",
       "50%           3.000000         7.011237  \n",
       "75%           3.000000         7.900932  \n",
       "max           4.000000        10.937261  "
      ]
     },
     "execution_count": 25,
     "metadata": {},
     "output_type": "execute_result"
    }
   ],
   "source": [
    "df.describe()"
   ]
  },
  {
   "cell_type": "code",
   "execution_count": 26,
   "id": "fantastic-integral",
   "metadata": {
    "scrolled": true
   },
   "outputs": [
    {
     "data": {
      "text/plain": [
       "<AxesSubplot:>"
      ]
     },
     "execution_count": 26,
     "metadata": {},
     "output_type": "execute_result"
    },
    {
     "data": {
      "image/png": "[encoded data removed]",
      "text/plain": [
       "<Figure size 432x288 with 1 Axes>"
      ]
     },
     "metadata": {
      "needs_background": "light"
     },
     "output_type": "display_data"
    }
   ],
   "source": [
    "df['Attrition'].value_counts().plot.bar()"
   ]
  },
  {
   "cell_type": "code",
   "execution_count": 27,
   "id": "atomic-shoot",
   "metadata": {},
   "outputs": [
    {
     "data": {
      "text/html": [
       "<div>\n",
       "<style scoped>\n",
       "    .dataframe tbody tr th:only-of-type {\n",
       "        vertical-align: middle;\n",
       "    }\n",
       "\n",
       "    .dataframe tbody tr th {\n",
       "        vertical-align: top;\n",
       "    }\n",
       "\n",
       "    .dataframe thead th {\n",
       "        text-align: right;\n",
       "    }\n",
       "</style>\n",
       "<table border=\"1\" class=\"dataframe\">\n",
       "  <thead>\n",
       "    <tr style=\"text-align: right;\">\n",
       "      <th></th>\n",
       "      <th>Age</th>\n",
       "      <th>DistanceFromHome</th>\n",
       "      <th>Education</th>\n",
       "      <th>EmployeeID</th>\n",
       "      <th>JobLevel</th>\n",
       "      <th>MonthlyIncome</th>\n",
       "      <th>NumCompaniesWorked</th>\n",
       "      <th>PercentSalaryHike</th>\n",
       "      <th>StockOptionLevel</th>\n",
       "      <th>TotalWorkingYears</th>\n",
       "      <th>TrainingTimesLastYear</th>\n",
       "      <th>YearsAtCompany</th>\n",
       "      <th>YearsSinceLastPromotion</th>\n",
       "      <th>YearsWithCurrManager</th>\n",
       "      <th>JobInvolvement</th>\n",
       "      <th>PerformanceRating</th>\n",
       "      <th>EnvironmentSatisfaction</th>\n",
       "      <th>JobSatisfaction</th>\n",
       "      <th>WorkLifeBalance</th>\n",
       "      <th>MeanHoursWorked</th>\n",
       "    </tr>\n",
       "    <tr>\n",
       "      <th>Gender</th>\n",
       "      <th></th>\n",
       "      <th></th>\n",
       "      <th></th>\n",
       "      <th></th>\n",
       "      <th></th>\n",
       "      <th></th>\n",
       "      <th></th>\n",
       "      <th></th>\n",
       "      <th></th>\n",
       "      <th></th>\n",
       "      <th></th>\n",
       "      <th></th>\n",
       "      <th></th>\n",
       "      <th></th>\n",
       "      <th></th>\n",
       "      <th></th>\n",
       "      <th></th>\n",
       "      <th></th>\n",
       "      <th></th>\n",
       "      <th></th>\n",
       "    </tr>\n",
       "  </thead>\n",
       "  <tbody>\n",
       "    <tr>\n",
       "      <th>Female</th>\n",
       "      <td>37.363946</td>\n",
       "      <td>9.630952</td>\n",
       "      <td>2.933673</td>\n",
       "      <td>2226.027211</td>\n",
       "      <td>2.100340</td>\n",
       "      <td>64595.255102</td>\n",
       "      <td>2.899375</td>\n",
       "      <td>15.156463</td>\n",
       "      <td>0.773810</td>\n",
       "      <td>11.542873</td>\n",
       "      <td>2.846939</td>\n",
       "      <td>7.137755</td>\n",
       "      <td>2.273810</td>\n",
       "      <td>4.103741</td>\n",
       "      <td>2.707483</td>\n",
       "      <td>3.130952</td>\n",
       "      <td>2.755404</td>\n",
       "      <td>2.706887</td>\n",
       "      <td>2.789714</td>\n",
       "      <td>7.336694</td>\n",
       "    </tr>\n",
       "    <tr>\n",
       "      <th>Male</th>\n",
       "      <td>36.629112</td>\n",
       "      <td>8.893006</td>\n",
       "      <td>2.899055</td>\n",
       "      <td>2190.976560</td>\n",
       "      <td>2.039698</td>\n",
       "      <td>65322.706994</td>\n",
       "      <td>2.559103</td>\n",
       "      <td>15.246125</td>\n",
       "      <td>0.807561</td>\n",
       "      <td>11.104545</td>\n",
       "      <td>2.766352</td>\n",
       "      <td>6.916446</td>\n",
       "      <td>2.130057</td>\n",
       "      <td>4.134216</td>\n",
       "      <td>2.744423</td>\n",
       "      <td>3.168998</td>\n",
       "      <td>2.702970</td>\n",
       "      <td>2.742401</td>\n",
       "      <td>2.742563</td>\n",
       "      <td>7.299637</td>\n",
       "    </tr>\n",
       "  </tbody>\n",
       "</table>\n",
       "</div>"
      ],
      "text/plain": [
       "              Age  DistanceFromHome  Education   EmployeeID  JobLevel  \\\n",
       "Gender                                                                  \n",
       "Female  37.363946          9.630952   2.933673  2226.027211  2.100340   \n",
       "Male    36.629112          8.893006   2.899055  2190.976560  2.039698   \n",
       "\n",
       "        MonthlyIncome  NumCompaniesWorked  PercentSalaryHike  \\\n",
       "Gender                                                         \n",
       "Female   64595.255102            2.899375          15.156463   \n",
       "Male     65322.706994            2.559103          15.246125   \n",
       "\n",
       "        StockOptionLevel  TotalWorkingYears  TrainingTimesLastYear  \\\n",
       "Gender                                                               \n",
       "Female          0.773810          11.542873               2.846939   \n",
       "Male            0.807561          11.104545               2.766352   \n",
       "\n",
       "        YearsAtCompany  YearsSinceLastPromotion  YearsWithCurrManager  \\\n",
       "Gender                                                                  \n",
       "Female        7.137755                 2.273810              4.103741   \n",
       "Male          6.916446                 2.130057              4.134216   \n",
       "\n",
       "        JobInvolvement  PerformanceRating  EnvironmentSatisfaction  \\\n",
       "Gender                                                               \n",
       "Female        2.707483           3.130952                 2.755404   \n",
       "Male          2.744423           3.168998                 2.702970   \n",
       "\n",
       "        JobSatisfaction  WorkLifeBalance  MeanHoursWorked  \n",
       "Gender                                                     \n",
       "Female         2.706887         2.789714         7.336694  \n",
       "Male           2.742401         2.742563         7.299637  "
      ]
     },
     "execution_count": 27,
     "metadata": {},
     "output_type": "execute_result"
    }
   ],
   "source": [
    "df.groupby(['Gender']).mean()"
   ]
  },
  {
   "cell_type": "code",
   "execution_count": 28,
   "id": "blank-briefing",
   "metadata": {},
   "outputs": [
    {
     "data": {
      "image/png": "[encoded data removed]",
      "text/plain": [
       "<Figure size 720x720 with 9 Axes>"
      ]
     },
     "metadata": {
      "needs_background": "light"
     },
     "output_type": "display_data"
    }
   ],
   "source": [
    "#Divide into NumericalColumns\n",
    "columns=df.columns.tolist()\n",
    "num_col_eda=['Age','DistanceFromHome','PercentSalaryHike','MonthlyIncome','TotalWorkingYears','YearsAtCompany','MeanHoursWorked']\n",
    "df[num_col_eda].hist(figsize=(10,10))\n",
    "plt.show()"
   ]
  },
  {
   "cell_type": "code",
   "execution_count": 29,
   "id": "virgin-metro",
   "metadata": {},
   "outputs": [
    {
     "data": {
      "text/plain": [
       "<seaborn.axisgrid.FacetGrid at 0x7feb8f2e1ca0>"
      ]
     },
     "execution_count": 29,
     "metadata": {},
     "output_type": "execute_result"
    },
    {
     "data": {
      "image/png": "[encoded data removed]",
      "text/plain": [
       "<Figure size 412x360 with 1 Axes>"
      ]
     },
     "metadata": {
      "needs_background": "light"
     },
     "output_type": "display_data"
    }
   ],
   "source": [
    "sns.catplot(x=\"Gender\", y=\"MeanHoursWorked\", hue=\"Attrition\", kind=\"bar\", data=df)"
   ]
  },
  {
   "cell_type": "code",
   "execution_count": 30,
   "id": "disabled-sector",
   "metadata": {},
   "outputs": [
    {
     "data": {
      "text/plain": [
       "<seaborn.axisgrid.FacetGrid at 0x7feb86a4f040>"
      ]
     },
     "execution_count": 30,
     "metadata": {},
     "output_type": "execute_result"
    },
    {
     "data": {
      "image/png": "[encoded data removed]",
      "text/plain": [
       "<Figure size 360x360 with 1 Axes>"
      ]
     },
     "metadata": {
      "needs_background": "light"
     },
     "output_type": "display_data"
    }
   ],
   "source": [
    "sns.catplot(x=\"Attrition\", kind=\"count\", palette=\"ch:.25\", data=df)"
   ]
  },
  {
   "cell_type": "code",
   "execution_count": 31,
   "id": "tropical-means",
   "metadata": {},
   "outputs": [
    {
     "data": {
      "text/plain": [
       "<AxesSubplot:>"
      ]
     },
     "execution_count": 31,
     "metadata": {},
     "output_type": "execute_result"
    },
    {
     "data": {
      "image/png": "[encoded data removed]",
      "text/plain": [
       "<Figure size 720x504 with 2 Axes>"
      ]
     },
     "metadata": {
      "needs_background": "light"
     },
     "output_type": "display_data"
    }
   ],
   "source": [
    "fig, ax = plt.subplots(figsize=(10,7))        \n",
    "sns.heatmap(df.corr(),cmap='YlOrRd',linewidths=.5,ax=ax)"
   ]
  },
  {
   "cell_type": "code",
   "execution_count": 32,
   "id": "scientific-savage",
   "metadata": {
    "scrolled": false
   },
   "outputs": [
    {
     "data": {
      "text/plain": [
       "<seaborn.axisgrid.FacetGrid at 0x7feb86c5abb0>"
      ]
     },
     "execution_count": 32,
     "metadata": {},
     "output_type": "execute_result"
    },
    {
     "data": {
      "image/png": "[encoded data removed]",
      "text/plain": [
       "<Figure size 412x360 with 1 Axes>"
      ]
     },
     "metadata": {
      "needs_background": "light"
     },
     "output_type": "display_data"
    }
   ],
   "source": [
    "sns.catplot(x=\"JobLevel\",y=\"Age\",hue=\"Attrition\", kind=\"bar\", palette=\"flare\", data=df)"
   ]
  },
  {
   "cell_type": "markdown",
   "id": "frozen-finnish",
   "metadata": {},
   "source": [
    "## modèle d'apprentissage\n",
    "\n",
    "### Création du jeu de test et d'entrainement"
   ]
  },
  {
   "cell_type": "code",
   "execution_count": 33,
   "id": "informational-reservoir",
   "metadata": {},
   "outputs": [],
   "source": [
    "y = df['Attrition']\n",
    "\n",
    "split = StratifiedShuffleSplit(n_splits=1, test_size=0.2, random_state=42)\n",
    "df.head()\n",
    "for train_index, test_index in split.split(df, df['Attrition']):\n",
    "    strat_train_set = df.loc[train_index]\n",
    "    strat_test_set = df.loc[test_index]\n",
    "    y_train = strat_train_set['Attrition']\n",
    "    y_test = strat_test_set['Attrition']\n",
    "    \n",
    "for set_ in (strat_train_set, strat_test_set):\n",
    "    set_.drop(\"Attrition\", axis=1, inplace=True)"
   ]
  },
  {
   "cell_type": "markdown",
   "id": "prepared-invalid",
   "metadata": {},
   "source": [
    "### Création des pipelines"
   ]
  },
  {
   "cell_type": "code",
   "execution_count": 144,
   "id": "finite-bumper",
   "metadata": {},
   "outputs": [],
   "source": [
    "numerical_features = make_column_selector(dtype_include=np.number)\n",
    "categorical_features = make_column_selector(dtype_exclude=np.number)\n",
    "\n",
    "\n",
    "numerical_pipeline = make_pipeline(SimpleImputer(strategy='median'), StandardScaler())\n",
    "categorical_pipeline = make_pipeline(SimpleImputer(strategy='most_frequent'), OneHotEncoder())\n",
    "\n",
    "full_pipeline = make_column_transformer((numerical_pipeline,numerical_features),\n",
    "                                       (categorical_pipeline,categorical_features))"
   ]
  },
  {
   "cell_type": "code",
   "execution_count": 145,
   "id": "pretty-artist",
   "metadata": {},
   "outputs": [],
   "source": [
    "pipe = make_pipeline(full_pipeline)\n",
    "X_train = pipe.fit_transform(strat_train_set)\n",
    "X_test = pipe.transform(strat_test_set)"
   ]
  },
  {
   "cell_type": "markdown",
   "id": "invisible-strain",
   "metadata": {},
   "source": [
    "## Définition des modeles"
   ]
  },
  {
   "cell_type": "markdown",
   "id": "latest-brown",
   "metadata": {},
   "source": [
    "### Régression Logistic"
   ]
  },
  {
   "cell_type": "code",
   "execution_count": 146,
   "id": "leading-shooting",
   "metadata": {},
   "outputs": [
    {
     "name": "stdout",
     "output_type": "stream",
     "text": [
      "Train score : 0.8460447972781401\n",
      "Test score : 0.8458049886621315\n"
     ]
    },
    {
     "data": {
      "text/plain": [
       "array(['No', 'No', 'No', 'No', 'No', 'No', 'No', 'No', 'No', 'No', 'No',\n",
       "       'No', 'No', 'No', 'No', 'No', 'No', 'No', 'Yes', 'Yes', 'No', 'No',\n",
       "       'No', 'No', 'No', 'No', 'No', 'No', 'No', 'No'], dtype='<U3')"
      ]
     },
     "execution_count": 146,
     "metadata": {},
     "output_type": "execute_result"
    }
   ],
   "source": [
    "#model = make_pipeline(full_pipeline,SGDClassifier(max_iter=400, random_state=42))#Création de mon modèle avec full_pipeline et l'algo\n",
    "#model.fit(X_train, y_train) #Entrainement du modèle avec le set d'entrainement\n",
    "\n",
    "#Création de mon modèle avec full_pipeline et l'algo\n",
    "clf_sdg = SGDClassifier(max_iter=291, random_state=42)\n",
    "#Entrainement du modèle\n",
    "clf_sdg.fit(X_train, y_train)\n",
    "\n",
    "#Scoring \n",
    "print('Train score :', clf_sdg.score(X_train, y_train))\n",
    "print('Test score :', clf_sdg.score(X_test, y_test))\n",
    "\n",
    "clf_sdg.predict(X_test[:30]) #Prédiction sur le set de test"
   ]
  },
  {
   "cell_type": "code",
   "execution_count": 147,
   "id": "civilian-travel",
   "metadata": {
    "scrolled": true
   },
   "outputs": [
    {
     "data": {
      "text/plain": [
       "0.8458049886621315"
      ]
     },
     "execution_count": 147,
     "metadata": {},
     "output_type": "execute_result"
    }
   ],
   "source": [
    "clf_sdg.score(X_test, y_test)"
   ]
  },
  {
   "cell_type": "markdown",
   "id": "flush-floating",
   "metadata": {},
   "source": [
    "### K Voisins"
   ]
  },
  {
   "cell_type": "code",
   "execution_count": 148,
   "id": "swedish-swaziland",
   "metadata": {
    "scrolled": true
   },
   "outputs": [
    {
     "name": "stdout",
     "output_type": "stream",
     "text": [
      "Train score : 0.9594556280124752\n",
      "Test score : 0.8684807256235828\n"
     ]
    },
    {
     "data": {
      "text/plain": [
       "array(['No', 'No', 'No', 'No', 'No', 'No', 'No', 'No', 'No', 'No', 'Yes',\n",
       "       'No', 'No', 'No', 'No', 'No', 'No', 'No', 'Yes', 'No', 'No', 'No',\n",
       "       'No', 'No', 'Yes', 'No', 'No', 'No', 'No', 'No'], dtype=object)"
      ]
     },
     "execution_count": 148,
     "metadata": {},
     "output_type": "execute_result"
    }
   ],
   "source": [
    "#Création de mon modèle avec full_pipeline et l'algo\n",
    "clf_neighbors = KNeighborsClassifier()\n",
    "#Entrainement du modèle\n",
    "clf_neighbors.fit(X_train, y_train)\n",
    "# Scoring\n",
    "print('Train score :', clf_neighbors.score(X_train, y_train))\n",
    "print('Test score :', clf_neighbors.score(X_test, y_test))\n",
    "\n",
    "clf_neighbors.predict(X_test[:30]) #Prédiction sur le set de test"
   ]
  },
  {
   "cell_type": "code",
   "execution_count": 149,
   "id": "exterior-israeli",
   "metadata": {},
   "outputs": [
    {
     "data": {
      "text/plain": [
       "<bound method BaseEstimator.get_params of KNeighborsClassifier()>"
      ]
     },
     "execution_count": 149,
     "metadata": {},
     "output_type": "execute_result"
    }
   ],
   "source": [
    "clf_neighbors.get_params"
   ]
  },
  {
   "cell_type": "markdown",
   "id": "numeric-maryland",
   "metadata": {},
   "source": [
    "### RandomForestRegressor"
   ]
  },
  {
   "cell_type": "code",
   "execution_count": 173,
   "id": "temporal-workshop",
   "metadata": {},
   "outputs": [
    {
     "name": "stdout",
     "output_type": "stream",
     "text": [
      "Test score : 0.9863945578231292\n"
     ]
    }
   ],
   "source": [
    "forest_reg = RandomForestClassifier(n_estimators=75,random_state=42)\n",
    "forest_reg.fit(X_train, y_train)\n",
    "\n",
    "#print('Train score :', forest_reg.score(X_train, y_train))\n",
    "print('Test score :', forest_reg.score(X_test, y_test))\n",
    "\n",
    "y_prediction_rfc = forest_reg.predict(X_test) #Prédiction sur le set de test"
   ]
  },
  {
   "cell_type": "markdown",
   "id": "innocent-theorem",
   "metadata": {},
   "source": [
    "### Cross-Validation"
   ]
  },
  {
   "cell_type": "markdown",
   "id": "exterior-roads",
   "metadata": {},
   "source": [
    "#### Cross-validation : Regression logistic"
   ]
  },
  {
   "cell_type": "code",
   "execution_count": 164,
   "id": "great-pixel",
   "metadata": {},
   "outputs": [],
   "source": [
    "from sklearn.model_selection import cross_val_score\n",
    "val_score_sdg = []\n",
    "val_score_kneighbors = []\n",
    "val_score_rfc = []"
   ]
  },
  {
   "cell_type": "code",
   "execution_count": 165,
   "id": "collect-kernel",
   "metadata": {},
   "outputs": [
    {
     "name": "stderr",
     "output_type": "stream",
     "text": [
      "/usr/local/lib/python3.8/dist-packages/sklearn/linear_model/_stochastic_gradient.py:574: ConvergenceWarning: Maximum number of iteration reached before convergence. Consider increasing max_iter to improve the fit.\n",
      "  warnings.warn(\"Maximum number of iteration reached before \"\n",
      "/usr/local/lib/python3.8/dist-packages/sklearn/linear_model/_stochastic_gradient.py:574: ConvergenceWarning: Maximum number of iteration reached before convergence. Consider increasing max_iter to improve the fit.\n",
      "  warnings.warn(\"Maximum number of iteration reached before \"\n",
      "/usr/local/lib/python3.8/dist-packages/sklearn/linear_model/_stochastic_gradient.py:574: ConvergenceWarning: Maximum number of iteration reached before convergence. Consider increasing max_iter to improve the fit.\n",
      "  warnings.warn(\"Maximum number of iteration reached before \"\n",
      "/usr/local/lib/python3.8/dist-packages/sklearn/linear_model/_stochastic_gradient.py:574: ConvergenceWarning: Maximum number of iteration reached before convergence. Consider increasing max_iter to improve the fit.\n",
      "  warnings.warn(\"Maximum number of iteration reached before \"\n",
      "/usr/local/lib/python3.8/dist-packages/sklearn/linear_model/_stochastic_gradient.py:574: ConvergenceWarning: Maximum number of iteration reached before convergence. Consider increasing max_iter to improve the fit.\n",
      "  warnings.warn(\"Maximum number of iteration reached before \"\n",
      "/usr/local/lib/python3.8/dist-packages/sklearn/linear_model/_stochastic_gradient.py:574: ConvergenceWarning: Maximum number of iteration reached before convergence. Consider increasing max_iter to improve the fit.\n",
      "  warnings.warn(\"Maximum number of iteration reached before \"\n",
      "/usr/local/lib/python3.8/dist-packages/sklearn/linear_model/_stochastic_gradient.py:574: ConvergenceWarning: Maximum number of iteration reached before convergence. Consider increasing max_iter to improve the fit.\n",
      "  warnings.warn(\"Maximum number of iteration reached before \"\n",
      "/usr/local/lib/python3.8/dist-packages/sklearn/linear_model/_stochastic_gradient.py:574: ConvergenceWarning: Maximum number of iteration reached before convergence. Consider increasing max_iter to improve the fit.\n",
      "  warnings.warn(\"Maximum number of iteration reached before \"\n",
      "/usr/local/lib/python3.8/dist-packages/sklearn/linear_model/_stochastic_gradient.py:574: ConvergenceWarning: Maximum number of iteration reached before convergence. Consider increasing max_iter to improve the fit.\n",
      "  warnings.warn(\"Maximum number of iteration reached before \"\n",
      "/usr/local/lib/python3.8/dist-packages/sklearn/linear_model/_stochastic_gradient.py:574: ConvergenceWarning: Maximum number of iteration reached before convergence. Consider increasing max_iter to improve the fit.\n",
      "  warnings.warn(\"Maximum number of iteration reached before \"\n",
      "/usr/local/lib/python3.8/dist-packages/sklearn/linear_model/_stochastic_gradient.py:574: ConvergenceWarning: Maximum number of iteration reached before convergence. Consider increasing max_iter to improve the fit.\n",
      "  warnings.warn(\"Maximum number of iteration reached before \"\n",
      "/usr/local/lib/python3.8/dist-packages/sklearn/linear_model/_stochastic_gradient.py:574: ConvergenceWarning: Maximum number of iteration reached before convergence. Consider increasing max_iter to improve the fit.\n",
      "  warnings.warn(\"Maximum number of iteration reached before \"\n",
      "/usr/local/lib/python3.8/dist-packages/sklearn/linear_model/_stochastic_gradient.py:574: ConvergenceWarning: Maximum number of iteration reached before convergence. Consider increasing max_iter to improve the fit.\n",
      "  warnings.warn(\"Maximum number of iteration reached before \"\n",
      "/usr/local/lib/python3.8/dist-packages/sklearn/linear_model/_stochastic_gradient.py:574: ConvergenceWarning: Maximum number of iteration reached before convergence. Consider increasing max_iter to improve the fit.\n",
      "  warnings.warn(\"Maximum number of iteration reached before \"\n",
      "/usr/local/lib/python3.8/dist-packages/sklearn/linear_model/_stochastic_gradient.py:574: ConvergenceWarning: Maximum number of iteration reached before convergence. Consider increasing max_iter to improve the fit.\n",
      "  warnings.warn(\"Maximum number of iteration reached before \"\n",
      "/usr/local/lib/python3.8/dist-packages/sklearn/linear_model/_stochastic_gradient.py:574: ConvergenceWarning: Maximum number of iteration reached before convergence. Consider increasing max_iter to improve the fit.\n",
      "  warnings.warn(\"Maximum number of iteration reached before \"\n",
      "/usr/local/lib/python3.8/dist-packages/sklearn/linear_model/_stochastic_gradient.py:574: ConvergenceWarning: Maximum number of iteration reached before convergence. Consider increasing max_iter to improve the fit.\n",
      "  warnings.warn(\"Maximum number of iteration reached before \"\n",
      "/usr/local/lib/python3.8/dist-packages/sklearn/linear_model/_stochastic_gradient.py:574: ConvergenceWarning: Maximum number of iteration reached before convergence. Consider increasing max_iter to improve the fit.\n",
      "  warnings.warn(\"Maximum number of iteration reached before \"\n",
      "/usr/local/lib/python3.8/dist-packages/sklearn/linear_model/_stochastic_gradient.py:574: ConvergenceWarning: Maximum number of iteration reached before convergence. Consider increasing max_iter to improve the fit.\n",
      "  warnings.warn(\"Maximum number of iteration reached before \"\n",
      "/usr/local/lib/python3.8/dist-packages/sklearn/linear_model/_stochastic_gradient.py:574: ConvergenceWarning: Maximum number of iteration reached before convergence. Consider increasing max_iter to improve the fit.\n",
      "  warnings.warn(\"Maximum number of iteration reached before \"\n",
      "/usr/local/lib/python3.8/dist-packages/sklearn/linear_model/_stochastic_gradient.py:574: ConvergenceWarning: Maximum number of iteration reached before convergence. Consider increasing max_iter to improve the fit.\n",
      "  warnings.warn(\"Maximum number of iteration reached before \"\n",
      "/usr/local/lib/python3.8/dist-packages/sklearn/linear_model/_stochastic_gradient.py:574: ConvergenceWarning: Maximum number of iteration reached before convergence. Consider increasing max_iter to improve the fit.\n",
      "  warnings.warn(\"Maximum number of iteration reached before \"\n",
      "/usr/local/lib/python3.8/dist-packages/sklearn/linear_model/_stochastic_gradient.py:574: ConvergenceWarning: Maximum number of iteration reached before convergence. Consider increasing max_iter to improve the fit.\n",
      "  warnings.warn(\"Maximum number of iteration reached before \"\n",
      "/usr/local/lib/python3.8/dist-packages/sklearn/linear_model/_stochastic_gradient.py:574: ConvergenceWarning: Maximum number of iteration reached before convergence. Consider increasing max_iter to improve the fit.\n",
      "  warnings.warn(\"Maximum number of iteration reached before \"\n",
      "/usr/local/lib/python3.8/dist-packages/sklearn/linear_model/_stochastic_gradient.py:574: ConvergenceWarning: Maximum number of iteration reached before convergence. Consider increasing max_iter to improve the fit.\n",
      "  warnings.warn(\"Maximum number of iteration reached before \"\n",
      "/usr/local/lib/python3.8/dist-packages/sklearn/linear_model/_stochastic_gradient.py:574: ConvergenceWarning: Maximum number of iteration reached before convergence. Consider increasing max_iter to improve the fit.\n",
      "  warnings.warn(\"Maximum number of iteration reached before \"\n",
      "/usr/local/lib/python3.8/dist-packages/sklearn/linear_model/_stochastic_gradient.py:574: ConvergenceWarning: Maximum number of iteration reached before convergence. Consider increasing max_iter to improve the fit.\n",
      "  warnings.warn(\"Maximum number of iteration reached before \"\n",
      "/usr/local/lib/python3.8/dist-packages/sklearn/linear_model/_stochastic_gradient.py:574: ConvergenceWarning: Maximum number of iteration reached before convergence. Consider increasing max_iter to improve the fit.\n",
      "  warnings.warn(\"Maximum number of iteration reached before \"\n",
      "/usr/local/lib/python3.8/dist-packages/sklearn/linear_model/_stochastic_gradient.py:574: ConvergenceWarning: Maximum number of iteration reached before convergence. Consider increasing max_iter to improve the fit.\n",
      "  warnings.warn(\"Maximum number of iteration reached before \"\n",
      "/usr/local/lib/python3.8/dist-packages/sklearn/linear_model/_stochastic_gradient.py:574: ConvergenceWarning: Maximum number of iteration reached before convergence. Consider increasing max_iter to improve the fit.\n",
      "  warnings.warn(\"Maximum number of iteration reached before \"\n",
      "/usr/local/lib/python3.8/dist-packages/sklearn/linear_model/_stochastic_gradient.py:574: ConvergenceWarning: Maximum number of iteration reached before convergence. Consider increasing max_iter to improve the fit.\n",
      "  warnings.warn(\"Maximum number of iteration reached before \"\n",
      "/usr/local/lib/python3.8/dist-packages/sklearn/linear_model/_stochastic_gradient.py:574: ConvergenceWarning: Maximum number of iteration reached before convergence. Consider increasing max_iter to improve the fit.\n",
      "  warnings.warn(\"Maximum number of iteration reached before \"\n",
      "/usr/local/lib/python3.8/dist-packages/sklearn/linear_model/_stochastic_gradient.py:574: ConvergenceWarning: Maximum number of iteration reached before convergence. Consider increasing max_iter to improve the fit.\n",
      "  warnings.warn(\"Maximum number of iteration reached before \"\n",
      "/usr/local/lib/python3.8/dist-packages/sklearn/linear_model/_stochastic_gradient.py:574: ConvergenceWarning: Maximum number of iteration reached before convergence. Consider increasing max_iter to improve the fit.\n",
      "  warnings.warn(\"Maximum number of iteration reached before \"\n",
      "/usr/local/lib/python3.8/dist-packages/sklearn/linear_model/_stochastic_gradient.py:574: ConvergenceWarning: Maximum number of iteration reached before convergence. Consider increasing max_iter to improve the fit.\n",
      "  warnings.warn(\"Maximum number of iteration reached before \"\n",
      "/usr/local/lib/python3.8/dist-packages/sklearn/linear_model/_stochastic_gradient.py:574: ConvergenceWarning: Maximum number of iteration reached before convergence. Consider increasing max_iter to improve the fit.\n",
      "  warnings.warn(\"Maximum number of iteration reached before \"\n",
      "/usr/local/lib/python3.8/dist-packages/sklearn/linear_model/_stochastic_gradient.py:574: ConvergenceWarning: Maximum number of iteration reached before convergence. Consider increasing max_iter to improve the fit.\n",
      "  warnings.warn(\"Maximum number of iteration reached before \"\n",
      "/usr/local/lib/python3.8/dist-packages/sklearn/linear_model/_stochastic_gradient.py:574: ConvergenceWarning: Maximum number of iteration reached before convergence. Consider increasing max_iter to improve the fit.\n",
      "  warnings.warn(\"Maximum number of iteration reached before \"\n",
      "/usr/local/lib/python3.8/dist-packages/sklearn/linear_model/_stochastic_gradient.py:574: ConvergenceWarning: Maximum number of iteration reached before convergence. Consider increasing max_iter to improve the fit.\n",
      "  warnings.warn(\"Maximum number of iteration reached before \"\n",
      "/usr/local/lib/python3.8/dist-packages/sklearn/linear_model/_stochastic_gradient.py:574: ConvergenceWarning: Maximum number of iteration reached before convergence. Consider increasing max_iter to improve the fit.\n",
      "  warnings.warn(\"Maximum number of iteration reached before \"\n",
      "/usr/local/lib/python3.8/dist-packages/sklearn/linear_model/_stochastic_gradient.py:574: ConvergenceWarning: Maximum number of iteration reached before convergence. Consider increasing max_iter to improve the fit.\n",
      "  warnings.warn(\"Maximum number of iteration reached before \"\n",
      "/usr/local/lib/python3.8/dist-packages/sklearn/linear_model/_stochastic_gradient.py:574: ConvergenceWarning: Maximum number of iteration reached before convergence. Consider increasing max_iter to improve the fit.\n",
      "  warnings.warn(\"Maximum number of iteration reached before \"\n",
      "/usr/local/lib/python3.8/dist-packages/sklearn/linear_model/_stochastic_gradient.py:574: ConvergenceWarning: Maximum number of iteration reached before convergence. Consider increasing max_iter to improve the fit.\n",
      "  warnings.warn(\"Maximum number of iteration reached before \"\n",
      "/usr/local/lib/python3.8/dist-packages/sklearn/linear_model/_stochastic_gradient.py:574: ConvergenceWarning: Maximum number of iteration reached before convergence. Consider increasing max_iter to improve the fit.\n",
      "  warnings.warn(\"Maximum number of iteration reached before \"\n",
      "/usr/local/lib/python3.8/dist-packages/sklearn/linear_model/_stochastic_gradient.py:574: ConvergenceWarning: Maximum number of iteration reached before convergence. Consider increasing max_iter to improve the fit.\n",
      "  warnings.warn(\"Maximum number of iteration reached before \"\n",
      "/usr/local/lib/python3.8/dist-packages/sklearn/linear_model/_stochastic_gradient.py:574: ConvergenceWarning: Maximum number of iteration reached before convergence. Consider increasing max_iter to improve the fit.\n",
      "  warnings.warn(\"Maximum number of iteration reached before \"\n",
      "/usr/local/lib/python3.8/dist-packages/sklearn/linear_model/_stochastic_gradient.py:574: ConvergenceWarning: Maximum number of iteration reached before convergence. Consider increasing max_iter to improve the fit.\n",
      "  warnings.warn(\"Maximum number of iteration reached before \"\n",
      "/usr/local/lib/python3.8/dist-packages/sklearn/linear_model/_stochastic_gradient.py:574: ConvergenceWarning: Maximum number of iteration reached before convergence. Consider increasing max_iter to improve the fit.\n",
      "  warnings.warn(\"Maximum number of iteration reached before \"\n",
      "/usr/local/lib/python3.8/dist-packages/sklearn/linear_model/_stochastic_gradient.py:574: ConvergenceWarning: Maximum number of iteration reached before convergence. Consider increasing max_iter to improve the fit.\n",
      "  warnings.warn(\"Maximum number of iteration reached before \"\n",
      "/usr/local/lib/python3.8/dist-packages/sklearn/linear_model/_stochastic_gradient.py:574: ConvergenceWarning: Maximum number of iteration reached before convergence. Consider increasing max_iter to improve the fit.\n",
      "  warnings.warn(\"Maximum number of iteration reached before \"\n",
      "/usr/local/lib/python3.8/dist-packages/sklearn/linear_model/_stochastic_gradient.py:574: ConvergenceWarning: Maximum number of iteration reached before convergence. Consider increasing max_iter to improve the fit.\n",
      "  warnings.warn(\"Maximum number of iteration reached before \"\n"
     ]
    },
    {
     "name": "stderr",
     "output_type": "stream",
     "text": [
      "/usr/local/lib/python3.8/dist-packages/sklearn/linear_model/_stochastic_gradient.py:574: ConvergenceWarning: Maximum number of iteration reached before convergence. Consider increasing max_iter to improve the fit.\n",
      "  warnings.warn(\"Maximum number of iteration reached before \"\n",
      "/usr/local/lib/python3.8/dist-packages/sklearn/linear_model/_stochastic_gradient.py:574: ConvergenceWarning: Maximum number of iteration reached before convergence. Consider increasing max_iter to improve the fit.\n",
      "  warnings.warn(\"Maximum number of iteration reached before \"\n",
      "/usr/local/lib/python3.8/dist-packages/sklearn/linear_model/_stochastic_gradient.py:574: ConvergenceWarning: Maximum number of iteration reached before convergence. Consider increasing max_iter to improve the fit.\n",
      "  warnings.warn(\"Maximum number of iteration reached before \"\n",
      "/usr/local/lib/python3.8/dist-packages/sklearn/linear_model/_stochastic_gradient.py:574: ConvergenceWarning: Maximum number of iteration reached before convergence. Consider increasing max_iter to improve the fit.\n",
      "  warnings.warn(\"Maximum number of iteration reached before \"\n",
      "/usr/local/lib/python3.8/dist-packages/sklearn/linear_model/_stochastic_gradient.py:574: ConvergenceWarning: Maximum number of iteration reached before convergence. Consider increasing max_iter to improve the fit.\n",
      "  warnings.warn(\"Maximum number of iteration reached before \"\n",
      "/usr/local/lib/python3.8/dist-packages/sklearn/linear_model/_stochastic_gradient.py:574: ConvergenceWarning: Maximum number of iteration reached before convergence. Consider increasing max_iter to improve the fit.\n",
      "  warnings.warn(\"Maximum number of iteration reached before \"\n",
      "/usr/local/lib/python3.8/dist-packages/sklearn/linear_model/_stochastic_gradient.py:574: ConvergenceWarning: Maximum number of iteration reached before convergence. Consider increasing max_iter to improve the fit.\n",
      "  warnings.warn(\"Maximum number of iteration reached before \"\n",
      "/usr/local/lib/python3.8/dist-packages/sklearn/linear_model/_stochastic_gradient.py:574: ConvergenceWarning: Maximum number of iteration reached before convergence. Consider increasing max_iter to improve the fit.\n",
      "  warnings.warn(\"Maximum number of iteration reached before \"\n",
      "/usr/local/lib/python3.8/dist-packages/sklearn/linear_model/_stochastic_gradient.py:574: ConvergenceWarning: Maximum number of iteration reached before convergence. Consider increasing max_iter to improve the fit.\n",
      "  warnings.warn(\"Maximum number of iteration reached before \"\n",
      "/usr/local/lib/python3.8/dist-packages/sklearn/linear_model/_stochastic_gradient.py:574: ConvergenceWarning: Maximum number of iteration reached before convergence. Consider increasing max_iter to improve the fit.\n",
      "  warnings.warn(\"Maximum number of iteration reached before \"\n",
      "/usr/local/lib/python3.8/dist-packages/sklearn/linear_model/_stochastic_gradient.py:574: ConvergenceWarning: Maximum number of iteration reached before convergence. Consider increasing max_iter to improve the fit.\n",
      "  warnings.warn(\"Maximum number of iteration reached before \"\n",
      "/usr/local/lib/python3.8/dist-packages/sklearn/linear_model/_stochastic_gradient.py:574: ConvergenceWarning: Maximum number of iteration reached before convergence. Consider increasing max_iter to improve the fit.\n",
      "  warnings.warn(\"Maximum number of iteration reached before \"\n",
      "/usr/local/lib/python3.8/dist-packages/sklearn/linear_model/_stochastic_gradient.py:574: ConvergenceWarning: Maximum number of iteration reached before convergence. Consider increasing max_iter to improve the fit.\n",
      "  warnings.warn(\"Maximum number of iteration reached before \"\n",
      "/usr/local/lib/python3.8/dist-packages/sklearn/linear_model/_stochastic_gradient.py:574: ConvergenceWarning: Maximum number of iteration reached before convergence. Consider increasing max_iter to improve the fit.\n",
      "  warnings.warn(\"Maximum number of iteration reached before \"\n",
      "/usr/local/lib/python3.8/dist-packages/sklearn/linear_model/_stochastic_gradient.py:574: ConvergenceWarning: Maximum number of iteration reached before convergence. Consider increasing max_iter to improve the fit.\n",
      "  warnings.warn(\"Maximum number of iteration reached before \"\n",
      "/usr/local/lib/python3.8/dist-packages/sklearn/linear_model/_stochastic_gradient.py:574: ConvergenceWarning: Maximum number of iteration reached before convergence. Consider increasing max_iter to improve the fit.\n",
      "  warnings.warn(\"Maximum number of iteration reached before \"\n",
      "/usr/local/lib/python3.8/dist-packages/sklearn/linear_model/_stochastic_gradient.py:574: ConvergenceWarning: Maximum number of iteration reached before convergence. Consider increasing max_iter to improve the fit.\n",
      "  warnings.warn(\"Maximum number of iteration reached before \"\n",
      "/usr/local/lib/python3.8/dist-packages/sklearn/linear_model/_stochastic_gradient.py:574: ConvergenceWarning: Maximum number of iteration reached before convergence. Consider increasing max_iter to improve the fit.\n",
      "  warnings.warn(\"Maximum number of iteration reached before \"\n",
      "/usr/local/lib/python3.8/dist-packages/sklearn/linear_model/_stochastic_gradient.py:574: ConvergenceWarning: Maximum number of iteration reached before convergence. Consider increasing max_iter to improve the fit.\n",
      "  warnings.warn(\"Maximum number of iteration reached before \"\n",
      "/usr/local/lib/python3.8/dist-packages/sklearn/linear_model/_stochastic_gradient.py:574: ConvergenceWarning: Maximum number of iteration reached before convergence. Consider increasing max_iter to improve the fit.\n",
      "  warnings.warn(\"Maximum number of iteration reached before \"\n",
      "/usr/local/lib/python3.8/dist-packages/sklearn/linear_model/_stochastic_gradient.py:574: ConvergenceWarning: Maximum number of iteration reached before convergence. Consider increasing max_iter to improve the fit.\n",
      "  warnings.warn(\"Maximum number of iteration reached before \"\n",
      "/usr/local/lib/python3.8/dist-packages/sklearn/linear_model/_stochastic_gradient.py:574: ConvergenceWarning: Maximum number of iteration reached before convergence. Consider increasing max_iter to improve the fit.\n",
      "  warnings.warn(\"Maximum number of iteration reached before \"\n",
      "/usr/local/lib/python3.8/dist-packages/sklearn/linear_model/_stochastic_gradient.py:574: ConvergenceWarning: Maximum number of iteration reached before convergence. Consider increasing max_iter to improve the fit.\n",
      "  warnings.warn(\"Maximum number of iteration reached before \"\n",
      "/usr/local/lib/python3.8/dist-packages/sklearn/linear_model/_stochastic_gradient.py:574: ConvergenceWarning: Maximum number of iteration reached before convergence. Consider increasing max_iter to improve the fit.\n",
      "  warnings.warn(\"Maximum number of iteration reached before \"\n",
      "/usr/local/lib/python3.8/dist-packages/sklearn/linear_model/_stochastic_gradient.py:574: ConvergenceWarning: Maximum number of iteration reached before convergence. Consider increasing max_iter to improve the fit.\n",
      "  warnings.warn(\"Maximum number of iteration reached before \"\n",
      "/usr/local/lib/python3.8/dist-packages/sklearn/linear_model/_stochastic_gradient.py:574: ConvergenceWarning: Maximum number of iteration reached before convergence. Consider increasing max_iter to improve the fit.\n",
      "  warnings.warn(\"Maximum number of iteration reached before \"\n",
      "/usr/local/lib/python3.8/dist-packages/sklearn/linear_model/_stochastic_gradient.py:574: ConvergenceWarning: Maximum number of iteration reached before convergence. Consider increasing max_iter to improve the fit.\n",
      "  warnings.warn(\"Maximum number of iteration reached before \"\n",
      "/usr/local/lib/python3.8/dist-packages/sklearn/linear_model/_stochastic_gradient.py:574: ConvergenceWarning: Maximum number of iteration reached before convergence. Consider increasing max_iter to improve the fit.\n",
      "  warnings.warn(\"Maximum number of iteration reached before \"\n",
      "/usr/local/lib/python3.8/dist-packages/sklearn/linear_model/_stochastic_gradient.py:574: ConvergenceWarning: Maximum number of iteration reached before convergence. Consider increasing max_iter to improve the fit.\n",
      "  warnings.warn(\"Maximum number of iteration reached before \"\n",
      "/usr/local/lib/python3.8/dist-packages/sklearn/linear_model/_stochastic_gradient.py:574: ConvergenceWarning: Maximum number of iteration reached before convergence. Consider increasing max_iter to improve the fit.\n",
      "  warnings.warn(\"Maximum number of iteration reached before \"\n",
      "/usr/local/lib/python3.8/dist-packages/sklearn/linear_model/_stochastic_gradient.py:574: ConvergenceWarning: Maximum number of iteration reached before convergence. Consider increasing max_iter to improve the fit.\n",
      "  warnings.warn(\"Maximum number of iteration reached before \"\n",
      "/usr/local/lib/python3.8/dist-packages/sklearn/linear_model/_stochastic_gradient.py:574: ConvergenceWarning: Maximum number of iteration reached before convergence. Consider increasing max_iter to improve the fit.\n",
      "  warnings.warn(\"Maximum number of iteration reached before \"\n",
      "/usr/local/lib/python3.8/dist-packages/sklearn/linear_model/_stochastic_gradient.py:574: ConvergenceWarning: Maximum number of iteration reached before convergence. Consider increasing max_iter to improve the fit.\n",
      "  warnings.warn(\"Maximum number of iteration reached before \"\n",
      "/usr/local/lib/python3.8/dist-packages/sklearn/linear_model/_stochastic_gradient.py:574: ConvergenceWarning: Maximum number of iteration reached before convergence. Consider increasing max_iter to improve the fit.\n",
      "  warnings.warn(\"Maximum number of iteration reached before \"\n",
      "/usr/local/lib/python3.8/dist-packages/sklearn/linear_model/_stochastic_gradient.py:574: ConvergenceWarning: Maximum number of iteration reached before convergence. Consider increasing max_iter to improve the fit.\n",
      "  warnings.warn(\"Maximum number of iteration reached before \"\n",
      "/usr/local/lib/python3.8/dist-packages/sklearn/linear_model/_stochastic_gradient.py:574: ConvergenceWarning: Maximum number of iteration reached before convergence. Consider increasing max_iter to improve the fit.\n",
      "  warnings.warn(\"Maximum number of iteration reached before \"\n",
      "/usr/local/lib/python3.8/dist-packages/sklearn/linear_model/_stochastic_gradient.py:574: ConvergenceWarning: Maximum number of iteration reached before convergence. Consider increasing max_iter to improve the fit.\n",
      "  warnings.warn(\"Maximum number of iteration reached before \"\n",
      "/usr/local/lib/python3.8/dist-packages/sklearn/linear_model/_stochastic_gradient.py:574: ConvergenceWarning: Maximum number of iteration reached before convergence. Consider increasing max_iter to improve the fit.\n",
      "  warnings.warn(\"Maximum number of iteration reached before \"\n",
      "/usr/local/lib/python3.8/dist-packages/sklearn/linear_model/_stochastic_gradient.py:574: ConvergenceWarning: Maximum number of iteration reached before convergence. Consider increasing max_iter to improve the fit.\n",
      "  warnings.warn(\"Maximum number of iteration reached before \"\n",
      "/usr/local/lib/python3.8/dist-packages/sklearn/linear_model/_stochastic_gradient.py:574: ConvergenceWarning: Maximum number of iteration reached before convergence. Consider increasing max_iter to improve the fit.\n",
      "  warnings.warn(\"Maximum number of iteration reached before \"\n",
      "/usr/local/lib/python3.8/dist-packages/sklearn/linear_model/_stochastic_gradient.py:574: ConvergenceWarning: Maximum number of iteration reached before convergence. Consider increasing max_iter to improve the fit.\n",
      "  warnings.warn(\"Maximum number of iteration reached before \"\n",
      "/usr/local/lib/python3.8/dist-packages/sklearn/linear_model/_stochastic_gradient.py:574: ConvergenceWarning: Maximum number of iteration reached before convergence. Consider increasing max_iter to improve the fit.\n",
      "  warnings.warn(\"Maximum number of iteration reached before \"\n",
      "/usr/local/lib/python3.8/dist-packages/sklearn/linear_model/_stochastic_gradient.py:574: ConvergenceWarning: Maximum number of iteration reached before convergence. Consider increasing max_iter to improve the fit.\n",
      "  warnings.warn(\"Maximum number of iteration reached before \"\n",
      "/usr/local/lib/python3.8/dist-packages/sklearn/linear_model/_stochastic_gradient.py:574: ConvergenceWarning: Maximum number of iteration reached before convergence. Consider increasing max_iter to improve the fit.\n",
      "  warnings.warn(\"Maximum number of iteration reached before \"\n",
      "/usr/local/lib/python3.8/dist-packages/sklearn/linear_model/_stochastic_gradient.py:574: ConvergenceWarning: Maximum number of iteration reached before convergence. Consider increasing max_iter to improve the fit.\n",
      "  warnings.warn(\"Maximum number of iteration reached before \"\n",
      "/usr/local/lib/python3.8/dist-packages/sklearn/linear_model/_stochastic_gradient.py:574: ConvergenceWarning: Maximum number of iteration reached before convergence. Consider increasing max_iter to improve the fit.\n",
      "  warnings.warn(\"Maximum number of iteration reached before \"\n"
     ]
    },
    {
     "name": "stderr",
     "output_type": "stream",
     "text": [
      "/usr/local/lib/python3.8/dist-packages/sklearn/linear_model/_stochastic_gradient.py:574: ConvergenceWarning: Maximum number of iteration reached before convergence. Consider increasing max_iter to improve the fit.\n",
      "  warnings.warn(\"Maximum number of iteration reached before \"\n",
      "/usr/local/lib/python3.8/dist-packages/sklearn/linear_model/_stochastic_gradient.py:574: ConvergenceWarning: Maximum number of iteration reached before convergence. Consider increasing max_iter to improve the fit.\n",
      "  warnings.warn(\"Maximum number of iteration reached before \"\n",
      "/usr/local/lib/python3.8/dist-packages/sklearn/linear_model/_stochastic_gradient.py:574: ConvergenceWarning: Maximum number of iteration reached before convergence. Consider increasing max_iter to improve the fit.\n",
      "  warnings.warn(\"Maximum number of iteration reached before \"\n",
      "/usr/local/lib/python3.8/dist-packages/sklearn/linear_model/_stochastic_gradient.py:574: ConvergenceWarning: Maximum number of iteration reached before convergence. Consider increasing max_iter to improve the fit.\n",
      "  warnings.warn(\"Maximum number of iteration reached before \"\n",
      "/usr/local/lib/python3.8/dist-packages/sklearn/linear_model/_stochastic_gradient.py:574: ConvergenceWarning: Maximum number of iteration reached before convergence. Consider increasing max_iter to improve the fit.\n",
      "  warnings.warn(\"Maximum number of iteration reached before \"\n",
      "/usr/local/lib/python3.8/dist-packages/sklearn/linear_model/_stochastic_gradient.py:574: ConvergenceWarning: Maximum number of iteration reached before convergence. Consider increasing max_iter to improve the fit.\n",
      "  warnings.warn(\"Maximum number of iteration reached before \"\n",
      "/usr/local/lib/python3.8/dist-packages/sklearn/linear_model/_stochastic_gradient.py:574: ConvergenceWarning: Maximum number of iteration reached before convergence. Consider increasing max_iter to improve the fit.\n",
      "  warnings.warn(\"Maximum number of iteration reached before \"\n",
      "/usr/local/lib/python3.8/dist-packages/sklearn/linear_model/_stochastic_gradient.py:574: ConvergenceWarning: Maximum number of iteration reached before convergence. Consider increasing max_iter to improve the fit.\n",
      "  warnings.warn(\"Maximum number of iteration reached before \"\n",
      "/usr/local/lib/python3.8/dist-packages/sklearn/linear_model/_stochastic_gradient.py:574: ConvergenceWarning: Maximum number of iteration reached before convergence. Consider increasing max_iter to improve the fit.\n",
      "  warnings.warn(\"Maximum number of iteration reached before \"\n",
      "/usr/local/lib/python3.8/dist-packages/sklearn/linear_model/_stochastic_gradient.py:574: ConvergenceWarning: Maximum number of iteration reached before convergence. Consider increasing max_iter to improve the fit.\n",
      "  warnings.warn(\"Maximum number of iteration reached before \"\n",
      "/usr/local/lib/python3.8/dist-packages/sklearn/linear_model/_stochastic_gradient.py:574: ConvergenceWarning: Maximum number of iteration reached before convergence. Consider increasing max_iter to improve the fit.\n",
      "  warnings.warn(\"Maximum number of iteration reached before \"\n",
      "/usr/local/lib/python3.8/dist-packages/sklearn/linear_model/_stochastic_gradient.py:574: ConvergenceWarning: Maximum number of iteration reached before convergence. Consider increasing max_iter to improve the fit.\n",
      "  warnings.warn(\"Maximum number of iteration reached before \"\n",
      "/usr/local/lib/python3.8/dist-packages/sklearn/linear_model/_stochastic_gradient.py:574: ConvergenceWarning: Maximum number of iteration reached before convergence. Consider increasing max_iter to improve the fit.\n",
      "  warnings.warn(\"Maximum number of iteration reached before \"\n",
      "/usr/local/lib/python3.8/dist-packages/sklearn/linear_model/_stochastic_gradient.py:574: ConvergenceWarning: Maximum number of iteration reached before convergence. Consider increasing max_iter to improve the fit.\n",
      "  warnings.warn(\"Maximum number of iteration reached before \"\n",
      "/usr/local/lib/python3.8/dist-packages/sklearn/linear_model/_stochastic_gradient.py:574: ConvergenceWarning: Maximum number of iteration reached before convergence. Consider increasing max_iter to improve the fit.\n",
      "  warnings.warn(\"Maximum number of iteration reached before \"\n",
      "/usr/local/lib/python3.8/dist-packages/sklearn/linear_model/_stochastic_gradient.py:574: ConvergenceWarning: Maximum number of iteration reached before convergence. Consider increasing max_iter to improve the fit.\n",
      "  warnings.warn(\"Maximum number of iteration reached before \"\n",
      "/usr/local/lib/python3.8/dist-packages/sklearn/linear_model/_stochastic_gradient.py:574: ConvergenceWarning: Maximum number of iteration reached before convergence. Consider increasing max_iter to improve the fit.\n",
      "  warnings.warn(\"Maximum number of iteration reached before \"\n",
      "/usr/local/lib/python3.8/dist-packages/sklearn/linear_model/_stochastic_gradient.py:574: ConvergenceWarning: Maximum number of iteration reached before convergence. Consider increasing max_iter to improve the fit.\n",
      "  warnings.warn(\"Maximum number of iteration reached before \"\n",
      "/usr/local/lib/python3.8/dist-packages/sklearn/linear_model/_stochastic_gradient.py:574: ConvergenceWarning: Maximum number of iteration reached before convergence. Consider increasing max_iter to improve the fit.\n",
      "  warnings.warn(\"Maximum number of iteration reached before \"\n",
      "/usr/local/lib/python3.8/dist-packages/sklearn/linear_model/_stochastic_gradient.py:574: ConvergenceWarning: Maximum number of iteration reached before convergence. Consider increasing max_iter to improve the fit.\n",
      "  warnings.warn(\"Maximum number of iteration reached before \"\n",
      "/usr/local/lib/python3.8/dist-packages/sklearn/linear_model/_stochastic_gradient.py:574: ConvergenceWarning: Maximum number of iteration reached before convergence. Consider increasing max_iter to improve the fit.\n",
      "  warnings.warn(\"Maximum number of iteration reached before \"\n",
      "/usr/local/lib/python3.8/dist-packages/sklearn/linear_model/_stochastic_gradient.py:574: ConvergenceWarning: Maximum number of iteration reached before convergence. Consider increasing max_iter to improve the fit.\n",
      "  warnings.warn(\"Maximum number of iteration reached before \"\n",
      "/usr/local/lib/python3.8/dist-packages/sklearn/linear_model/_stochastic_gradient.py:574: ConvergenceWarning: Maximum number of iteration reached before convergence. Consider increasing max_iter to improve the fit.\n",
      "  warnings.warn(\"Maximum number of iteration reached before \"\n",
      "/usr/local/lib/python3.8/dist-packages/sklearn/linear_model/_stochastic_gradient.py:574: ConvergenceWarning: Maximum number of iteration reached before convergence. Consider increasing max_iter to improve the fit.\n",
      "  warnings.warn(\"Maximum number of iteration reached before \"\n",
      "/usr/local/lib/python3.8/dist-packages/sklearn/linear_model/_stochastic_gradient.py:574: ConvergenceWarning: Maximum number of iteration reached before convergence. Consider increasing max_iter to improve the fit.\n",
      "  warnings.warn(\"Maximum number of iteration reached before \"\n",
      "/usr/local/lib/python3.8/dist-packages/sklearn/linear_model/_stochastic_gradient.py:574: ConvergenceWarning: Maximum number of iteration reached before convergence. Consider increasing max_iter to improve the fit.\n",
      "  warnings.warn(\"Maximum number of iteration reached before \"\n",
      "/usr/local/lib/python3.8/dist-packages/sklearn/linear_model/_stochastic_gradient.py:574: ConvergenceWarning: Maximum number of iteration reached before convergence. Consider increasing max_iter to improve the fit.\n",
      "  warnings.warn(\"Maximum number of iteration reached before \"\n",
      "/usr/local/lib/python3.8/dist-packages/sklearn/linear_model/_stochastic_gradient.py:574: ConvergenceWarning: Maximum number of iteration reached before convergence. Consider increasing max_iter to improve the fit.\n",
      "  warnings.warn(\"Maximum number of iteration reached before \"\n",
      "/usr/local/lib/python3.8/dist-packages/sklearn/linear_model/_stochastic_gradient.py:574: ConvergenceWarning: Maximum number of iteration reached before convergence. Consider increasing max_iter to improve the fit.\n",
      "  warnings.warn(\"Maximum number of iteration reached before \"\n",
      "/usr/local/lib/python3.8/dist-packages/sklearn/linear_model/_stochastic_gradient.py:574: ConvergenceWarning: Maximum number of iteration reached before convergence. Consider increasing max_iter to improve the fit.\n",
      "  warnings.warn(\"Maximum number of iteration reached before \"\n",
      "/usr/local/lib/python3.8/dist-packages/sklearn/linear_model/_stochastic_gradient.py:574: ConvergenceWarning: Maximum number of iteration reached before convergence. Consider increasing max_iter to improve the fit.\n",
      "  warnings.warn(\"Maximum number of iteration reached before \"\n",
      "/usr/local/lib/python3.8/dist-packages/sklearn/linear_model/_stochastic_gradient.py:574: ConvergenceWarning: Maximum number of iteration reached before convergence. Consider increasing max_iter to improve the fit.\n",
      "  warnings.warn(\"Maximum number of iteration reached before \"\n",
      "/usr/local/lib/python3.8/dist-packages/sklearn/linear_model/_stochastic_gradient.py:574: ConvergenceWarning: Maximum number of iteration reached before convergence. Consider increasing max_iter to improve the fit.\n",
      "  warnings.warn(\"Maximum number of iteration reached before \"\n",
      "/usr/local/lib/python3.8/dist-packages/sklearn/linear_model/_stochastic_gradient.py:574: ConvergenceWarning: Maximum number of iteration reached before convergence. Consider increasing max_iter to improve the fit.\n",
      "  warnings.warn(\"Maximum number of iteration reached before \"\n",
      "/usr/local/lib/python3.8/dist-packages/sklearn/linear_model/_stochastic_gradient.py:574: ConvergenceWarning: Maximum number of iteration reached before convergence. Consider increasing max_iter to improve the fit.\n",
      "  warnings.warn(\"Maximum number of iteration reached before \"\n",
      "/usr/local/lib/python3.8/dist-packages/sklearn/linear_model/_stochastic_gradient.py:574: ConvergenceWarning: Maximum number of iteration reached before convergence. Consider increasing max_iter to improve the fit.\n",
      "  warnings.warn(\"Maximum number of iteration reached before \"\n",
      "/usr/local/lib/python3.8/dist-packages/sklearn/linear_model/_stochastic_gradient.py:574: ConvergenceWarning: Maximum number of iteration reached before convergence. Consider increasing max_iter to improve the fit.\n",
      "  warnings.warn(\"Maximum number of iteration reached before \"\n",
      "/usr/local/lib/python3.8/dist-packages/sklearn/linear_model/_stochastic_gradient.py:574: ConvergenceWarning: Maximum number of iteration reached before convergence. Consider increasing max_iter to improve the fit.\n",
      "  warnings.warn(\"Maximum number of iteration reached before \"\n",
      "/usr/local/lib/python3.8/dist-packages/sklearn/linear_model/_stochastic_gradient.py:574: ConvergenceWarning: Maximum number of iteration reached before convergence. Consider increasing max_iter to improve the fit.\n",
      "  warnings.warn(\"Maximum number of iteration reached before \"\n",
      "/usr/local/lib/python3.8/dist-packages/sklearn/linear_model/_stochastic_gradient.py:574: ConvergenceWarning: Maximum number of iteration reached before convergence. Consider increasing max_iter to improve the fit.\n",
      "  warnings.warn(\"Maximum number of iteration reached before \"\n",
      "/usr/local/lib/python3.8/dist-packages/sklearn/linear_model/_stochastic_gradient.py:574: ConvergenceWarning: Maximum number of iteration reached before convergence. Consider increasing max_iter to improve the fit.\n",
      "  warnings.warn(\"Maximum number of iteration reached before \"\n",
      "/usr/local/lib/python3.8/dist-packages/sklearn/linear_model/_stochastic_gradient.py:574: ConvergenceWarning: Maximum number of iteration reached before convergence. Consider increasing max_iter to improve the fit.\n",
      "  warnings.warn(\"Maximum number of iteration reached before \"\n",
      "/usr/local/lib/python3.8/dist-packages/sklearn/linear_model/_stochastic_gradient.py:574: ConvergenceWarning: Maximum number of iteration reached before convergence. Consider increasing max_iter to improve the fit.\n",
      "  warnings.warn(\"Maximum number of iteration reached before \"\n",
      "/usr/local/lib/python3.8/dist-packages/sklearn/linear_model/_stochastic_gradient.py:574: ConvergenceWarning: Maximum number of iteration reached before convergence. Consider increasing max_iter to improve the fit.\n",
      "  warnings.warn(\"Maximum number of iteration reached before \"\n"
     ]
    },
    {
     "name": "stderr",
     "output_type": "stream",
     "text": [
      "/usr/local/lib/python3.8/dist-packages/sklearn/linear_model/_stochastic_gradient.py:574: ConvergenceWarning: Maximum number of iteration reached before convergence. Consider increasing max_iter to improve the fit.\n",
      "  warnings.warn(\"Maximum number of iteration reached before \"\n",
      "/usr/local/lib/python3.8/dist-packages/sklearn/linear_model/_stochastic_gradient.py:574: ConvergenceWarning: Maximum number of iteration reached before convergence. Consider increasing max_iter to improve the fit.\n",
      "  warnings.warn(\"Maximum number of iteration reached before \"\n",
      "/usr/local/lib/python3.8/dist-packages/sklearn/linear_model/_stochastic_gradient.py:574: ConvergenceWarning: Maximum number of iteration reached before convergence. Consider increasing max_iter to improve the fit.\n",
      "  warnings.warn(\"Maximum number of iteration reached before \"\n",
      "/usr/local/lib/python3.8/dist-packages/sklearn/linear_model/_stochastic_gradient.py:574: ConvergenceWarning: Maximum number of iteration reached before convergence. Consider increasing max_iter to improve the fit.\n",
      "  warnings.warn(\"Maximum number of iteration reached before \"\n",
      "/usr/local/lib/python3.8/dist-packages/sklearn/linear_model/_stochastic_gradient.py:574: ConvergenceWarning: Maximum number of iteration reached before convergence. Consider increasing max_iter to improve the fit.\n",
      "  warnings.warn(\"Maximum number of iteration reached before \"\n",
      "/usr/local/lib/python3.8/dist-packages/sklearn/linear_model/_stochastic_gradient.py:574: ConvergenceWarning: Maximum number of iteration reached before convergence. Consider increasing max_iter to improve the fit.\n",
      "  warnings.warn(\"Maximum number of iteration reached before \"\n",
      "/usr/local/lib/python3.8/dist-packages/sklearn/linear_model/_stochastic_gradient.py:574: ConvergenceWarning: Maximum number of iteration reached before convergence. Consider increasing max_iter to improve the fit.\n",
      "  warnings.warn(\"Maximum number of iteration reached before \"\n",
      "/usr/local/lib/python3.8/dist-packages/sklearn/linear_model/_stochastic_gradient.py:574: ConvergenceWarning: Maximum number of iteration reached before convergence. Consider increasing max_iter to improve the fit.\n",
      "  warnings.warn(\"Maximum number of iteration reached before \"\n",
      "/usr/local/lib/python3.8/dist-packages/sklearn/linear_model/_stochastic_gradient.py:574: ConvergenceWarning: Maximum number of iteration reached before convergence. Consider increasing max_iter to improve the fit.\n",
      "  warnings.warn(\"Maximum number of iteration reached before \"\n",
      "/usr/local/lib/python3.8/dist-packages/sklearn/linear_model/_stochastic_gradient.py:574: ConvergenceWarning: Maximum number of iteration reached before convergence. Consider increasing max_iter to improve the fit.\n",
      "  warnings.warn(\"Maximum number of iteration reached before \"\n",
      "/usr/local/lib/python3.8/dist-packages/sklearn/linear_model/_stochastic_gradient.py:574: ConvergenceWarning: Maximum number of iteration reached before convergence. Consider increasing max_iter to improve the fit.\n",
      "  warnings.warn(\"Maximum number of iteration reached before \"\n",
      "/usr/local/lib/python3.8/dist-packages/sklearn/linear_model/_stochastic_gradient.py:574: ConvergenceWarning: Maximum number of iteration reached before convergence. Consider increasing max_iter to improve the fit.\n",
      "  warnings.warn(\"Maximum number of iteration reached before \"\n",
      "/usr/local/lib/python3.8/dist-packages/sklearn/linear_model/_stochastic_gradient.py:574: ConvergenceWarning: Maximum number of iteration reached before convergence. Consider increasing max_iter to improve the fit.\n",
      "  warnings.warn(\"Maximum number of iteration reached before \"\n",
      "/usr/local/lib/python3.8/dist-packages/sklearn/linear_model/_stochastic_gradient.py:574: ConvergenceWarning: Maximum number of iteration reached before convergence. Consider increasing max_iter to improve the fit.\n",
      "  warnings.warn(\"Maximum number of iteration reached before \"\n",
      "/usr/local/lib/python3.8/dist-packages/sklearn/linear_model/_stochastic_gradient.py:574: ConvergenceWarning: Maximum number of iteration reached before convergence. Consider increasing max_iter to improve the fit.\n",
      "  warnings.warn(\"Maximum number of iteration reached before \"\n",
      "/usr/local/lib/python3.8/dist-packages/sklearn/linear_model/_stochastic_gradient.py:574: ConvergenceWarning: Maximum number of iteration reached before convergence. Consider increasing max_iter to improve the fit.\n",
      "  warnings.warn(\"Maximum number of iteration reached before \"\n",
      "/usr/local/lib/python3.8/dist-packages/sklearn/linear_model/_stochastic_gradient.py:574: ConvergenceWarning: Maximum number of iteration reached before convergence. Consider increasing max_iter to improve the fit.\n",
      "  warnings.warn(\"Maximum number of iteration reached before \"\n",
      "/usr/local/lib/python3.8/dist-packages/sklearn/linear_model/_stochastic_gradient.py:574: ConvergenceWarning: Maximum number of iteration reached before convergence. Consider increasing max_iter to improve the fit.\n",
      "  warnings.warn(\"Maximum number of iteration reached before \"\n",
      "/usr/local/lib/python3.8/dist-packages/sklearn/linear_model/_stochastic_gradient.py:574: ConvergenceWarning: Maximum number of iteration reached before convergence. Consider increasing max_iter to improve the fit.\n",
      "  warnings.warn(\"Maximum number of iteration reached before \"\n",
      "/usr/local/lib/python3.8/dist-packages/sklearn/linear_model/_stochastic_gradient.py:574: ConvergenceWarning: Maximum number of iteration reached before convergence. Consider increasing max_iter to improve the fit.\n",
      "  warnings.warn(\"Maximum number of iteration reached before \"\n",
      "/usr/local/lib/python3.8/dist-packages/sklearn/linear_model/_stochastic_gradient.py:574: ConvergenceWarning: Maximum number of iteration reached before convergence. Consider increasing max_iter to improve the fit.\n",
      "  warnings.warn(\"Maximum number of iteration reached before \"\n",
      "/usr/local/lib/python3.8/dist-packages/sklearn/linear_model/_stochastic_gradient.py:574: ConvergenceWarning: Maximum number of iteration reached before convergence. Consider increasing max_iter to improve the fit.\n",
      "  warnings.warn(\"Maximum number of iteration reached before \"\n",
      "/usr/local/lib/python3.8/dist-packages/sklearn/linear_model/_stochastic_gradient.py:574: ConvergenceWarning: Maximum number of iteration reached before convergence. Consider increasing max_iter to improve the fit.\n",
      "  warnings.warn(\"Maximum number of iteration reached before \"\n",
      "/usr/local/lib/python3.8/dist-packages/sklearn/linear_model/_stochastic_gradient.py:574: ConvergenceWarning: Maximum number of iteration reached before convergence. Consider increasing max_iter to improve the fit.\n",
      "  warnings.warn(\"Maximum number of iteration reached before \"\n",
      "/usr/local/lib/python3.8/dist-packages/sklearn/linear_model/_stochastic_gradient.py:574: ConvergenceWarning: Maximum number of iteration reached before convergence. Consider increasing max_iter to improve the fit.\n",
      "  warnings.warn(\"Maximum number of iteration reached before \"\n",
      "/usr/local/lib/python3.8/dist-packages/sklearn/linear_model/_stochastic_gradient.py:574: ConvergenceWarning: Maximum number of iteration reached before convergence. Consider increasing max_iter to improve the fit.\n",
      "  warnings.warn(\"Maximum number of iteration reached before \"\n",
      "/usr/local/lib/python3.8/dist-packages/sklearn/linear_model/_stochastic_gradient.py:574: ConvergenceWarning: Maximum number of iteration reached before convergence. Consider increasing max_iter to improve the fit.\n",
      "  warnings.warn(\"Maximum number of iteration reached before \"\n",
      "/usr/local/lib/python3.8/dist-packages/sklearn/linear_model/_stochastic_gradient.py:574: ConvergenceWarning: Maximum number of iteration reached before convergence. Consider increasing max_iter to improve the fit.\n",
      "  warnings.warn(\"Maximum number of iteration reached before \"\n",
      "/usr/local/lib/python3.8/dist-packages/sklearn/linear_model/_stochastic_gradient.py:574: ConvergenceWarning: Maximum number of iteration reached before convergence. Consider increasing max_iter to improve the fit.\n",
      "  warnings.warn(\"Maximum number of iteration reached before \"\n",
      "/usr/local/lib/python3.8/dist-packages/sklearn/linear_model/_stochastic_gradient.py:574: ConvergenceWarning: Maximum number of iteration reached before convergence. Consider increasing max_iter to improve the fit.\n",
      "  warnings.warn(\"Maximum number of iteration reached before \"\n",
      "/usr/local/lib/python3.8/dist-packages/sklearn/linear_model/_stochastic_gradient.py:574: ConvergenceWarning: Maximum number of iteration reached before convergence. Consider increasing max_iter to improve the fit.\n",
      "  warnings.warn(\"Maximum number of iteration reached before \"\n",
      "/usr/local/lib/python3.8/dist-packages/sklearn/linear_model/_stochastic_gradient.py:574: ConvergenceWarning: Maximum number of iteration reached before convergence. Consider increasing max_iter to improve the fit.\n",
      "  warnings.warn(\"Maximum number of iteration reached before \"\n",
      "/usr/local/lib/python3.8/dist-packages/sklearn/linear_model/_stochastic_gradient.py:574: ConvergenceWarning: Maximum number of iteration reached before convergence. Consider increasing max_iter to improve the fit.\n",
      "  warnings.warn(\"Maximum number of iteration reached before \"\n",
      "/usr/local/lib/python3.8/dist-packages/sklearn/linear_model/_stochastic_gradient.py:574: ConvergenceWarning: Maximum number of iteration reached before convergence. Consider increasing max_iter to improve the fit.\n",
      "  warnings.warn(\"Maximum number of iteration reached before \"\n",
      "/usr/local/lib/python3.8/dist-packages/sklearn/linear_model/_stochastic_gradient.py:574: ConvergenceWarning: Maximum number of iteration reached before convergence. Consider increasing max_iter to improve the fit.\n",
      "  warnings.warn(\"Maximum number of iteration reached before \"\n",
      "/usr/local/lib/python3.8/dist-packages/sklearn/linear_model/_stochastic_gradient.py:574: ConvergenceWarning: Maximum number of iteration reached before convergence. Consider increasing max_iter to improve the fit.\n",
      "  warnings.warn(\"Maximum number of iteration reached before \"\n"
     ]
    },
    {
     "name": "stderr",
     "output_type": "stream",
     "text": [
      "/usr/local/lib/python3.8/dist-packages/sklearn/linear_model/_stochastic_gradient.py:574: ConvergenceWarning: Maximum number of iteration reached before convergence. Consider increasing max_iter to improve the fit.\n",
      "  warnings.warn(\"Maximum number of iteration reached before \"\n",
      "/usr/local/lib/python3.8/dist-packages/sklearn/linear_model/_stochastic_gradient.py:574: ConvergenceWarning: Maximum number of iteration reached before convergence. Consider increasing max_iter to improve the fit.\n",
      "  warnings.warn(\"Maximum number of iteration reached before \"\n",
      "/usr/local/lib/python3.8/dist-packages/sklearn/linear_model/_stochastic_gradient.py:574: ConvergenceWarning: Maximum number of iteration reached before convergence. Consider increasing max_iter to improve the fit.\n",
      "  warnings.warn(\"Maximum number of iteration reached before \"\n",
      "/usr/local/lib/python3.8/dist-packages/sklearn/linear_model/_stochastic_gradient.py:574: ConvergenceWarning: Maximum number of iteration reached before convergence. Consider increasing max_iter to improve the fit.\n",
      "  warnings.warn(\"Maximum number of iteration reached before \"\n",
      "/usr/local/lib/python3.8/dist-packages/sklearn/linear_model/_stochastic_gradient.py:574: ConvergenceWarning: Maximum number of iteration reached before convergence. Consider increasing max_iter to improve the fit.\n",
      "  warnings.warn(\"Maximum number of iteration reached before \"\n",
      "/usr/local/lib/python3.8/dist-packages/sklearn/linear_model/_stochastic_gradient.py:574: ConvergenceWarning: Maximum number of iteration reached before convergence. Consider increasing max_iter to improve the fit.\n",
      "  warnings.warn(\"Maximum number of iteration reached before \"\n",
      "/usr/local/lib/python3.8/dist-packages/sklearn/linear_model/_stochastic_gradient.py:574: ConvergenceWarning: Maximum number of iteration reached before convergence. Consider increasing max_iter to improve the fit.\n",
      "  warnings.warn(\"Maximum number of iteration reached before \"\n",
      "/usr/local/lib/python3.8/dist-packages/sklearn/linear_model/_stochastic_gradient.py:574: ConvergenceWarning: Maximum number of iteration reached before convergence. Consider increasing max_iter to improve the fit.\n",
      "  warnings.warn(\"Maximum number of iteration reached before \"\n",
      "/usr/local/lib/python3.8/dist-packages/sklearn/linear_model/_stochastic_gradient.py:574: ConvergenceWarning: Maximum number of iteration reached before convergence. Consider increasing max_iter to improve the fit.\n",
      "  warnings.warn(\"Maximum number of iteration reached before \"\n",
      "/usr/local/lib/python3.8/dist-packages/sklearn/linear_model/_stochastic_gradient.py:574: ConvergenceWarning: Maximum number of iteration reached before convergence. Consider increasing max_iter to improve the fit.\n",
      "  warnings.warn(\"Maximum number of iteration reached before \"\n",
      "/usr/local/lib/python3.8/dist-packages/sklearn/linear_model/_stochastic_gradient.py:574: ConvergenceWarning: Maximum number of iteration reached before convergence. Consider increasing max_iter to improve the fit.\n",
      "  warnings.warn(\"Maximum number of iteration reached before \"\n",
      "/usr/local/lib/python3.8/dist-packages/sklearn/linear_model/_stochastic_gradient.py:574: ConvergenceWarning: Maximum number of iteration reached before convergence. Consider increasing max_iter to improve the fit.\n",
      "  warnings.warn(\"Maximum number of iteration reached before \"\n",
      "/usr/local/lib/python3.8/dist-packages/sklearn/linear_model/_stochastic_gradient.py:574: ConvergenceWarning: Maximum number of iteration reached before convergence. Consider increasing max_iter to improve the fit.\n",
      "  warnings.warn(\"Maximum number of iteration reached before \"\n",
      "/usr/local/lib/python3.8/dist-packages/sklearn/linear_model/_stochastic_gradient.py:574: ConvergenceWarning: Maximum number of iteration reached before convergence. Consider increasing max_iter to improve the fit.\n",
      "  warnings.warn(\"Maximum number of iteration reached before \"\n",
      "/usr/local/lib/python3.8/dist-packages/sklearn/linear_model/_stochastic_gradient.py:574: ConvergenceWarning: Maximum number of iteration reached before convergence. Consider increasing max_iter to improve the fit.\n",
      "  warnings.warn(\"Maximum number of iteration reached before \"\n",
      "/usr/local/lib/python3.8/dist-packages/sklearn/linear_model/_stochastic_gradient.py:574: ConvergenceWarning: Maximum number of iteration reached before convergence. Consider increasing max_iter to improve the fit.\n",
      "  warnings.warn(\"Maximum number of iteration reached before \"\n",
      "/usr/local/lib/python3.8/dist-packages/sklearn/linear_model/_stochastic_gradient.py:574: ConvergenceWarning: Maximum number of iteration reached before convergence. Consider increasing max_iter to improve the fit.\n",
      "  warnings.warn(\"Maximum number of iteration reached before \"\n",
      "/usr/local/lib/python3.8/dist-packages/sklearn/linear_model/_stochastic_gradient.py:574: ConvergenceWarning: Maximum number of iteration reached before convergence. Consider increasing max_iter to improve the fit.\n",
      "  warnings.warn(\"Maximum number of iteration reached before \"\n",
      "/usr/local/lib/python3.8/dist-packages/sklearn/linear_model/_stochastic_gradient.py:574: ConvergenceWarning: Maximum number of iteration reached before convergence. Consider increasing max_iter to improve the fit.\n",
      "  warnings.warn(\"Maximum number of iteration reached before \"\n",
      "/usr/local/lib/python3.8/dist-packages/sklearn/linear_model/_stochastic_gradient.py:574: ConvergenceWarning: Maximum number of iteration reached before convergence. Consider increasing max_iter to improve the fit.\n",
      "  warnings.warn(\"Maximum number of iteration reached before \"\n",
      "/usr/local/lib/python3.8/dist-packages/sklearn/linear_model/_stochastic_gradient.py:574: ConvergenceWarning: Maximum number of iteration reached before convergence. Consider increasing max_iter to improve the fit.\n",
      "  warnings.warn(\"Maximum number of iteration reached before \"\n",
      "/usr/local/lib/python3.8/dist-packages/sklearn/linear_model/_stochastic_gradient.py:574: ConvergenceWarning: Maximum number of iteration reached before convergence. Consider increasing max_iter to improve the fit.\n",
      "  warnings.warn(\"Maximum number of iteration reached before \"\n",
      "/usr/local/lib/python3.8/dist-packages/sklearn/linear_model/_stochastic_gradient.py:574: ConvergenceWarning: Maximum number of iteration reached before convergence. Consider increasing max_iter to improve the fit.\n",
      "  warnings.warn(\"Maximum number of iteration reached before \"\n",
      "/usr/local/lib/python3.8/dist-packages/sklearn/linear_model/_stochastic_gradient.py:574: ConvergenceWarning: Maximum number of iteration reached before convergence. Consider increasing max_iter to improve the fit.\n",
      "  warnings.warn(\"Maximum number of iteration reached before \"\n",
      "/usr/local/lib/python3.8/dist-packages/sklearn/linear_model/_stochastic_gradient.py:574: ConvergenceWarning: Maximum number of iteration reached before convergence. Consider increasing max_iter to improve the fit.\n",
      "  warnings.warn(\"Maximum number of iteration reached before \"\n",
      "/usr/local/lib/python3.8/dist-packages/sklearn/linear_model/_stochastic_gradient.py:574: ConvergenceWarning: Maximum number of iteration reached before convergence. Consider increasing max_iter to improve the fit.\n",
      "  warnings.warn(\"Maximum number of iteration reached before \"\n",
      "/usr/local/lib/python3.8/dist-packages/sklearn/linear_model/_stochastic_gradient.py:574: ConvergenceWarning: Maximum number of iteration reached before convergence. Consider increasing max_iter to improve the fit.\n",
      "  warnings.warn(\"Maximum number of iteration reached before \"\n",
      "/usr/local/lib/python3.8/dist-packages/sklearn/linear_model/_stochastic_gradient.py:574: ConvergenceWarning: Maximum number of iteration reached before convergence. Consider increasing max_iter to improve the fit.\n",
      "  warnings.warn(\"Maximum number of iteration reached before \"\n",
      "/usr/local/lib/python3.8/dist-packages/sklearn/linear_model/_stochastic_gradient.py:574: ConvergenceWarning: Maximum number of iteration reached before convergence. Consider increasing max_iter to improve the fit.\n",
      "  warnings.warn(\"Maximum number of iteration reached before \"\n",
      "/usr/local/lib/python3.8/dist-packages/sklearn/linear_model/_stochastic_gradient.py:574: ConvergenceWarning: Maximum number of iteration reached before convergence. Consider increasing max_iter to improve the fit.\n",
      "  warnings.warn(\"Maximum number of iteration reached before \"\n",
      "/usr/local/lib/python3.8/dist-packages/sklearn/linear_model/_stochastic_gradient.py:574: ConvergenceWarning: Maximum number of iteration reached before convergence. Consider increasing max_iter to improve the fit.\n",
      "  warnings.warn(\"Maximum number of iteration reached before \"\n",
      "/usr/local/lib/python3.8/dist-packages/sklearn/linear_model/_stochastic_gradient.py:574: ConvergenceWarning: Maximum number of iteration reached before convergence. Consider increasing max_iter to improve the fit.\n",
      "  warnings.warn(\"Maximum number of iteration reached before \"\n",
      "/usr/local/lib/python3.8/dist-packages/sklearn/linear_model/_stochastic_gradient.py:574: ConvergenceWarning: Maximum number of iteration reached before convergence. Consider increasing max_iter to improve the fit.\n",
      "  warnings.warn(\"Maximum number of iteration reached before \"\n"
     ]
    },
    {
     "name": "stderr",
     "output_type": "stream",
     "text": [
      "/usr/local/lib/python3.8/dist-packages/sklearn/linear_model/_stochastic_gradient.py:574: ConvergenceWarning: Maximum number of iteration reached before convergence. Consider increasing max_iter to improve the fit.\n",
      "  warnings.warn(\"Maximum number of iteration reached before \"\n",
      "/usr/local/lib/python3.8/dist-packages/sklearn/linear_model/_stochastic_gradient.py:574: ConvergenceWarning: Maximum number of iteration reached before convergence. Consider increasing max_iter to improve the fit.\n",
      "  warnings.warn(\"Maximum number of iteration reached before \"\n",
      "/usr/local/lib/python3.8/dist-packages/sklearn/linear_model/_stochastic_gradient.py:574: ConvergenceWarning: Maximum number of iteration reached before convergence. Consider increasing max_iter to improve the fit.\n",
      "  warnings.warn(\"Maximum number of iteration reached before \"\n",
      "/usr/local/lib/python3.8/dist-packages/sklearn/linear_model/_stochastic_gradient.py:574: ConvergenceWarning: Maximum number of iteration reached before convergence. Consider increasing max_iter to improve the fit.\n",
      "  warnings.warn(\"Maximum number of iteration reached before \"\n",
      "/usr/local/lib/python3.8/dist-packages/sklearn/linear_model/_stochastic_gradient.py:574: ConvergenceWarning: Maximum number of iteration reached before convergence. Consider increasing max_iter to improve the fit.\n",
      "  warnings.warn(\"Maximum number of iteration reached before \"\n",
      "/usr/local/lib/python3.8/dist-packages/sklearn/linear_model/_stochastic_gradient.py:574: ConvergenceWarning: Maximum number of iteration reached before convergence. Consider increasing max_iter to improve the fit.\n",
      "  warnings.warn(\"Maximum number of iteration reached before \"\n",
      "/usr/local/lib/python3.8/dist-packages/sklearn/linear_model/_stochastic_gradient.py:574: ConvergenceWarning: Maximum number of iteration reached before convergence. Consider increasing max_iter to improve the fit.\n",
      "  warnings.warn(\"Maximum number of iteration reached before \"\n",
      "/usr/local/lib/python3.8/dist-packages/sklearn/linear_model/_stochastic_gradient.py:574: ConvergenceWarning: Maximum number of iteration reached before convergence. Consider increasing max_iter to improve the fit.\n",
      "  warnings.warn(\"Maximum number of iteration reached before \"\n",
      "/usr/local/lib/python3.8/dist-packages/sklearn/linear_model/_stochastic_gradient.py:574: ConvergenceWarning: Maximum number of iteration reached before convergence. Consider increasing max_iter to improve the fit.\n",
      "  warnings.warn(\"Maximum number of iteration reached before \"\n",
      "/usr/local/lib/python3.8/dist-packages/sklearn/linear_model/_stochastic_gradient.py:574: ConvergenceWarning: Maximum number of iteration reached before convergence. Consider increasing max_iter to improve the fit.\n",
      "  warnings.warn(\"Maximum number of iteration reached before \"\n",
      "/usr/local/lib/python3.8/dist-packages/sklearn/linear_model/_stochastic_gradient.py:574: ConvergenceWarning: Maximum number of iteration reached before convergence. Consider increasing max_iter to improve the fit.\n",
      "  warnings.warn(\"Maximum number of iteration reached before \"\n",
      "/usr/local/lib/python3.8/dist-packages/sklearn/linear_model/_stochastic_gradient.py:574: ConvergenceWarning: Maximum number of iteration reached before convergence. Consider increasing max_iter to improve the fit.\n",
      "  warnings.warn(\"Maximum number of iteration reached before \"\n",
      "/usr/local/lib/python3.8/dist-packages/sklearn/linear_model/_stochastic_gradient.py:574: ConvergenceWarning: Maximum number of iteration reached before convergence. Consider increasing max_iter to improve the fit.\n",
      "  warnings.warn(\"Maximum number of iteration reached before \"\n",
      "/usr/local/lib/python3.8/dist-packages/sklearn/linear_model/_stochastic_gradient.py:574: ConvergenceWarning: Maximum number of iteration reached before convergence. Consider increasing max_iter to improve the fit.\n",
      "  warnings.warn(\"Maximum number of iteration reached before \"\n",
      "/usr/local/lib/python3.8/dist-packages/sklearn/linear_model/_stochastic_gradient.py:574: ConvergenceWarning: Maximum number of iteration reached before convergence. Consider increasing max_iter to improve the fit.\n",
      "  warnings.warn(\"Maximum number of iteration reached before \"\n",
      "/usr/local/lib/python3.8/dist-packages/sklearn/linear_model/_stochastic_gradient.py:574: ConvergenceWarning: Maximum number of iteration reached before convergence. Consider increasing max_iter to improve the fit.\n",
      "  warnings.warn(\"Maximum number of iteration reached before \"\n",
      "/usr/local/lib/python3.8/dist-packages/sklearn/linear_model/_stochastic_gradient.py:574: ConvergenceWarning: Maximum number of iteration reached before convergence. Consider increasing max_iter to improve the fit.\n",
      "  warnings.warn(\"Maximum number of iteration reached before \"\n",
      "/usr/local/lib/python3.8/dist-packages/sklearn/linear_model/_stochastic_gradient.py:574: ConvergenceWarning: Maximum number of iteration reached before convergence. Consider increasing max_iter to improve the fit.\n",
      "  warnings.warn(\"Maximum number of iteration reached before \"\n",
      "/usr/local/lib/python3.8/dist-packages/sklearn/linear_model/_stochastic_gradient.py:574: ConvergenceWarning: Maximum number of iteration reached before convergence. Consider increasing max_iter to improve the fit.\n",
      "  warnings.warn(\"Maximum number of iteration reached before \"\n",
      "/usr/local/lib/python3.8/dist-packages/sklearn/linear_model/_stochastic_gradient.py:574: ConvergenceWarning: Maximum number of iteration reached before convergence. Consider increasing max_iter to improve the fit.\n",
      "  warnings.warn(\"Maximum number of iteration reached before \"\n",
      "/usr/local/lib/python3.8/dist-packages/sklearn/linear_model/_stochastic_gradient.py:574: ConvergenceWarning: Maximum number of iteration reached before convergence. Consider increasing max_iter to improve the fit.\n",
      "  warnings.warn(\"Maximum number of iteration reached before \"\n",
      "/usr/local/lib/python3.8/dist-packages/sklearn/linear_model/_stochastic_gradient.py:574: ConvergenceWarning: Maximum number of iteration reached before convergence. Consider increasing max_iter to improve the fit.\n",
      "  warnings.warn(\"Maximum number of iteration reached before \"\n",
      "/usr/local/lib/python3.8/dist-packages/sklearn/linear_model/_stochastic_gradient.py:574: ConvergenceWarning: Maximum number of iteration reached before convergence. Consider increasing max_iter to improve the fit.\n",
      "  warnings.warn(\"Maximum number of iteration reached before \"\n",
      "/usr/local/lib/python3.8/dist-packages/sklearn/linear_model/_stochastic_gradient.py:574: ConvergenceWarning: Maximum number of iteration reached before convergence. Consider increasing max_iter to improve the fit.\n",
      "  warnings.warn(\"Maximum number of iteration reached before \"\n",
      "/usr/local/lib/python3.8/dist-packages/sklearn/linear_model/_stochastic_gradient.py:574: ConvergenceWarning: Maximum number of iteration reached before convergence. Consider increasing max_iter to improve the fit.\n",
      "  warnings.warn(\"Maximum number of iteration reached before \"\n",
      "/usr/local/lib/python3.8/dist-packages/sklearn/linear_model/_stochastic_gradient.py:574: ConvergenceWarning: Maximum number of iteration reached before convergence. Consider increasing max_iter to improve the fit.\n",
      "  warnings.warn(\"Maximum number of iteration reached before \"\n",
      "/usr/local/lib/python3.8/dist-packages/sklearn/linear_model/_stochastic_gradient.py:574: ConvergenceWarning: Maximum number of iteration reached before convergence. Consider increasing max_iter to improve the fit.\n",
      "  warnings.warn(\"Maximum number of iteration reached before \"\n",
      "/usr/local/lib/python3.8/dist-packages/sklearn/linear_model/_stochastic_gradient.py:574: ConvergenceWarning: Maximum number of iteration reached before convergence. Consider increasing max_iter to improve the fit.\n",
      "  warnings.warn(\"Maximum number of iteration reached before \"\n",
      "/usr/local/lib/python3.8/dist-packages/sklearn/linear_model/_stochastic_gradient.py:574: ConvergenceWarning: Maximum number of iteration reached before convergence. Consider increasing max_iter to improve the fit.\n",
      "  warnings.warn(\"Maximum number of iteration reached before \"\n",
      "/usr/local/lib/python3.8/dist-packages/sklearn/linear_model/_stochastic_gradient.py:574: ConvergenceWarning: Maximum number of iteration reached before convergence. Consider increasing max_iter to improve the fit.\n",
      "  warnings.warn(\"Maximum number of iteration reached before \"\n",
      "/usr/local/lib/python3.8/dist-packages/sklearn/linear_model/_stochastic_gradient.py:574: ConvergenceWarning: Maximum number of iteration reached before convergence. Consider increasing max_iter to improve the fit.\n",
      "  warnings.warn(\"Maximum number of iteration reached before \"\n",
      "/usr/local/lib/python3.8/dist-packages/sklearn/linear_model/_stochastic_gradient.py:574: ConvergenceWarning: Maximum number of iteration reached before convergence. Consider increasing max_iter to improve the fit.\n",
      "  warnings.warn(\"Maximum number of iteration reached before \"\n",
      "/usr/local/lib/python3.8/dist-packages/sklearn/linear_model/_stochastic_gradient.py:574: ConvergenceWarning: Maximum number of iteration reached before convergence. Consider increasing max_iter to improve the fit.\n",
      "  warnings.warn(\"Maximum number of iteration reached before \"\n",
      "/usr/local/lib/python3.8/dist-packages/sklearn/linear_model/_stochastic_gradient.py:574: ConvergenceWarning: Maximum number of iteration reached before convergence. Consider increasing max_iter to improve the fit.\n",
      "  warnings.warn(\"Maximum number of iteration reached before \"\n",
      "/usr/local/lib/python3.8/dist-packages/sklearn/linear_model/_stochastic_gradient.py:574: ConvergenceWarning: Maximum number of iteration reached before convergence. Consider increasing max_iter to improve the fit.\n",
      "  warnings.warn(\"Maximum number of iteration reached before \"\n"
     ]
    },
    {
     "name": "stderr",
     "output_type": "stream",
     "text": [
      "/usr/local/lib/python3.8/dist-packages/sklearn/linear_model/_stochastic_gradient.py:574: ConvergenceWarning: Maximum number of iteration reached before convergence. Consider increasing max_iter to improve the fit.\n",
      "  warnings.warn(\"Maximum number of iteration reached before \"\n",
      "/usr/local/lib/python3.8/dist-packages/sklearn/linear_model/_stochastic_gradient.py:574: ConvergenceWarning: Maximum number of iteration reached before convergence. Consider increasing max_iter to improve the fit.\n",
      "  warnings.warn(\"Maximum number of iteration reached before \"\n",
      "/usr/local/lib/python3.8/dist-packages/sklearn/linear_model/_stochastic_gradient.py:574: ConvergenceWarning: Maximum number of iteration reached before convergence. Consider increasing max_iter to improve the fit.\n",
      "  warnings.warn(\"Maximum number of iteration reached before \"\n",
      "/usr/local/lib/python3.8/dist-packages/sklearn/linear_model/_stochastic_gradient.py:574: ConvergenceWarning: Maximum number of iteration reached before convergence. Consider increasing max_iter to improve the fit.\n",
      "  warnings.warn(\"Maximum number of iteration reached before \"\n",
      "/usr/local/lib/python3.8/dist-packages/sklearn/linear_model/_stochastic_gradient.py:574: ConvergenceWarning: Maximum number of iteration reached before convergence. Consider increasing max_iter to improve the fit.\n",
      "  warnings.warn(\"Maximum number of iteration reached before \"\n",
      "/usr/local/lib/python3.8/dist-packages/sklearn/linear_model/_stochastic_gradient.py:574: ConvergenceWarning: Maximum number of iteration reached before convergence. Consider increasing max_iter to improve the fit.\n",
      "  warnings.warn(\"Maximum number of iteration reached before \"\n",
      "/usr/local/lib/python3.8/dist-packages/sklearn/linear_model/_stochastic_gradient.py:574: ConvergenceWarning: Maximum number of iteration reached before convergence. Consider increasing max_iter to improve the fit.\n",
      "  warnings.warn(\"Maximum number of iteration reached before \"\n",
      "/usr/local/lib/python3.8/dist-packages/sklearn/linear_model/_stochastic_gradient.py:574: ConvergenceWarning: Maximum number of iteration reached before convergence. Consider increasing max_iter to improve the fit.\n",
      "  warnings.warn(\"Maximum number of iteration reached before \"\n",
      "/usr/local/lib/python3.8/dist-packages/sklearn/linear_model/_stochastic_gradient.py:574: ConvergenceWarning: Maximum number of iteration reached before convergence. Consider increasing max_iter to improve the fit.\n",
      "  warnings.warn(\"Maximum number of iteration reached before \"\n",
      "/usr/local/lib/python3.8/dist-packages/sklearn/linear_model/_stochastic_gradient.py:574: ConvergenceWarning: Maximum number of iteration reached before convergence. Consider increasing max_iter to improve the fit.\n",
      "  warnings.warn(\"Maximum number of iteration reached before \"\n",
      "/usr/local/lib/python3.8/dist-packages/sklearn/linear_model/_stochastic_gradient.py:574: ConvergenceWarning: Maximum number of iteration reached before convergence. Consider increasing max_iter to improve the fit.\n",
      "  warnings.warn(\"Maximum number of iteration reached before \"\n",
      "/usr/local/lib/python3.8/dist-packages/sklearn/linear_model/_stochastic_gradient.py:574: ConvergenceWarning: Maximum number of iteration reached before convergence. Consider increasing max_iter to improve the fit.\n",
      "  warnings.warn(\"Maximum number of iteration reached before \"\n",
      "/usr/local/lib/python3.8/dist-packages/sklearn/linear_model/_stochastic_gradient.py:574: ConvergenceWarning: Maximum number of iteration reached before convergence. Consider increasing max_iter to improve the fit.\n",
      "  warnings.warn(\"Maximum number of iteration reached before \"\n",
      "/usr/local/lib/python3.8/dist-packages/sklearn/linear_model/_stochastic_gradient.py:574: ConvergenceWarning: Maximum number of iteration reached before convergence. Consider increasing max_iter to improve the fit.\n",
      "  warnings.warn(\"Maximum number of iteration reached before \"\n",
      "/usr/local/lib/python3.8/dist-packages/sklearn/linear_model/_stochastic_gradient.py:574: ConvergenceWarning: Maximum number of iteration reached before convergence. Consider increasing max_iter to improve the fit.\n",
      "  warnings.warn(\"Maximum number of iteration reached before \"\n",
      "/usr/local/lib/python3.8/dist-packages/sklearn/linear_model/_stochastic_gradient.py:574: ConvergenceWarning: Maximum number of iteration reached before convergence. Consider increasing max_iter to improve the fit.\n",
      "  warnings.warn(\"Maximum number of iteration reached before \"\n",
      "/usr/local/lib/python3.8/dist-packages/sklearn/linear_model/_stochastic_gradient.py:574: ConvergenceWarning: Maximum number of iteration reached before convergence. Consider increasing max_iter to improve the fit.\n",
      "  warnings.warn(\"Maximum number of iteration reached before \"\n",
      "/usr/local/lib/python3.8/dist-packages/sklearn/linear_model/_stochastic_gradient.py:574: ConvergenceWarning: Maximum number of iteration reached before convergence. Consider increasing max_iter to improve the fit.\n",
      "  warnings.warn(\"Maximum number of iteration reached before \"\n",
      "/usr/local/lib/python3.8/dist-packages/sklearn/linear_model/_stochastic_gradient.py:574: ConvergenceWarning: Maximum number of iteration reached before convergence. Consider increasing max_iter to improve the fit.\n",
      "  warnings.warn(\"Maximum number of iteration reached before \"\n",
      "/usr/local/lib/python3.8/dist-packages/sklearn/linear_model/_stochastic_gradient.py:574: ConvergenceWarning: Maximum number of iteration reached before convergence. Consider increasing max_iter to improve the fit.\n",
      "  warnings.warn(\"Maximum number of iteration reached before \"\n",
      "/usr/local/lib/python3.8/dist-packages/sklearn/linear_model/_stochastic_gradient.py:574: ConvergenceWarning: Maximum number of iteration reached before convergence. Consider increasing max_iter to improve the fit.\n",
      "  warnings.warn(\"Maximum number of iteration reached before \"\n",
      "/usr/local/lib/python3.8/dist-packages/sklearn/linear_model/_stochastic_gradient.py:574: ConvergenceWarning: Maximum number of iteration reached before convergence. Consider increasing max_iter to improve the fit.\n",
      "  warnings.warn(\"Maximum number of iteration reached before \"\n",
      "/usr/local/lib/python3.8/dist-packages/sklearn/linear_model/_stochastic_gradient.py:574: ConvergenceWarning: Maximum number of iteration reached before convergence. Consider increasing max_iter to improve the fit.\n",
      "  warnings.warn(\"Maximum number of iteration reached before \"\n",
      "/usr/local/lib/python3.8/dist-packages/sklearn/linear_model/_stochastic_gradient.py:574: ConvergenceWarning: Maximum number of iteration reached before convergence. Consider increasing max_iter to improve the fit.\n",
      "  warnings.warn(\"Maximum number of iteration reached before \"\n",
      "/usr/local/lib/python3.8/dist-packages/sklearn/linear_model/_stochastic_gradient.py:574: ConvergenceWarning: Maximum number of iteration reached before convergence. Consider increasing max_iter to improve the fit.\n",
      "  warnings.warn(\"Maximum number of iteration reached before \"\n",
      "/usr/local/lib/python3.8/dist-packages/sklearn/linear_model/_stochastic_gradient.py:574: ConvergenceWarning: Maximum number of iteration reached before convergence. Consider increasing max_iter to improve the fit.\n",
      "  warnings.warn(\"Maximum number of iteration reached before \"\n",
      "/usr/local/lib/python3.8/dist-packages/sklearn/linear_model/_stochastic_gradient.py:574: ConvergenceWarning: Maximum number of iteration reached before convergence. Consider increasing max_iter to improve the fit.\n",
      "  warnings.warn(\"Maximum number of iteration reached before \"\n",
      "/usr/local/lib/python3.8/dist-packages/sklearn/linear_model/_stochastic_gradient.py:574: ConvergenceWarning: Maximum number of iteration reached before convergence. Consider increasing max_iter to improve the fit.\n",
      "  warnings.warn(\"Maximum number of iteration reached before \"\n",
      "/usr/local/lib/python3.8/dist-packages/sklearn/linear_model/_stochastic_gradient.py:574: ConvergenceWarning: Maximum number of iteration reached before convergence. Consider increasing max_iter to improve the fit.\n",
      "  warnings.warn(\"Maximum number of iteration reached before \"\n",
      "/usr/local/lib/python3.8/dist-packages/sklearn/linear_model/_stochastic_gradient.py:574: ConvergenceWarning: Maximum number of iteration reached before convergence. Consider increasing max_iter to improve the fit.\n",
      "  warnings.warn(\"Maximum number of iteration reached before \"\n",
      "/usr/local/lib/python3.8/dist-packages/sklearn/linear_model/_stochastic_gradient.py:574: ConvergenceWarning: Maximum number of iteration reached before convergence. Consider increasing max_iter to improve the fit.\n",
      "  warnings.warn(\"Maximum number of iteration reached before \"\n",
      "/usr/local/lib/python3.8/dist-packages/sklearn/linear_model/_stochastic_gradient.py:574: ConvergenceWarning: Maximum number of iteration reached before convergence. Consider increasing max_iter to improve the fit.\n",
      "  warnings.warn(\"Maximum number of iteration reached before \"\n",
      "/usr/local/lib/python3.8/dist-packages/sklearn/linear_model/_stochastic_gradient.py:574: ConvergenceWarning: Maximum number of iteration reached before convergence. Consider increasing max_iter to improve the fit.\n",
      "  warnings.warn(\"Maximum number of iteration reached before \"\n"
     ]
    },
    {
     "name": "stderr",
     "output_type": "stream",
     "text": [
      "/usr/local/lib/python3.8/dist-packages/sklearn/linear_model/_stochastic_gradient.py:574: ConvergenceWarning: Maximum number of iteration reached before convergence. Consider increasing max_iter to improve the fit.\n",
      "  warnings.warn(\"Maximum number of iteration reached before \"\n",
      "/usr/local/lib/python3.8/dist-packages/sklearn/linear_model/_stochastic_gradient.py:574: ConvergenceWarning: Maximum number of iteration reached before convergence. Consider increasing max_iter to improve the fit.\n",
      "  warnings.warn(\"Maximum number of iteration reached before \"\n",
      "/usr/local/lib/python3.8/dist-packages/sklearn/linear_model/_stochastic_gradient.py:574: ConvergenceWarning: Maximum number of iteration reached before convergence. Consider increasing max_iter to improve the fit.\n",
      "  warnings.warn(\"Maximum number of iteration reached before \"\n",
      "/usr/local/lib/python3.8/dist-packages/sklearn/linear_model/_stochastic_gradient.py:574: ConvergenceWarning: Maximum number of iteration reached before convergence. Consider increasing max_iter to improve the fit.\n",
      "  warnings.warn(\"Maximum number of iteration reached before \"\n",
      "/usr/local/lib/python3.8/dist-packages/sklearn/linear_model/_stochastic_gradient.py:574: ConvergenceWarning: Maximum number of iteration reached before convergence. Consider increasing max_iter to improve the fit.\n",
      "  warnings.warn(\"Maximum number of iteration reached before \"\n",
      "/usr/local/lib/python3.8/dist-packages/sklearn/linear_model/_stochastic_gradient.py:574: ConvergenceWarning: Maximum number of iteration reached before convergence. Consider increasing max_iter to improve the fit.\n",
      "  warnings.warn(\"Maximum number of iteration reached before \"\n",
      "/usr/local/lib/python3.8/dist-packages/sklearn/linear_model/_stochastic_gradient.py:574: ConvergenceWarning: Maximum number of iteration reached before convergence. Consider increasing max_iter to improve the fit.\n",
      "  warnings.warn(\"Maximum number of iteration reached before \"\n",
      "/usr/local/lib/python3.8/dist-packages/sklearn/linear_model/_stochastic_gradient.py:574: ConvergenceWarning: Maximum number of iteration reached before convergence. Consider increasing max_iter to improve the fit.\n",
      "  warnings.warn(\"Maximum number of iteration reached before \"\n",
      "/usr/local/lib/python3.8/dist-packages/sklearn/linear_model/_stochastic_gradient.py:574: ConvergenceWarning: Maximum number of iteration reached before convergence. Consider increasing max_iter to improve the fit.\n",
      "  warnings.warn(\"Maximum number of iteration reached before \"\n",
      "/usr/local/lib/python3.8/dist-packages/sklearn/linear_model/_stochastic_gradient.py:574: ConvergenceWarning: Maximum number of iteration reached before convergence. Consider increasing max_iter to improve the fit.\n",
      "  warnings.warn(\"Maximum number of iteration reached before \"\n",
      "/usr/local/lib/python3.8/dist-packages/sklearn/linear_model/_stochastic_gradient.py:574: ConvergenceWarning: Maximum number of iteration reached before convergence. Consider increasing max_iter to improve the fit.\n",
      "  warnings.warn(\"Maximum number of iteration reached before \"\n",
      "/usr/local/lib/python3.8/dist-packages/sklearn/linear_model/_stochastic_gradient.py:574: ConvergenceWarning: Maximum number of iteration reached before convergence. Consider increasing max_iter to improve the fit.\n",
      "  warnings.warn(\"Maximum number of iteration reached before \"\n",
      "/usr/local/lib/python3.8/dist-packages/sklearn/linear_model/_stochastic_gradient.py:574: ConvergenceWarning: Maximum number of iteration reached before convergence. Consider increasing max_iter to improve the fit.\n",
      "  warnings.warn(\"Maximum number of iteration reached before \"\n",
      "/usr/local/lib/python3.8/dist-packages/sklearn/linear_model/_stochastic_gradient.py:574: ConvergenceWarning: Maximum number of iteration reached before convergence. Consider increasing max_iter to improve the fit.\n",
      "  warnings.warn(\"Maximum number of iteration reached before \"\n",
      "/usr/local/lib/python3.8/dist-packages/sklearn/linear_model/_stochastic_gradient.py:574: ConvergenceWarning: Maximum number of iteration reached before convergence. Consider increasing max_iter to improve the fit.\n",
      "  warnings.warn(\"Maximum number of iteration reached before \"\n",
      "/usr/local/lib/python3.8/dist-packages/sklearn/linear_model/_stochastic_gradient.py:574: ConvergenceWarning: Maximum number of iteration reached before convergence. Consider increasing max_iter to improve the fit.\n",
      "  warnings.warn(\"Maximum number of iteration reached before \"\n",
      "/usr/local/lib/python3.8/dist-packages/sklearn/linear_model/_stochastic_gradient.py:574: ConvergenceWarning: Maximum number of iteration reached before convergence. Consider increasing max_iter to improve the fit.\n",
      "  warnings.warn(\"Maximum number of iteration reached before \"\n",
      "/usr/local/lib/python3.8/dist-packages/sklearn/linear_model/_stochastic_gradient.py:574: ConvergenceWarning: Maximum number of iteration reached before convergence. Consider increasing max_iter to improve the fit.\n",
      "  warnings.warn(\"Maximum number of iteration reached before \"\n",
      "/usr/local/lib/python3.8/dist-packages/sklearn/linear_model/_stochastic_gradient.py:574: ConvergenceWarning: Maximum number of iteration reached before convergence. Consider increasing max_iter to improve the fit.\n",
      "  warnings.warn(\"Maximum number of iteration reached before \"\n",
      "/usr/local/lib/python3.8/dist-packages/sklearn/linear_model/_stochastic_gradient.py:574: ConvergenceWarning: Maximum number of iteration reached before convergence. Consider increasing max_iter to improve the fit.\n",
      "  warnings.warn(\"Maximum number of iteration reached before \"\n",
      "/usr/local/lib/python3.8/dist-packages/sklearn/linear_model/_stochastic_gradient.py:574: ConvergenceWarning: Maximum number of iteration reached before convergence. Consider increasing max_iter to improve the fit.\n",
      "  warnings.warn(\"Maximum number of iteration reached before \"\n",
      "/usr/local/lib/python3.8/dist-packages/sklearn/linear_model/_stochastic_gradient.py:574: ConvergenceWarning: Maximum number of iteration reached before convergence. Consider increasing max_iter to improve the fit.\n",
      "  warnings.warn(\"Maximum number of iteration reached before \"\n",
      "/usr/local/lib/python3.8/dist-packages/sklearn/linear_model/_stochastic_gradient.py:574: ConvergenceWarning: Maximum number of iteration reached before convergence. Consider increasing max_iter to improve the fit.\n",
      "  warnings.warn(\"Maximum number of iteration reached before \"\n",
      "/usr/local/lib/python3.8/dist-packages/sklearn/linear_model/_stochastic_gradient.py:574: ConvergenceWarning: Maximum number of iteration reached before convergence. Consider increasing max_iter to improve the fit.\n",
      "  warnings.warn(\"Maximum number of iteration reached before \"\n",
      "/usr/local/lib/python3.8/dist-packages/sklearn/linear_model/_stochastic_gradient.py:574: ConvergenceWarning: Maximum number of iteration reached before convergence. Consider increasing max_iter to improve the fit.\n",
      "  warnings.warn(\"Maximum number of iteration reached before \"\n",
      "/usr/local/lib/python3.8/dist-packages/sklearn/linear_model/_stochastic_gradient.py:574: ConvergenceWarning: Maximum number of iteration reached before convergence. Consider increasing max_iter to improve the fit.\n",
      "  warnings.warn(\"Maximum number of iteration reached before \"\n",
      "/usr/local/lib/python3.8/dist-packages/sklearn/linear_model/_stochastic_gradient.py:574: ConvergenceWarning: Maximum number of iteration reached before convergence. Consider increasing max_iter to improve the fit.\n",
      "  warnings.warn(\"Maximum number of iteration reached before \"\n",
      "/usr/local/lib/python3.8/dist-packages/sklearn/linear_model/_stochastic_gradient.py:574: ConvergenceWarning: Maximum number of iteration reached before convergence. Consider increasing max_iter to improve the fit.\n",
      "  warnings.warn(\"Maximum number of iteration reached before \"\n",
      "/usr/local/lib/python3.8/dist-packages/sklearn/linear_model/_stochastic_gradient.py:574: ConvergenceWarning: Maximum number of iteration reached before convergence. Consider increasing max_iter to improve the fit.\n",
      "  warnings.warn(\"Maximum number of iteration reached before \"\n",
      "/usr/local/lib/python3.8/dist-packages/sklearn/linear_model/_stochastic_gradient.py:574: ConvergenceWarning: Maximum number of iteration reached before convergence. Consider increasing max_iter to improve the fit.\n",
      "  warnings.warn(\"Maximum number of iteration reached before \"\n",
      "/usr/local/lib/python3.8/dist-packages/sklearn/linear_model/_stochastic_gradient.py:574: ConvergenceWarning: Maximum number of iteration reached before convergence. Consider increasing max_iter to improve the fit.\n",
      "  warnings.warn(\"Maximum number of iteration reached before \"\n",
      "/usr/local/lib/python3.8/dist-packages/sklearn/linear_model/_stochastic_gradient.py:574: ConvergenceWarning: Maximum number of iteration reached before convergence. Consider increasing max_iter to improve the fit.\n",
      "  warnings.warn(\"Maximum number of iteration reached before \"\n",
      "/usr/local/lib/python3.8/dist-packages/sklearn/linear_model/_stochastic_gradient.py:574: ConvergenceWarning: Maximum number of iteration reached before convergence. Consider increasing max_iter to improve the fit.\n",
      "  warnings.warn(\"Maximum number of iteration reached before \"\n",
      "/usr/local/lib/python3.8/dist-packages/sklearn/linear_model/_stochastic_gradient.py:574: ConvergenceWarning: Maximum number of iteration reached before convergence. Consider increasing max_iter to improve the fit.\n",
      "  warnings.warn(\"Maximum number of iteration reached before \"\n",
      "/usr/local/lib/python3.8/dist-packages/sklearn/linear_model/_stochastic_gradient.py:574: ConvergenceWarning: Maximum number of iteration reached before convergence. Consider increasing max_iter to improve the fit.\n",
      "  warnings.warn(\"Maximum number of iteration reached before \"\n"
     ]
    },
    {
     "name": "stderr",
     "output_type": "stream",
     "text": [
      "/usr/local/lib/python3.8/dist-packages/sklearn/linear_model/_stochastic_gradient.py:574: ConvergenceWarning: Maximum number of iteration reached before convergence. Consider increasing max_iter to improve the fit.\n",
      "  warnings.warn(\"Maximum number of iteration reached before \"\n",
      "/usr/local/lib/python3.8/dist-packages/sklearn/linear_model/_stochastic_gradient.py:574: ConvergenceWarning: Maximum number of iteration reached before convergence. Consider increasing max_iter to improve the fit.\n",
      "  warnings.warn(\"Maximum number of iteration reached before \"\n",
      "/usr/local/lib/python3.8/dist-packages/sklearn/linear_model/_stochastic_gradient.py:574: ConvergenceWarning: Maximum number of iteration reached before convergence. Consider increasing max_iter to improve the fit.\n",
      "  warnings.warn(\"Maximum number of iteration reached before \"\n",
      "/usr/local/lib/python3.8/dist-packages/sklearn/linear_model/_stochastic_gradient.py:574: ConvergenceWarning: Maximum number of iteration reached before convergence. Consider increasing max_iter to improve the fit.\n",
      "  warnings.warn(\"Maximum number of iteration reached before \"\n",
      "/usr/local/lib/python3.8/dist-packages/sklearn/linear_model/_stochastic_gradient.py:574: ConvergenceWarning: Maximum number of iteration reached before convergence. Consider increasing max_iter to improve the fit.\n",
      "  warnings.warn(\"Maximum number of iteration reached before \"\n",
      "/usr/local/lib/python3.8/dist-packages/sklearn/linear_model/_stochastic_gradient.py:574: ConvergenceWarning: Maximum number of iteration reached before convergence. Consider increasing max_iter to improve the fit.\n",
      "  warnings.warn(\"Maximum number of iteration reached before \"\n",
      "/usr/local/lib/python3.8/dist-packages/sklearn/linear_model/_stochastic_gradient.py:574: ConvergenceWarning: Maximum number of iteration reached before convergence. Consider increasing max_iter to improve the fit.\n",
      "  warnings.warn(\"Maximum number of iteration reached before \"\n",
      "/usr/local/lib/python3.8/dist-packages/sklearn/linear_model/_stochastic_gradient.py:574: ConvergenceWarning: Maximum number of iteration reached before convergence. Consider increasing max_iter to improve the fit.\n",
      "  warnings.warn(\"Maximum number of iteration reached before \"\n",
      "/usr/local/lib/python3.8/dist-packages/sklearn/linear_model/_stochastic_gradient.py:574: ConvergenceWarning: Maximum number of iteration reached before convergence. Consider increasing max_iter to improve the fit.\n",
      "  warnings.warn(\"Maximum number of iteration reached before \"\n",
      "/usr/local/lib/python3.8/dist-packages/sklearn/linear_model/_stochastic_gradient.py:574: ConvergenceWarning: Maximum number of iteration reached before convergence. Consider increasing max_iter to improve the fit.\n",
      "  warnings.warn(\"Maximum number of iteration reached before \"\n",
      "/usr/local/lib/python3.8/dist-packages/sklearn/linear_model/_stochastic_gradient.py:574: ConvergenceWarning: Maximum number of iteration reached before convergence. Consider increasing max_iter to improve the fit.\n",
      "  warnings.warn(\"Maximum number of iteration reached before \"\n",
      "/usr/local/lib/python3.8/dist-packages/sklearn/linear_model/_stochastic_gradient.py:574: ConvergenceWarning: Maximum number of iteration reached before convergence. Consider increasing max_iter to improve the fit.\n",
      "  warnings.warn(\"Maximum number of iteration reached before \"\n",
      "/usr/local/lib/python3.8/dist-packages/sklearn/linear_model/_stochastic_gradient.py:574: ConvergenceWarning: Maximum number of iteration reached before convergence. Consider increasing max_iter to improve the fit.\n",
      "  warnings.warn(\"Maximum number of iteration reached before \"\n",
      "/usr/local/lib/python3.8/dist-packages/sklearn/linear_model/_stochastic_gradient.py:574: ConvergenceWarning: Maximum number of iteration reached before convergence. Consider increasing max_iter to improve the fit.\n",
      "  warnings.warn(\"Maximum number of iteration reached before \"\n",
      "/usr/local/lib/python3.8/dist-packages/sklearn/linear_model/_stochastic_gradient.py:574: ConvergenceWarning: Maximum number of iteration reached before convergence. Consider increasing max_iter to improve the fit.\n",
      "  warnings.warn(\"Maximum number of iteration reached before \"\n",
      "/usr/local/lib/python3.8/dist-packages/sklearn/linear_model/_stochastic_gradient.py:574: ConvergenceWarning: Maximum number of iteration reached before convergence. Consider increasing max_iter to improve the fit.\n",
      "  warnings.warn(\"Maximum number of iteration reached before \"\n",
      "/usr/local/lib/python3.8/dist-packages/sklearn/linear_model/_stochastic_gradient.py:574: ConvergenceWarning: Maximum number of iteration reached before convergence. Consider increasing max_iter to improve the fit.\n",
      "  warnings.warn(\"Maximum number of iteration reached before \"\n",
      "/usr/local/lib/python3.8/dist-packages/sklearn/linear_model/_stochastic_gradient.py:574: ConvergenceWarning: Maximum number of iteration reached before convergence. Consider increasing max_iter to improve the fit.\n",
      "  warnings.warn(\"Maximum number of iteration reached before \"\n",
      "/usr/local/lib/python3.8/dist-packages/sklearn/linear_model/_stochastic_gradient.py:574: ConvergenceWarning: Maximum number of iteration reached before convergence. Consider increasing max_iter to improve the fit.\n",
      "  warnings.warn(\"Maximum number of iteration reached before \"\n",
      "/usr/local/lib/python3.8/dist-packages/sklearn/linear_model/_stochastic_gradient.py:574: ConvergenceWarning: Maximum number of iteration reached before convergence. Consider increasing max_iter to improve the fit.\n",
      "  warnings.warn(\"Maximum number of iteration reached before \"\n",
      "/usr/local/lib/python3.8/dist-packages/sklearn/linear_model/_stochastic_gradient.py:574: ConvergenceWarning: Maximum number of iteration reached before convergence. Consider increasing max_iter to improve the fit.\n",
      "  warnings.warn(\"Maximum number of iteration reached before \"\n",
      "/usr/local/lib/python3.8/dist-packages/sklearn/linear_model/_stochastic_gradient.py:574: ConvergenceWarning: Maximum number of iteration reached before convergence. Consider increasing max_iter to improve the fit.\n",
      "  warnings.warn(\"Maximum number of iteration reached before \"\n",
      "/usr/local/lib/python3.8/dist-packages/sklearn/linear_model/_stochastic_gradient.py:574: ConvergenceWarning: Maximum number of iteration reached before convergence. Consider increasing max_iter to improve the fit.\n",
      "  warnings.warn(\"Maximum number of iteration reached before \"\n",
      "/usr/local/lib/python3.8/dist-packages/sklearn/linear_model/_stochastic_gradient.py:574: ConvergenceWarning: Maximum number of iteration reached before convergence. Consider increasing max_iter to improve the fit.\n",
      "  warnings.warn(\"Maximum number of iteration reached before \"\n",
      "/usr/local/lib/python3.8/dist-packages/sklearn/linear_model/_stochastic_gradient.py:574: ConvergenceWarning: Maximum number of iteration reached before convergence. Consider increasing max_iter to improve the fit.\n",
      "  warnings.warn(\"Maximum number of iteration reached before \"\n",
      "/usr/local/lib/python3.8/dist-packages/sklearn/linear_model/_stochastic_gradient.py:574: ConvergenceWarning: Maximum number of iteration reached before convergence. Consider increasing max_iter to improve the fit.\n",
      "  warnings.warn(\"Maximum number of iteration reached before \"\n",
      "/usr/local/lib/python3.8/dist-packages/sklearn/linear_model/_stochastic_gradient.py:574: ConvergenceWarning: Maximum number of iteration reached before convergence. Consider increasing max_iter to improve the fit.\n",
      "  warnings.warn(\"Maximum number of iteration reached before \"\n",
      "/usr/local/lib/python3.8/dist-packages/sklearn/linear_model/_stochastic_gradient.py:574: ConvergenceWarning: Maximum number of iteration reached before convergence. Consider increasing max_iter to improve the fit.\n",
      "  warnings.warn(\"Maximum number of iteration reached before \"\n",
      "/usr/local/lib/python3.8/dist-packages/sklearn/linear_model/_stochastic_gradient.py:574: ConvergenceWarning: Maximum number of iteration reached before convergence. Consider increasing max_iter to improve the fit.\n",
      "  warnings.warn(\"Maximum number of iteration reached before \"\n",
      "/usr/local/lib/python3.8/dist-packages/sklearn/linear_model/_stochastic_gradient.py:574: ConvergenceWarning: Maximum number of iteration reached before convergence. Consider increasing max_iter to improve the fit.\n",
      "  warnings.warn(\"Maximum number of iteration reached before \"\n",
      "/usr/local/lib/python3.8/dist-packages/sklearn/linear_model/_stochastic_gradient.py:574: ConvergenceWarning: Maximum number of iteration reached before convergence. Consider increasing max_iter to improve the fit.\n",
      "  warnings.warn(\"Maximum number of iteration reached before \"\n"
     ]
    },
    {
     "name": "stderr",
     "output_type": "stream",
     "text": [
      "/usr/local/lib/python3.8/dist-packages/sklearn/linear_model/_stochastic_gradient.py:574: ConvergenceWarning: Maximum number of iteration reached before convergence. Consider increasing max_iter to improve the fit.\n",
      "  warnings.warn(\"Maximum number of iteration reached before \"\n",
      "/usr/local/lib/python3.8/dist-packages/sklearn/linear_model/_stochastic_gradient.py:574: ConvergenceWarning: Maximum number of iteration reached before convergence. Consider increasing max_iter to improve the fit.\n",
      "  warnings.warn(\"Maximum number of iteration reached before \"\n",
      "/usr/local/lib/python3.8/dist-packages/sklearn/linear_model/_stochastic_gradient.py:574: ConvergenceWarning: Maximum number of iteration reached before convergence. Consider increasing max_iter to improve the fit.\n",
      "  warnings.warn(\"Maximum number of iteration reached before \"\n",
      "/usr/local/lib/python3.8/dist-packages/sklearn/linear_model/_stochastic_gradient.py:574: ConvergenceWarning: Maximum number of iteration reached before convergence. Consider increasing max_iter to improve the fit.\n",
      "  warnings.warn(\"Maximum number of iteration reached before \"\n",
      "/usr/local/lib/python3.8/dist-packages/sklearn/linear_model/_stochastic_gradient.py:574: ConvergenceWarning: Maximum number of iteration reached before convergence. Consider increasing max_iter to improve the fit.\n",
      "  warnings.warn(\"Maximum number of iteration reached before \"\n",
      "/usr/local/lib/python3.8/dist-packages/sklearn/linear_model/_stochastic_gradient.py:574: ConvergenceWarning: Maximum number of iteration reached before convergence. Consider increasing max_iter to improve the fit.\n",
      "  warnings.warn(\"Maximum number of iteration reached before \"\n"
     ]
    },
    {
     "name": "stdout",
     "output_type": "stream",
     "text": [
      "[0.7533417716432604, 0.8108814015630964, 0.809200972414763, 0.8012376187893034, 0.7853643541679224, 0.7924617764651518, 0.781979386414321, 0.7921768830490427, 0.8174190826351637, 0.8043666244751169, 0.8029453719888293, 0.8222353484821088, 0.7887738332027405, 0.8151367207120327, 0.80778775641412, 0.7995362947782935, 0.8140075944789343, 0.8245072629739015, 0.816840455668736, 0.8103071946637735, 0.8054881160468528, 0.8145717557712013, 0.8140116127217567, 0.817404616961003, 0.8230960560946696, 0.8128708335844734, 0.8185478070439796, 0.8210881401563096, 0.806925039680148, 0.810882205211661, 0.8043762682578908, 0.8244940027725877, 0.8176862957828541, 0.8074831736081812, 0.8315841922327365, 0.8349844293090631, 0.8191183975247626, 0.8111646876820766, 0.8247692524059229, 0.8338448556446266, 0.8332855162437467, 0.8245060575010548, 0.8261953267835975, 0.7981343298575533, 0.8233496072167641, 0.8097583026942317, 0.8239250195889338, 0.807188234585016, 0.8216559178671167, 0.8128680208144978, 0.8151612319932495, 0.823079581299098, 0.8165515440098045, 0.8287493219215237, 0.8015209049082836, 0.8315765575713738, 0.8290406445261487, 0.8242155385449943, 0.8434902457155486, 0.8307383521186186, 0.8259156570831575, 0.8157109276113556, 0.8276197938641433, 0.8366865569686375, 0.8332915436079802, 0.8233701002551583, 0.8324340505896771, 0.8216659634741728, 0.8389548550418902, 0.8310216382375988, 0.8301681634621181, 0.8281807405621521, 0.8321471480521566, 0.8179731983203744, 0.8188395314728869, 0.8210961766419546, 0.8324388724810639, 0.847745966688767, 0.8174122516223654, 0.8281843569806924, 0.8327165330600927, 0.8256219235328391, 0.8270632672332388, 0.8128535551403371, 0.8264782110782954, 0.8420746187692123, 0.8080593896289153, 0.8329970064090972, 0.8423595121853215, 0.8329990155305085, 0.8301677616378358, 0.8366897715628955, 0.8420750205934944, 0.8395218291041328, 0.8043742591364795, 0.8307347357000783, 0.8372551383280091, 0.8304438149197356, 0.842640387358608, 0.8298864846402669, 0.8352781628593815, 0.8301605288007554, 0.8364028690253752, 0.8344190625439495, 0.8191248267132781, 0.8261941213107509, 0.8381041930363852, 0.8315898177726879, 0.8344170534225384, 0.8245076647981838, 0.821376649990959, 0.8310244510075744, 0.8205275952825829, 0.8295959656842063, 0.8109031000743375, 0.8281799369135878, 0.8454804813854903, 0.8378253269845096, 0.8364012617282462, 0.8361131537178791, 0.8395258473469551, 0.806360878387881, 0.833283105298053, 0.8219371948646857, 0.8321459425793101, 0.8415084483555342, 0.8253663632893335, 0.836119582906395, 0.8281763204950476, 0.8250593695377011, 0.8304518514053804, 0.8171261527334097, 0.8315862013541478, 0.8208116850501275, 0.8287517328672172, 0.8239418962087879, 0.8409442870632672, 0.8341353746006872, 0.8440612380206136, 0.821385088300886, 0.830173387177787, 0.8168500994515098, 0.8256440238683623, 0.8227874550459082, 0.8278986599160187, 0.8332887308380045, 0.8159801498804573, 0.8344242862596187, 0.8386703634500634, 0.8287420890844434, 0.8185397705583348, 0.8341341691278403, 0.8321511662949792, 0.8415108593012276, 0.8310136017519539, 0.840661000944287, 0.8355505997227413, 0.8347095815000101, 0.8347035541357763, 0.8344218753139252, 0.8287485182729591, 0.819382396078195, 0.8378197014445583, 0.8364080927410443, 0.8080425130090612, 0.8250521367006207, 0.823638920699978, 0.8386711670986277, 0.8378217105659693, 0.8202402909207802, 0.8247720651758985, 0.8307347357000783, 0.843494263958371, 0.8307399594157475, 0.834702750487212, 0.8338577140216584, 0.8327084965744481, 0.8250565567677255, 0.801226769533683, 0.8335647841199044, 0.8193888252667108, 0.8253406465352702, 0.8307331284029494, 0.840661000944287, 0.8256279508970726, 0.8213786591123702, 0.8307415667128764, 0.8290382335804554, 0.8335684005384445, 0.8179719928475278, 0.8398139553573222, 0.8417997709601591, 0.8330158921503628, 0.813442629538103, 0.8338553030759648, 0.8491623972836677, 0.8279022763345589, 0.8202535511220942, 0.804070078154823, 0.8242103148293252, 0.8236373134028488, 0.8369802905189561, 0.8205312117011232, 0.8412255640608362, 0.8454780704397967, 0.8216567215156811, 0.8304446185683002, 0.8366849496715087, 0.8383874791553654, 0.8352709300223011, 0.8157089184899444, 0.8208144978201032, 0.8313105498965303, 0.8412263677094007, 0.8409394651718805, 0.8137259156570831, 0.8372571474494205, 0.8375364153255781, 0.8321543808892372, 0.8332895344865691, 0.8389572659875837, 0.8253446647780927, 0.8406605991200047, 0.8281871697506681, 0.8352681172523255, 0.8395186145098747, 0.8287432945572901, 0.84037289293392, 0.8284756795853173, 0.8250698169690395, 0.8307359411729252, 0.8341309545335825, 0.7995290619412131, 0.8386796054085549, 0.8392373375123059, 0.826200952323549, 0.8015393888252668, 0.8216535069214232, 0.8335712133084201, 0.8330034355976131, 0.8219480441203062, 0.8344206698410785, 0.8395290619412131, 0.8372543346794445, 0.8140087999517812, 0.8312976915194985, 0.8381058003335141, 0.8381106222249011, 0.8406561790529, 0.8415088501798162, 0.8386675506800876, 0.8409462961846785, 0.8290474755389468, 0.8383846663853897, 0.8349940730918369, 0.8378180941474295, 0.8321471480521568, 0.8284620175597212, 0.8154220159524239, 0.8315874068269945, 0.8366849496715085, 0.8415028228155826, 0.8307250919173045, 0.8256359873827176, 0.8395282582926485, 0.8366837441986619, 0.8327289896128421, 0.8327209531271975, 0.8117324653928838, 0.8287420890844434, 0.8395186145098747, 0.8335663914170333, 0.8315849958813011, 0.8250641914290882, 0.8310107889819781, 0.8332851144194644, 0.839519016334157, 0.8369698430876179, 0.8151298896992344, 0.8355461796556366, 0.8312997006409096, 0.8406561790529002, 0.823922206818958, 0.8324284250497257, 0.8310148072248005, 0.82619934502642, 0.8386739798686035, 0.8219476422960239, 0.8171273582062565, 0.8415112611255099, 0.8304486368111226, 0.8307331284029494, 0.8247752797701565, 0.8329982118819441, 0.8426444056014304, 0.8321459425793101, 0.8171285636791031, 0.8216591324613745, 0.8423635304281436, 0.8403736965824844, 0.8310119944548248, 0.831011994454825, 0.8310168163462117, 0.8423583067124747, 0.8267759628714362, 0.8358358949631326, 0.8434922548369599, 0.8296064131155447, 0.8372511200851868, 0.8278986599160187, 0.8344158479496915, 0.8262073815120647, 0.8242095111807606, 0.8293142868623551, 0.825922889920238, 0.82365901191409, 0.8409402688204448, 0.8287525365157817, 0.8176879030799832, 0.8264814256725534, 0.8168364374259136, 0.8278942398489141, 0.8270459887891025, 0.8378285415787676, 0.8188339059329355, 0.8270427741948445, 0.8383890864524943, 0.8327161312358105, 0.807211540393386, 0.8403757057038955, 0.8372579510979848, 0.8420750205934944, 0.8301649488678601, 0.8290358226347617, 0.8284612139111566, 0.8179727964960923, 0.8412231531151427, 0.8372543346794445, 0.8261945231350329, 0.8381102204006188, 0.8267659172643803, 0.8335684005384445, 0.8352761537379703, 0.8344186607196674, 0.8347043577843409, 0.8349924657947081, 0.8338544994274004, 0.8338528921302715, 0.8338597231430696, 0.8403789202981538, 0.8423611194824503, 0.8154284451409397, 0.8315833885841721, 0.8313081389508368, 0.8298832700460089, 0.8378213087416873, 0.8296019930484398, 0.8312980933437807, 0.8298756353846463, 0.8270419705462801, 0.842071002350672, 0.8091969541719406, 0.8386755871657323, 0.8256379965041288, 0.8398087316416533, 0.8264790147268599, 0.8332955618508026, 0.8148490145259478, 0.8284644285054146, 0.8366877624414844, 0.8290446627689712, 0.8143025335020996, 0.8412259658851184, 0.8364056817953509, 0.8378257288087919, 0.8383890864524943, 0.8449094890804251, 0.8415072428826875, 0.8352757519136882, 0.8261941213107509, 0.8233516163381752, 0.8293146886866374, 0.8185526289353666, 0.8347047596086232, 0.8267610953729934, 0.8466104112671529, 0.8349888493761677, 0.8174182789865991, 0.8324360597110884, 0.8063512346051074, 0.8398059188716773, 0.8400968396520202, 0.8341365800735339, 0.8213766499909589, 0.8341349727764049, 0.8332883290137223, 0.8069250396801477, 0.8381094167520544, 0.8355550197898459, 0.8423591103610392, 0.8287545456371929, 0.8273236493681313, 0.8440596307234844, 0.8168296064131155, 0.8310328893175015, 0.836973459506158, 0.8372535310308802, 0.8156972655857594, 0.8143041407992285, 0.8301653506921423, 0.8313029152351676, 0.8335768388483714, 0.8228003134229402, 0.8412227512908604, 0.8321479517007212, 0.8261905048922106, 0.8273433387579612, 0.833850481184578, 0.8417881180559743, 0.8298836718702912, 0.8279038836316879, 0.8378209069174052, 0.8409434834147028, 0.8335752315512426, 0.7972712112992989, 0.8426460128985596, 0.8193819942539127, 0.8361248066220643, 0.8389608824061238, 0.8182737628834911, 0.8378205050931229, 0.8366857533200731, 0.816838848371607, 0.8315878086512768, 0.8298824663974443, 0.838674783517168, 0.842929700841822, 0.8386751853414502, 0.8327153275872462, 0.8355554216141282, 0.8426440037771481, 0.8386771944628613, 0.8330054447190245, 0.8256464348140558, 0.8378245233359453, 0.8267606935487111, 0.8244940027725874, 0.8324372651839351, 0.836406083619633, 0.8267639081429692, 0.8403809294195648, 0.8318682820002813, 0.8355546179655636, 0.8352701263737368, 0.8321507644706969, 0.830447833162558, 0.8301601269764731, 0.8230675265706306, 0.8386771944628615, 0.8372635766379363, 0.818534948666948, 0.8276218029855544, 0.8341357764249693, 0.8177051815241196, 0.8372599602193962, 0.8332931509051091, 0.8267586844272999, 0.8364020653768108, 0.8381086131034898, 0.8122845719566832, 0.8386759889900146, 0.8239342615474253, 0.8225122054125731, 0.8295979748056176, 0.8233652783637714, 0.827611355554216, 0.8327185421815042, 0.8307339320515139, 0.8017981636630301, 0.8347047596086231, 0.844915918268941, 0.8369678339662066, 0.8341377855463806, 0.821656319691399, 0.8256259417756615, 0.8344283045024412, 0.8429292990175398, 0.8208161051172322, 0.8468989211018021, 0.8347051614329054, 0.8406533662829245, 0.8437799610230445, 0.8409438852389849, 0.832715327587246, 0.8324284250497257, 0.8199638358145982, 0.8369738613304403, 0.8372551383280091, 0.8437755409559399, 0.8193831997267595, 0.8381094167520542, 0.8278990617403009, 0.8304474313382759, 0.8327141221143993, 0.8324408816024753, 0.8281779277921764, 0.8386751853414502, 0.8293142868623551, 0.8352653044823499, 0.827338115042292, 0.8188218512044682, 0.8097518735057159, 0.8366877624414842, 0.8347079742028811, 0.8267562734816064, 0.834709179675728, 0.8026685150583649, 0.8211074277218572, 0.8168408574930183, 0.8287589657042975, 0.8208237397785949, 0.8233540272838689, 0.8420738151206478, 0.8318650674060233, 0.8318735057159504, 0.8358383059088261, 0.8330034355976131, 0.839239346633717, 0.8315870050027122, 0.8381074076306432, 0.8355630562754908, 0.8284592047897454, 0.8446290157314206, 0.8372655857593475, 0.8247752797701565, 0.8304574769453318, 0.8369726558575936, 0.8137263174813653, 0.8386703634500632, 0.8276157756213209, 0.8318747111887973, 0.8454756594941031, 0.8355518051955879, 0.8140011652904185, 0.8335663914170333, 0.8389624897032528, 0.8312964860466519, 0.836114359190726, 0.8321519699435436, 0.8259228899202379, 0.8392469812950797, 0.817404616961003, 0.8392353283908947, 0.8026556566813332, 0.8148437908102787, 0.8284640266811323, 0.8364032708496574, 0.8205187551483736, 0.8290297952705282, 0.8276117573784983, 0.836117975609266, 0.8366841460229442, 0.8434954694312177, 0.8227991079500935, 0.838107005806361, 0.8347071705543165, 0.8361163683121371, 0.8352681172523255, 0.839803507925984, 0.8403761075281778, 0.8279026781588412, 0.8296064131155445, 0.8349880457276033, 0.8298872882888313, 0.819678540574207, 0.8298848773431379, 0.840094830530609, 0.8261957286078797, 0.8273292749080827, 0.8327205513029152, 0.8381102204006188, 0.8293235288208466, 0.8364129146324313, 0.8381062021577964, 0.8122982339822796, 0.8205396500110502, 0.8364068872681976, 0.8321519699435436, 0.8202330580837, 0.8423647359009905, 0.8281863661021035, 0.8281871697506679, 0.826201354147831, 0.8162674542422599, 0.8389616860546883, 0.8236361079300023, 0.8378184959717115, 0.8281767223193297, 0.8437775500773512, 0.8406569827014646, 0.8392413557551283, 0.8281779277921764, 0.8364048781467865, 0.8145938561067245, 0.8106113756454303, 0.8355477869527655, 0.8216583288128103, 0.833569204187009, 0.8321451389307455, 0.832721756775762, 0.8352717336708657, 0.8318727020673858, 0.8310180218190585, 0.8406573845257469, 0.8222357503063911, 0.844058425250638, 0.8137359612641392, 0.8298880919373957, 0.813152914230607, 0.8386788017599903, 0.8066461736282724, 0.8352757519136882, 0.8358371004359795, 0.8366861551443554, 0.823945512627328, 0.8315821831113255, 0.828177124143612, 0.831869487473128, 0.8383874791553655, 0.8307415667128766, 0.8366877624414842, 0.8381102204006187, 0.8142848532336808, 0.8313033170594499, 0.8142860587065277, 0.8222192755108191, 0.823361260120949, 0.8321471480521568, 0.8324408816024752, 0.8415092520040985, 0.8389612842304061, 0.834702750487212, 0.8310164145219296, 0.8378225142145339, 0.824506459325337, 0.8307323247543849, 0.829600385751311, 0.820243103690756, 0.8219440258774838, 0.8182472424808631, 0.843212986960802, 0.8355562252626927, 0.8321507644706969, 0.8395202218070038, 0.8349844293090631, 0.8395250436983908, 0.8165728406967633, 0.8264782110782954, 0.8298888955859602, 0.8310236473590098, 0.8151318988206457, 0.8313005042894742, 0.8361199847306772, 0.8383890864524943, 0.829894922950194, 0.8301713780563759, 0.819385610672453, 0.8449114982018363, 0.8315886122998413, 0.8443453277881583, 0.8290382335804554, 0.8389576678118658, 0.83242561227975, 0.8227910714644485, 0.8324388724810639, 0.8293114740923795, 0.8344254917324655, 0.8344166515982561, 0.8247788961886966, 0.8230795812990979, 0.8369706467361823, 0.827619392039861, 0.8242131275993009, 0.8420782351877524, 0.8381049966849495, 0.8216523014485766, 0.8381086131034898, 0.8409466980089608, 0.8287545456371929, 0.8378221123902516, 0.8375356116770136, 0.8253366282924477, 0.8338544994274004, 0.8267683282100737, 0.8355542161412813, 0.8259108351917707, 0.8366953971028469, 0.8423619231310149, 0.8290334116890683, 0.8358427259759307, 0.8361227975006529, 0.836117975609266, 0.8330006228276374, 0.8315793703413498, 0.8264741928354731, 0.8310196291161874, 0.8338565085488115, 0.8352785646836638, 0.8349832238362165, 0.8355510015470236, 0.8318674783517169, 0.8295975729813353, 0.8290233660820123, 0.8273344986237519, 0.8358322785445924, 0.8236373134028488, 0.8174070279066964, 0.8199678540574208, 0.8372507182609045, 0.8378237196873807, 0.8366974062242581, 0.8332891326622868, 0.8398071243445241, 0.8054893215196994, 0.8199513792618488, 0.8261985413778555, 0.8239326542502964, 0.8284680449239546, 0.8389616860546883, 0.8352689209008901, 0.8392345247423302, 0.8227926787615776, 0.8293166978080485, 0.844349747855263, 0.8361175737849837, 0.8347071705543166, 0.8202467201092961, 0.8332843107708999, 0.8298864846402669, 0.8222176682136901, 0.8307331284029494, 0.8199698631788319, 0.8281779277921766, 0.8349824201876521, 0.8332818998252065, 0.841513270246921, 0.8168336246559379, 0.8335671950655978, 0.8400871958692463, 0.8219404094589435, 0.8182548771422257, 0.8182564844393546, 0.8344258935567478, 0.8446290157314207, 0.8185417796797461, 0.8301585196793443, 0.8338585176702228, 0.8284740722881884, 0.826485845739658, 0.8290314025676573, 0.8213726317481365, 0.8185554417053422, 0.8398071243445242, 0.8301721817049404, 0.8355485906013301, 0.8378217105659695, 0.8363984489582705, 0.838102183914974, 0.8352701263737368, 0.8310136017519539, 0.8315918268940992, 0.8372579510979848, 0.8372543346794448, 0.8157073111928155, 0.8400888031663752, 0.8245004319611035, 0.829890101058807, 0.8426395837100437, 0.8307391557671829, 0.8324412834267575, 0.8318706929459747, 0.8270419705462799, 0.8278978562674542, 0.8259140497860284, 0.835550197898459, 0.8381070058063609, 0.8417949490687722, 0.797835774415848, 0.8361256102706287, 0.8094774275209449, 0.8400912141120689, 0.8358366986116972, 0.8327117111687059, 0.8191296486046651, 0.8293179032808953, 0.8298812609245976, 0.8154171940610372, 0.8321543808892372, 0.8188335041086534, 0.8222257046993351, 0.8250549494705964, 0.8366889679143311, 0.8347051614329054, 0.8315801739899141, 0.8358366986116972, 0.8409398669961625, 0.8315874068269945, 0.8344222771382075, 0.8244903863540474, 0.8250593695377011, 0.8315890141241236, 0.8083422739236132, 0.8392397484579993, 0.8171257509091273, 0.8349852329576276, 0.8279115182930505, 0.8386703634500634, 0.837532798907038, 0.8338569103730938, 0.8276197938641431, 0.8284748759367527, 0.8372563438008559, 0.8125714744942035, 0.8202354690293934, 0.822513812709702, 0.828474875936753, 0.8344270990295943, 0.8420742169449301, 0.8369654230205132, 0.8361207883792418, 0.8352645008337853, 0.8250750406847086, 0.7947312800112512, 0.8400936250577622, 0.8335744279026782, 0.8262113997548873, 0.8415092520040985, 0.8344206698410785, 0.8230779740019688, 0.8267594880758644, 0.8307423703614409, 0.8225198400739357, 0.8406589918228757, 0.8330010246519197, 0.8395262491712373, 0.8247716633516162, 0.8244944045968697, 0.8253555140337131, 0.8213698189781609, 0.8307355393486429, 0.8253531030880195, 0.8278998653888655, 0.8449119000261185, 0.8199670504088562, 0.838954453217608, 0.8358358949631326, 0.8443441223153115, 0.8264790147268599, 0.838680007232837, 0.8409418761175738, 0.8208020412673539, 0.8349896530247323, 0.8335728206055493, 0.8364032708496575, 0.8321495589978503, 0.8310204327647519, 0.8338536957788361, 0.8426407891828903, 0.834133767303558, 0.8313045225322966, 0.8358358949631326, 0.8199537902075422, 0.8367002189942339, 0.8242143330721475, 0.8327165330600929, 0.8293130813895082, 0.8378337652944368, 0.8202374781508046, 0.8154348743294555, 0.8239205995218291, 0.8194016836437426, 0.8287449018544191, 0.8307367448214895, 0.842079440660599, 0.8315837904084544, 0.8307331284029494, 0.8429272898961285, 0.8298860828159846, 0.8415060374098406, 0.8298880919373957, 0.8358338858417215, 0.8406585899985937, 0.8284616157354389, 0.8310140035762362, 0.8301637433950134, 0.8398075261688064, 0.8386731762200389, 0.8154228196009885, 0.8210857292106162, 0.8332835071223353, 0.8281940007634662, 0.8358391095573905, 0.8429228698290239, 0.8205304080525586, 0.8193968617523557, 0.8420750205934946, 0.8199562011532355, 0.8273272657866715, 0.815993008257489, 0.8415100556526631, 0.8310127981033893, 0.8437731300102465, 0.8304466276897113, 0.8369730576818757, 0.8270395596005866, 0.8239326542502962, 0.8256311654913306, 0.8352685190766078, 0.8264894621581982, 0.8239218049946757, 0.8273316858537761, 0.820534426295381, 0.8213834810037571, 0.8315845940570188, 0.8449119000261186, 0.8063427962951801, 0.8211046149518815, 0.8415080465312517, 0.83839189922247, 0.8307262973901512, 0.8244976191911277, 0.8338508830088601, 0.8338508830088603, 0.825906415124666, 0.834701143190083, 0.8321487553492858, 0.818824663974444, 0.8301689671106824, 0.8347047596086231, 0.8358375022602615, 0.8182645209249996, 0.8233620637695136, 0.8120266007674845, 0.8440616398448958, 0.8330022301247665, 0.8378180941474292, 0.8318658710545878, 0.8270367468306109, 0.8210797018463826, 0.8358346894902858, 0.8364060836196332, 0.8330050428947422, 0.835836698611697, 0.8375352098527313, 0.8446294175557029, 0.8372535310308802, 0.8318666747031523, 0.8338480702388844, 0.8315874068269945, 0.8162839290378316, 0.8386739798686035, 0.8372635766379363, 0.837819299620276, 0.8341389910192273, 0.8290330098647862, 0.8307363429972072, 0.8346991340686717, 0.8247764852430033, 0.8267598899001467, 0.8239298414803207, 0.8202427018664737, 0.8267590862515822, 0.837258352922267, 0.8222273119964638, 0.8227966970044001, 0.8389612842304061, 0.8347047596086231, 0.8395226327526972, 0.8361207883792418, 0.8284728668153416, 0.8284588029654634, 0.8358419223273664, 0.8423635304281438, 0.8364056817953509, 0.825631969139895, 0.8276262230526591, 0.8332863198923111, 0.8386783999357081, 0.8190958953649569, 0.830734333875796]\n"
     ]
    },
    {
     "data": {
      "text/plain": [
       "[<matplotlib.lines.Line2D at 0x7feb87220be0>]"
      ]
     },
     "execution_count": 165,
     "metadata": {},
     "output_type": "execute_result"
    },
    {
     "data": {
      "image/png": "[encoded data removed]",
      "text/plain": [
       "<Figure size 432x288 with 1 Axes>"
      ]
     },
     "metadata": {
      "needs_background": "light"
     },
     "output_type": "display_data"
    }
   ],
   "source": [
    "# Calcul du score de cross validationn en splitant notre train set en 5 jeux de données\n",
    "# et en testant k_neighbors=1 < 50, k++\n",
    "for k in range(10, 1000):\n",
    "    score = cross_val_score(SGDClassifier(max_iter = k), X_train, y_train, cv=5, scoring='accuracy').mean()\n",
    "    val_score_sdg.append(score)\n",
    "    k = k + 50\n",
    "\n",
    "print(val_score_sdg)\n",
    "#Affichage du tableau de valeur des score\n",
    "plt.plot(val_score_sdg)"
   ]
  },
  {
   "cell_type": "markdown",
   "id": "careful-company",
   "metadata": {},
   "source": [
    "#### Cross-validation : K Voisins"
   ]
  },
  {
   "cell_type": "code",
   "execution_count": 166,
   "id": "resistant-giant",
   "metadata": {},
   "outputs": [
    {
     "name": "stdout",
     "output_type": "stream",
     "text": [
      "[0.9682446306230286, 0.9223165169871216, 0.9033222831655717, 0.8588053764088963, 0.8571044542221686, 0.8522797500652965, 0.8536973861330439, 0.8449094890804251, 0.8446258011371628, 0.84547686496695, 0.8454764631426677, 0.8451935788479699, 0.8426419946557371, 0.8457613565587769, 0.8420750205934944, 0.844060434372049, 0.8434930584855242, 0.844911096377554, 0.8454776686155144, 0.8434930584855242, 0.8446274084342917, 0.8440600325477667, 0.843492656661242, 0.8415076447069696, 0.8426419946557371, 0.8423583067124746, 0.8423591103610392, 0.8423591103610392, 0.8429260844232817, 0.8415080465312519, 0.8420750205934944, 0.8415080465312517, 0.8412243585879894, 0.8412243585879894, 0.8417917344745142, 0.8412243585879894, 0.8412243585879894, 0.8406577863500292, 0.8406573845257469, 0.8403740984067667, 0.8403740984067667, 0.8403740984067667, 0.8406577863500292, 0.8406577863500292, 0.8406577863500292, 0.8400908122877866, 0.8403740984067667, 0.8395238382255439, 0.8398071243445241]\n"
     ]
    },
    {
     "data": {
      "text/plain": [
       "[<matplotlib.lines.Line2D at 0x7feb8a51d5e0>]"
      ]
     },
     "execution_count": 166,
     "metadata": {},
     "output_type": "execute_result"
    },
    {
     "data": {
      "image/png": "[encoded data removed]",
      "text/plain": [
       "<Figure size 432x288 with 1 Axes>"
      ]
     },
     "metadata": {
      "needs_background": "light"
     },
     "output_type": "display_data"
    }
   ],
   "source": [
    "# Calcul du score de cross validationn en splitant notre train set en 5 jeux de données\n",
    "# et en testant k_neighbors=1 < 50, k++\n",
    "for k in range(1, 50):\n",
    "    score = cross_val_score(KNeighborsClassifier(k), X_train, y_train, cv=5, scoring='accuracy').mean()\n",
    "    val_score_kneighbors.append(score)\n",
    "\n",
    "print(val_score_kneighbors)\n",
    "#Affichage du tableau de valeur des score\n",
    "plt.plot(val_score_kneighbors)"
   ]
  },
  {
   "cell_type": "markdown",
   "id": "thick-seafood",
   "metadata": {},
   "source": [
    "#### RandomForestClassifier"
   ]
  },
  {
   "cell_type": "code",
   "execution_count": 169,
   "id": "solar-alabama",
   "metadata": {
    "scrolled": true
   },
   "outputs": [
    {
     "name": "stdout",
     "output_type": "stream",
     "text": [
      "[0.8880079561207884, 0.9084198260100859, 0.943011672995399, 0.9367757619592952, 0.9495292628533543, 0.939041247262572, 0.9591746529242762, 0.9447133988306915, 0.9583211781487956, 0.9489659052096517, 0.9637064271793945, 0.9540670644727062, 0.9588857412653446, 0.9560552910212363, 0.9642738030659193, 0.9591726438028649, 0.9642766158358949, 0.9614373254575774, 0.9634251501818255, 0.9622916038816225, 0.9659771361983405, 0.9651252687199887, 0.9656950555522069, 0.9673935667932414, 0.9659783416711871, 0.9634231410604143, 0.9654109657846621, 0.9628553633496072, 0.9642758121873305, 0.9645582946577462, 0.9662596186687562, 0.9671098788499789, 0.9540678681212708, 0.9622916038816225, 0.9588857412653446, 0.9600237076326522, 0.9588905631567316, 0.9600216985112411, 0.9594543226247161, 0.962007514114078, 0.9642774194844594, 0.9673967813874992, 0.9622936130030337, 0.9656942519036426, 0.9648419826010086, 0.9625736845277559, 0.9622891929359291, 0.966261225965885, 0.9625748900006027, 0.9645586964820284, 0.9642750085387661, 0.9656962610250537, 0.9617226206979688, 0.9622916038816225, 0.9620075141140779, 0.9676748437908103, 0.9614409418761175, 0.9659771361983405, 0.9651256705442709, 0.9656946537279248, 0.9665445120848652, 0.9699463564583206, 0.9639913205955036, 0.9645607056034396, 0.9682446306230285, 0.9668261909067164, 0.9659751270769291, 0.9688120065095533, 0.9654093584875334, 0.9662592168444737, 0.9659771361983405, 0.9665461193819942, 0.9662616277901673, 0.9688120065095533, 0.9662588150201916, 0.9702272316316074, 0.9679605408554839, 0.9685291222148553, 0.9668286018524099, 0.9693809896932072, 0.9673955759146524, 0.9685295240391376, 0.968528318566291, 0.96541056396038, 0.9665457175577119, 0.968245434271593, 0.9671122897956724, 0.9662612259658852, 0.9679613445040485, 0.9710795009342414, 0.9676760492636569, 0.9665441102605831, 0.9690948908042513, 0.9702300444015831, 0.967677656560786, 0.969094488979969, 0.9671126916199546, 0.9676788620336326, 0.9688120065095533, 0.9682446306230286, 0.9690952926285336, 0.9710799027585237, 0.9699447491611919, 0.9662612259658852, 0.9676788620336328, 0.9673943704418058, 0.969096096277098, 0.968811604685271, 0.968530327687702, 0.9716484841178954, 0.9685287203905733, 0.9690952926285336, 0.965693448255078, 0.9662600204930383, 0.9676780583850683, 0.9696614630422117, 0.9679601390312016, 0.9719285556426176, 0.9696638739879051, 0.9696626685150583, 0.9685287203905733, 0.9693793823960781]\n"
     ]
    },
    {
     "data": {
      "text/plain": [
       "[<matplotlib.lines.Line2D at 0x7feb8a173970>]"
      ]
     },
     "execution_count": 169,
     "metadata": {},
     "output_type": "execute_result"
    },
    {
     "data": {
      "image/png": "[encoded data removed]",
      "text/plain": [
       "<Figure size 432x288 with 1 Axes>"
      ]
     },
     "metadata": {
      "needs_background": "light"
     },
     "output_type": "display_data"
    }
   ],
   "source": [
    "# Calcul du score de cross validationn en splitant notre train set en 5 jeux de données\n",
    "# et en testant k_neighbors=1 < 50, k++\n",
    "for k in range(10, 100):\n",
    "    score = cross_val_score(RandomForestClassifier(n_estimators = k), X_train, y_train, cv=5, scoring='accuracy').mean()\n",
    "    val_score_rfc.append(score)\n",
    "    k = k + 10\n",
    "\n",
    "print(val_score_rfc)\n",
    "#Affichage du tableau de valeur des score\n",
    "plt.plot(val_score_rfc)"
   ]
  },
  {
   "cell_type": "markdown",
   "id": "intended-broadcast",
   "metadata": {},
   "source": [
    "## GridSearch CV"
   ]
  },
  {
   "cell_type": "markdown",
   "id": "statutory-monitor",
   "metadata": {},
   "source": [
    "#### GridSearch for Regression Logistic"
   ]
  },
  {
   "cell_type": "code",
   "execution_count": 138,
   "id": "caring-intake",
   "metadata": {},
   "outputs": [
    {
     "data": {
      "text/plain": [
       "{'max_iter': 291}"
      ]
     },
     "execution_count": 138,
     "metadata": {},
     "output_type": "execute_result"
    }
   ],
   "source": [
    "params = {\n",
    "    'max_iter' : np.arange(200,500)\n",
    "}\n",
    "grid = GridSearchCV(SGDClassifier(), param_grid=params, cv=5)\n",
    "grid.fit(X_train, y_train)\n",
    "grid.best_params_"
   ]
  },
  {
   "cell_type": "code",
   "execution_count": 139,
   "id": "adjustable-prediction",
   "metadata": {},
   "outputs": [
    {
     "data": {
      "text/plain": [
       "0.8488831294075101"
      ]
     },
     "execution_count": 139,
     "metadata": {},
     "output_type": "execute_result"
    }
   ],
   "source": [
    "grid.best_score_"
   ]
  },
  {
   "cell_type": "markdown",
   "id": "specific-encyclopedia",
   "metadata": {},
   "source": [
    "#### GridSearch for K voisin"
   ]
  },
  {
   "cell_type": "code",
   "execution_count": 129,
   "id": "racial-mystery",
   "metadata": {},
   "outputs": [
    {
     "data": {
      "text/plain": [
       "{'n_neighbors': 1}"
      ]
     },
     "execution_count": 129,
     "metadata": {},
     "output_type": "execute_result"
    }
   ],
   "source": [
    "params = {\n",
    "    'n_neighbors' : np.arange(1,20)\n",
    "}\n",
    "grid = GridSearchCV(KNeighborsClassifier(), param_grid=params, cv=5)\n",
    "grid.fit(X_train, y_train)\n",
    "grid.best_params_"
   ]
  },
  {
   "cell_type": "code",
   "execution_count": 128,
   "id": "reflected-preliminary",
   "metadata": {},
   "outputs": [
    {
     "data": {
      "text/plain": [
       "0.9682446306230286"
      ]
     },
     "execution_count": 128,
     "metadata": {},
     "output_type": "execute_result"
    }
   ],
   "source": [
    "grid.best_score_"
   ]
  },
  {
   "cell_type": "markdown",
   "id": "synthetic-gothic",
   "metadata": {},
   "source": [
    "#### GridSearch for RandomForestRegression"
   ]
  },
  {
   "cell_type": "code",
   "execution_count": 170,
   "id": "residential-leone",
   "metadata": {},
   "outputs": [
    {
     "data": {
      "text/plain": [
       "{'n_estimators': 75}"
      ]
     },
     "execution_count": 170,
     "metadata": {},
     "output_type": "execute_result"
    }
   ],
   "source": [
    "params = {\n",
    "    'n_estimators' : np.arange(1,100)\n",
    "}\n",
    "grid = GridSearchCV(RandomForestClassifier(), param_grid=params, cv=5)\n",
    "grid.fit(X_train, y_train)\n",
    "grid.best_params_"
   ]
  },
  {
   "cell_type": "code",
   "execution_count": 171,
   "id": "expressed-provision",
   "metadata": {},
   "outputs": [
    {
     "data": {
      "text/plain": [
       "0.9716476804693308"
      ]
     },
     "execution_count": 171,
     "metadata": {},
     "output_type": "execute_result"
    }
   ],
   "source": [
    "grid.best_score_"
   ]
  },
  {
   "cell_type": "code",
   "execution_count": null,
   "id": "orange-essay",
   "metadata": {},
   "outputs": [],
   "source": []
  }
 ],
 "metadata": {
  "kernelspec": {
   "display_name": "Python 3",
   "language": "python",
   "name": "python3"
  },
  "language_info": {
   "codemirror_mode": {
    "name": "ipython",
    "version": 3
   },
   "file_extension": ".py",
   "mimetype": "text/x-python",
   "name": "python",
   "nbconvert_exporter": "python",
   "pygments_lexer": "ipython3",
   "version": "3.8.6"
  }
 },
 "nbformat": 4,
 "nbformat_minor": 5
}
